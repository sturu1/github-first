{
  "nbformat": 4,
  "nbformat_minor": 0,
  "metadata": {
    "colab": {
      "name": "2020.06.10오전수업.ipynb",
      "provenance": [],
      "authorship_tag": "ABX9TyML4b5FmTFQmwfuOx6eamrH",
      "include_colab_link": true
    },
    "kernelspec": {
      "name": "python3",
      "display_name": "Python 3"
    }
  },
  "cells": [
    {
      "cell_type": "markdown",
      "metadata": {
        "id": "view-in-github",
        "colab_type": "text"
      },
      "source": [
        "<a href=\"https://colab.research.google.com/github/sturu1/github-first/blob/master/2020_06_10%EC%98%A4%EC%A0%84%EC%88%98%EC%97%85.ipynb\" target=\"_parent\"><img src=\"https://colab.research.google.com/assets/colab-badge.svg\" alt=\"Open In Colab\"/></a>"
      ]
    },
    {
      "cell_type": "code",
      "metadata": {
        "id": "Z5sUBSkmlhRa",
        "colab_type": "code",
        "colab": {
          "base_uri": "https://localhost:8080/",
          "height": 300
        },
        "outputId": "fd003963-b4fe-4f23-a690-e4a2568c6cc9"
      },
      "source": [
        "# https://pypi.org/project/pytube3/\n",
        "from pytube import YouTube"
      ],
      "execution_count": 2,
      "outputs": [
        {
          "output_type": "error",
          "ename": "ModuleNotFoundError",
          "evalue": "ignored",
          "traceback": [
            "\u001b[0;31m---------------------------------------------------------------------------\u001b[0m",
            "\u001b[0;31mModuleNotFoundError\u001b[0m                       Traceback (most recent call last)",
            "\u001b[0;32m<ipython-input-2-d870886f26f1>\u001b[0m in \u001b[0;36m<module>\u001b[0;34m()\u001b[0m\n\u001b[0;32m----> 1\u001b[0;31m \u001b[0;32mfrom\u001b[0m \u001b[0mpytube\u001b[0m \u001b[0;32mimport\u001b[0m \u001b[0mYouTube\u001b[0m\u001b[0;34m\u001b[0m\u001b[0;34m\u001b[0m\u001b[0m\n\u001b[0m",
            "\u001b[0;31mModuleNotFoundError\u001b[0m: No module named 'pytube'",
            "",
            "\u001b[0;31m---------------------------------------------------------------------------\u001b[0;32m\nNOTE: If your import is failing due to a missing package, you can\nmanually install dependencies using either !pip or !apt.\n\nTo view examples of installing some common dependencies, click the\n\"Open Examples\" button below.\n\u001b[0;31m---------------------------------------------------------------------------\u001b[0m\n"
          ]
        }
      ]
    },
    {
      "cell_type": "markdown",
      "metadata": {
        "id": "k8fv2aZ9pbkA",
        "colab_type": "text"
      },
      "source": [
        "오늘꺼는 다 파이썬으로"
      ]
    },
    {
      "cell_type": "code",
      "metadata": {
        "id": "neKaYU6kl5Ev",
        "colab_type": "code",
        "colab": {
          "base_uri": "https://localhost:8080/",
          "height": 34
        },
        "outputId": "aa1a9126-152c-49ce-ed59-3b4b99af22e6"
      },
      "source": [
        "array= []\n",
        "for i in range(0, 20, 2):\n",
        "\tarray.append(i * i)\n",
        "\n",
        "print(array)"
      ],
      "execution_count": 1,
      "outputs": [
        {
          "output_type": "stream",
          "text": [
            "[0, 4, 16, 36, 64, 100, 144, 196, 256, 324]\n"
          ],
          "name": "stdout"
        }
      ]
    },
    {
      "cell_type": "code",
      "metadata": {
        "id": "pY9IZdWZpjmW",
        "colab_type": "code",
        "colab": {
          "base_uri": "https://localhost:8080/",
          "height": 34
        },
        "outputId": "c14f7e77-b7b2-44ca-9001-2082955ae82c"
      },
      "source": [
        "array = [ i * i for i in range(0, 20, 2)]\n",
        "print(array)"
      ],
      "execution_count": 2,
      "outputs": [
        {
          "output_type": "stream",
          "text": [
            "[0, 4, 16, 36, 64, 100, 144, 196, 256, 324]\n"
          ],
          "name": "stdout"
        }
      ]
    },
    {
      "cell_type": "markdown",
      "metadata": {
        "id": "pFvZaDXbqR6Y",
        "colab_type": "text"
      },
      "source": [
        "조건을 활용한 리스트 내포\n",
        "리스트이름 = [ 표현식 for 반복자 in 반복할수잇는것 if 조건문]"
      ]
    },
    {
      "cell_type": "code",
      "metadata": {
        "id": "HyeTG0whqB5v",
        "colab_type": "code",
        "colab": {
          "base_uri": "https://localhost:8080/",
          "height": 34
        },
        "outputId": "d16aff0c-adde-4e5e-f9ed-f286001affce"
      },
      "source": [
        "array = [\"사과\", \"자두\", \"초콜릿\", \"바나나\", \"체리\"]\n",
        "output = [fruit for fruit in array if fruit !=\"초콜릿\"]\n",
        "print(output)"
      ],
      "execution_count": 3,
      "outputs": [
        {
          "output_type": "stream",
          "text": [
            "['사과', '자두', '바나나', '체리']\n"
          ],
          "name": "stdout"
        }
      ]
    },
    {
      "cell_type": "markdown",
      "metadata": {
        "id": "1yYc3ASRrQrP",
        "colab_type": "text"
      },
      "source": [
        "enumerate()함수, items()함수 사용법 - 딕셔너리.items()"
      ]
    },
    {
      "cell_type": "markdown",
      "metadata": {
        "id": "xzJgSYGVr_3G",
        "colab_type": "text"
      },
      "source": [
        "def 함수 이름():\n",
        "\n",
        "------문장"
      ]
    },
    {
      "cell_type": "code",
      "metadata": {
        "id": "Msg4W-1Rq9Vh",
        "colab_type": "code",
        "colab": {
          "base_uri": "https://localhost:8080/",
          "height": 51
        },
        "outputId": "cae0bfa5-63b8-471d-8577-c93cfa1d1974"
      },
      "source": [
        "def print_2_times():\n",
        "\tprint(\"안녕하세요\")\n",
        "\tprint(\"안녕하세요\")\n",
        " \n",
        "print_2_times()"
      ],
      "execution_count": 4,
      "outputs": [
        {
          "output_type": "stream",
          "text": [
            "안녕하세요\n",
            "안녕하세요\n"
          ],
          "name": "stdout"
        }
      ]
    },
    {
      "cell_type": "code",
      "metadata": {
        "id": "J-XA6QcxtQss",
        "colab_type": "code",
        "colab": {
          "base_uri": "https://localhost:8080/",
          "height": 187
        },
        "outputId": "263d63ed-c47e-4a65-be64-50e68c2c0d16"
      },
      "source": [
        "def print_n_times(value, n):\n",
        "\tfor i in range(n):\n",
        "\t\tprint(value)\n",
        "  \n",
        "print_n_times(\"인공지능\", 10)"
      ],
      "execution_count": 5,
      "outputs": [
        {
          "output_type": "stream",
          "text": [
            "인공지능\n",
            "인공지능\n",
            "인공지능\n",
            "인공지능\n",
            "인공지능\n",
            "인공지능\n",
            "인공지능\n",
            "인공지능\n",
            "인공지능\n",
            "인공지능\n"
          ],
          "name": "stdout"
        }
      ]
    },
    {
      "cell_type": "markdown",
      "metadata": {
        "id": "QUuxkeN-tx2-",
        "colab_type": "text"
      },
      "source": [
        "매개변수 넣지 않은 경우"
      ]
    },
    {
      "cell_type": "code",
      "metadata": {
        "id": "00FP89Xztt2r",
        "colab_type": "code",
        "colab": {}
      },
      "source": [
        ""
      ],
      "execution_count": 0,
      "outputs": []
    },
    {
      "cell_type": "markdown",
      "metadata": {
        "id": "XACFh_38uN-1",
        "colab_type": "text"
      },
      "source": [
        "매개변수를 더 많이 넣은 경우"
      ]
    },
    {
      "cell_type": "code",
      "metadata": {
        "id": "ql8H0Y8WyPMh",
        "colab_type": "code",
        "colab": {}
      },
      "source": [
        ""
      ],
      "execution_count": 0,
      "outputs": []
    },
    {
      "cell_type": "markdown",
      "metadata": {
        "id": "133bpczyyOO7",
        "colab_type": "text"
      },
      "source": [
        "가변 매개변수 - 매개변수를 원하는만큼 받을수잇는 함수\n",
        "\n",
        "\n",
        "def 함수 이름 (매개변수, 매개변수,....., *가변 매개변수):\n",
        "\n",
        "------문장"
      ]
    },
    {
      "cell_type": "code",
      "metadata": {
        "id": "bu5J4LM0yUnd",
        "colab_type": "code",
        "colab": {
          "base_uri": "https://localhost:8080/",
          "height": 221
        },
        "outputId": "c28788ea-b27b-4e18-c9fc-5558f52af42e"
      },
      "source": [
        "def print_n_times(n, *values):\n",
        "\t#n번 반복합니다\n",
        "\tfor i in range(n):\n",
        "\t\t#values는 리스트처럼 활용\n",
        "\t\tfor value in values:\n",
        "\t\t\tprint(value)\n",
        "\t\tprint()\n",
        "  \n",
        "print_n_times(3, \"안녕하세요\", \"즐거운\", \"인공지능\")"
      ],
      "execution_count": 7,
      "outputs": [
        {
          "output_type": "stream",
          "text": [
            "안녕하세요\n",
            "즐거운\n",
            "인공지능\n",
            "\n",
            "안녕하세요\n",
            "즐거운\n",
            "인공지능\n",
            "\n",
            "안녕하세요\n",
            "즐거운\n",
            "인공지능\n",
            "\n"
          ],
          "name": "stdout"
        }
      ]
    },
    {
      "cell_type": "markdown",
      "metadata": {
        "id": "N3TKGYQ0z23a",
        "colab_type": "text"
      },
      "source": [
        "기본 매개변수\n",
        "매개변수 값 입력하지 않앗을 경우 매개변수에 들어가는 기본값\n",
        "\n",
        "print(value,.., sep=' ', file=sys.stdout~~~~~"
      ]
    },
    {
      "cell_type": "code",
      "metadata": {
        "id": "sOa1EdLAycXT",
        "colab_type": "code",
        "colab": {
          "base_uri": "https://localhost:8080/",
          "height": 51
        },
        "outputId": "bc71c181-51f3-451b-b020-04c848d2d3a4"
      },
      "source": [
        "def print_n_times(value, n=2):\n",
        "\tfor i in range(n):\n",
        "\t\tprint(value)\n",
        "  \n",
        "print_n_times(\"경일대학교\")"
      ],
      "execution_count": 8,
      "outputs": [
        {
          "output_type": "stream",
          "text": [
            "경일대학교\n",
            "경일대학교\n"
          ],
          "name": "stdout"
        }
      ]
    },
    {
      "cell_type": "code",
      "metadata": {
        "id": "AGGvU-Ve0ZhM",
        "colab_type": "code",
        "colab": {
          "base_uri": "https://localhost:8080/",
          "height": 51
        },
        "outputId": "aaab0428-3668-4133-b9e8-f7e055f31dfe"
      },
      "source": [
        "def print_n_times(value=\"안녕하세요\" , n=2):\n",
        "\tfor i in range(n):\n",
        "\t\tprint(value)\n",
        "  \n",
        "print_n_times()"
      ],
      "execution_count": 9,
      "outputs": [
        {
          "output_type": "stream",
          "text": [
            "안녕하세요\n",
            "안녕하세요\n"
          ],
          "name": "stdout"
        }
      ]
    },
    {
      "cell_type": "markdown",
      "metadata": {
        "id": "kyHBZmhj0xHq",
        "colab_type": "text"
      },
      "source": [
        "가변 매개변수가 기본 매개변수보다 앞에 올때\n",
        "\n",
        "\n",
        "기본매개변수의 의미가 사라짐"
      ]
    },
    {
      "cell_type": "code",
      "metadata": {
        "id": "s56fFYGS0vyQ",
        "colab_type": "code",
        "colab": {
          "base_uri": "https://localhost:8080/",
          "height": 317
        },
        "outputId": "9f0c6bd8-0a3d-4498-b100-0cfc8c1a5286"
      },
      "source": [
        "def print_n_times(n=2, *values):\n",
        "\tfor i in range(n):\n",
        "\t\tfor value in values:\n",
        "\t\t\tprint(value)\n",
        "\t\tprint()\n",
        "  \n",
        "print_n_times(\"경일대학교\", \"안녕\")\n",
        "#정상임"
      ],
      "execution_count": 10,
      "outputs": [
        {
          "output_type": "error",
          "ename": "TypeError",
          "evalue": "ignored",
          "traceback": [
            "\u001b[0;31m---------------------------------------------------------------------------\u001b[0m",
            "\u001b[0;31mTypeError\u001b[0m                                 Traceback (most recent call last)",
            "\u001b[0;32m<ipython-input-10-df1d90ddf1c9>\u001b[0m in \u001b[0;36m<module>\u001b[0;34m()\u001b[0m\n\u001b[1;32m      5\u001b[0m                 \u001b[0mprint\u001b[0m\u001b[0;34m(\u001b[0m\u001b[0;34m)\u001b[0m\u001b[0;34m\u001b[0m\u001b[0;34m\u001b[0m\u001b[0m\n\u001b[1;32m      6\u001b[0m \u001b[0;34m\u001b[0m\u001b[0m\n\u001b[0;32m----> 7\u001b[0;31m \u001b[0mprint_n_times\u001b[0m\u001b[0;34m(\u001b[0m\u001b[0;34m\"경일대학교\"\u001b[0m\u001b[0;34m,\u001b[0m \u001b[0;34m\"안녕\"\u001b[0m\u001b[0;34m)\u001b[0m\u001b[0;34m\u001b[0m\u001b[0;34m\u001b[0m\u001b[0m\n\u001b[0m",
            "\u001b[0;32m<ipython-input-10-df1d90ddf1c9>\u001b[0m in \u001b[0;36mprint_n_times\u001b[0;34m(n, *values)\u001b[0m\n\u001b[1;32m      1\u001b[0m \u001b[0;32mdef\u001b[0m \u001b[0mprint_n_times\u001b[0m\u001b[0;34m(\u001b[0m\u001b[0mn\u001b[0m\u001b[0;34m=\u001b[0m\u001b[0;36m2\u001b[0m\u001b[0;34m,\u001b[0m \u001b[0;34m*\u001b[0m\u001b[0mvalues\u001b[0m\u001b[0;34m)\u001b[0m\u001b[0;34m:\u001b[0m\u001b[0;34m\u001b[0m\u001b[0;34m\u001b[0m\u001b[0m\n\u001b[0;32m----> 2\u001b[0;31m         \u001b[0;32mfor\u001b[0m \u001b[0mi\u001b[0m \u001b[0;32min\u001b[0m \u001b[0mrange\u001b[0m\u001b[0;34m(\u001b[0m\u001b[0mn\u001b[0m\u001b[0;34m)\u001b[0m\u001b[0;34m:\u001b[0m\u001b[0;34m\u001b[0m\u001b[0;34m\u001b[0m\u001b[0m\n\u001b[0m\u001b[1;32m      3\u001b[0m                 \u001b[0;32mfor\u001b[0m \u001b[0mvalue\u001b[0m \u001b[0;32min\u001b[0m \u001b[0mvalues\u001b[0m\u001b[0;34m:\u001b[0m\u001b[0;34m\u001b[0m\u001b[0;34m\u001b[0m\u001b[0m\n\u001b[1;32m      4\u001b[0m                         \u001b[0mprint\u001b[0m\u001b[0;34m(\u001b[0m\u001b[0mvalue\u001b[0m\u001b[0;34m)\u001b[0m\u001b[0;34m\u001b[0m\u001b[0;34m\u001b[0m\u001b[0m\n\u001b[1;32m      5\u001b[0m                 \u001b[0mprint\u001b[0m\u001b[0;34m(\u001b[0m\u001b[0;34m)\u001b[0m\u001b[0;34m\u001b[0m\u001b[0;34m\u001b[0m\u001b[0m\n",
            "\u001b[0;31mTypeError\u001b[0m: 'str' object cannot be interpreted as an integer"
          ]
        }
      ]
    },
    {
      "cell_type": "markdown",
      "metadata": {
        "id": "8n5CTndw2E8h",
        "colab_type": "text"
      },
      "source": [
        "가변 매개변수가 기본 매개변수보다 앞에 올때\n",
        "\n",
        "가변 매개변수가 우선됨"
      ]
    },
    {
      "cell_type": "code",
      "metadata": {
        "id": "Zk74IwsY2DNG",
        "colab_type": "code",
        "colab": {
          "base_uri": "https://localhost:8080/",
          "height": 221
        },
        "outputId": "8fe5df41-d3b4-4579-ad1a-79db4da87d4b"
      },
      "source": [
        "def print_n_times(*values, n=2):\n",
        "\tfor i in range(n):\n",
        "\t\tfor value in values:\n",
        "\t\t\tprint(value)\n",
        "\t\tprint()\n",
        "  \n",
        "print_n_times(\"경일대학교\", 3)\n",
        "print_n_times(\"경일대학교\", n = 3)\n"
      ],
      "execution_count": 11,
      "outputs": [
        {
          "output_type": "stream",
          "text": [
            "경일대학교\n",
            "3\n",
            "\n",
            "경일대학교\n",
            "3\n",
            "\n",
            "경일대학교\n",
            "\n",
            "경일대학교\n",
            "\n",
            "경일대학교\n",
            "\n"
          ],
          "name": "stdout"
        }
      ]
    },
    {
      "cell_type": "markdown",
      "metadata": {
        "id": "zUJl6RXr28rA",
        "colab_type": "text"
      },
      "source": [
        "기본 매개변수 중에서 필요한 값만 입력\n",
        "\n",
        "여러 함수 호출 상태"
      ]
    },
    {
      "cell_type": "code",
      "metadata": {
        "id": "ZMZmJhw52n6T",
        "colab_type": "code",
        "colab": {
          "base_uri": "https://localhost:8080/",
          "height": 85
        },
        "outputId": "e301a09b-8fb4-4461-be66-e62fd9363e77"
      },
      "source": [
        "def test(a, b=10, c=100):\n",
        "\tprint(a + b + c)\n",
        " \n",
        "test(10, 20, 30)\n",
        "test(a=10, b=100, c=200)\n",
        "test(c=10, a=100, b=200)\n",
        "test(10, c=200)"
      ],
      "execution_count": 12,
      "outputs": [
        {
          "output_type": "stream",
          "text": [
            "60\n",
            "310\n",
            "310\n",
            "220\n"
          ],
          "name": "stdout"
        }
      ]
    },
    {
      "cell_type": "markdown",
      "metadata": {
        "id": "OyZOF1mn3_oP",
        "colab_type": "text"
      },
      "source": [
        "리턴값 (return value)\n",
        "\n",
        "함수의 결과"
      ]
    },
    {
      "cell_type": "code",
      "metadata": {
        "id": "u9YljMh23uqx",
        "colab_type": "code",
        "colab": {
          "base_uri": "https://localhost:8080/",
          "height": 34
        },
        "outputId": "cc709fb4-ed4a-4f4e-c375-df312d1089ec"
      },
      "source": [
        "vlaue = input(\">\")"
      ],
      "execution_count": 13,
      "outputs": [
        {
          "output_type": "stream",
          "text": [
            ">2\n"
          ],
          "name": "stdout"
        }
      ]
    },
    {
      "cell_type": "markdown",
      "metadata": {
        "id": "1j5Wk_lf4K90",
        "colab_type": "text"
      },
      "source": [
        "자료없이 리턴하기\n",
        "\n",
        "return 키워드: 함수를 실행햇던 위치로 돌아가게함"
      ]
    },
    {
      "cell_type": "code",
      "metadata": {
        "id": "bO1fZLj64JKL",
        "colab_type": "code",
        "colab": {
          "base_uri": "https://localhost:8080/",
          "height": 34
        },
        "outputId": "e5ba28e2-ce79-4139-f38b-4f8aef183833"
      },
      "source": [
        "def return_test():\n",
        "\tprint(\"A위치입니다.\")\n",
        "\treturn\n",
        "\tprint(\"B위치입니다.\")\n",
        "\n",
        "return_test()"
      ],
      "execution_count": 16,
      "outputs": [
        {
          "output_type": "stream",
          "text": [
            "A위치입니다.\n"
          ],
          "name": "stdout"
        }
      ]
    },
    {
      "cell_type": "markdown",
      "metadata": {
        "id": "pvvYT7ZC5IK6",
        "colab_type": "text"
      },
      "source": [
        "자료와 함께 리턴하기\n",
        "\n",
        "리턴뒤에 자료 입력하면 자료 가지고 돌아감"
      ]
    },
    {
      "cell_type": "code",
      "metadata": {
        "id": "JzCNnour4smx",
        "colab_type": "code",
        "colab": {
          "base_uri": "https://localhost:8080/",
          "height": 34
        },
        "outputId": "1703d325-8a21-48db-8b40-c1f8d5f89dfd"
      },
      "source": [
        "def return_test():\n",
        "\treturn 100\n",
        "\n",
        "value = return_test()\n",
        "print(value)"
      ],
      "execution_count": 17,
      "outputs": [
        {
          "output_type": "stream",
          "text": [
            "100\n"
          ],
          "name": "stdout"
        }
      ]
    },
    {
      "cell_type": "code",
      "metadata": {
        "id": "mkpNzuzr5uF8",
        "colab_type": "code",
        "colab": {}
      },
      "source": [
        "def return_test(n):\n",
        "\treturn n * n\n",
        "\n",
        "print(return_test(10))"
      ],
      "execution_count": 0,
      "outputs": []
    },
    {
      "cell_type": "code",
      "metadata": {
        "id": "u27GdT_i6BeP",
        "colab_type": "code",
        "colab": {
          "base_uri": "https://localhost:8080/",
          "height": 51
        },
        "outputId": "86112635-9195-4c2e-b9f0-003072976bd6"
      },
      "source": [
        "def return_test():\n",
        "\tprint(\"안녕하세요\")\n",
        "\treturn\n",
        "\tprint(\"반갑습니다.\")\n",
        " \n",
        "value = return_test()\n",
        "print(value)"
      ],
      "execution_count": 18,
      "outputs": [
        {
          "output_type": "stream",
          "text": [
            "안녕하세요\n",
            "None\n"
          ],
          "name": "stdout"
        }
      ]
    },
    {
      "cell_type": "markdown",
      "metadata": {
        "id": "ka8MqsLR6WG6",
        "colab_type": "text"
      },
      "source": [
        "일반적인 형태\n",
        "\n",
        "값을 만들어 리턴\n",
        "\n",
        "def 함수(매개변수):\n",
        "\n",
        "\n",
        "------변수 = 초깃값\n",
        "\n",
        "\n",
        "------#여러가지 처리\n",
        "\n",
        "\n",
        "------#여러가지 처리\n",
        "\n",
        "\n",
        "------#여러가지 처리\n",
        "\n",
        "\n",
        "------#여러가지 처리\n",
        "\n",
        "\n",
        "------return 변수"
      ]
    },
    {
      "cell_type": "markdown",
      "metadata": {
        "id": "hwp9Ajkl6q3u",
        "colab_type": "text"
      },
      "source": [
        "범위 내부의 정수르 모두 더하는 함수"
      ]
    },
    {
      "cell_type": "code",
      "metadata": {
        "id": "FPXmD8p56EBd",
        "colab_type": "code",
        "colab": {
          "base_uri": "https://localhost:8080/",
          "height": 34
        },
        "outputId": "246f3f1a-99a0-463b-a30c-366454e6e6cf"
      },
      "source": [
        "def sum_all(start, end):\n",
        "\toutput = 0\n",
        "\tfor i in range(start, end + 1):\n",
        "\t\toutput += i\n",
        "\treturn output\n",
        "\n",
        "sum_all(50, 500)\n",
        "\n",
        "sum_all(50, 100)"
      ],
      "execution_count": 19,
      "outputs": [
        {
          "output_type": "execute_result",
          "data": {
            "text/plain": [
              "3825"
            ]
          },
          "metadata": {
            "tags": []
          },
          "execution_count": 19
        }
      ]
    },
    {
      "cell_type": "markdown",
      "metadata": {
        "id": "NFq6AyX87p3F",
        "colab_type": "text"
      },
      "source": [
        "기본 매개변수와 키워드 매개변수를 활용해 범위의 정수를 더하는 함수"
      ]
    },
    {
      "cell_type": "code",
      "metadata": {
        "id": "5Jh0p3jV7bay",
        "colab_type": "code",
        "colab": {}
      },
      "source": [
        "def sum_all(start=0, end=100, step=1):\n",
        "\toutput = 0\n",
        "\tfor i in range(start, end + 1, step):\n",
        "\t\toutput += i\n",
        "\treturn output\n",
        "\n",
        "sum_all()\n",
        "\n",
        "100 * 101 / 2\n",
        "\n",
        "100 * 101 //2"
      ],
      "execution_count": 0,
      "outputs": []
    },
    {
      "cell_type": "code",
      "metadata": {
        "id": "wppjOQP-9yiu",
        "colab_type": "code",
        "colab": {
          "base_uri": "https://localhost:8080/",
          "height": 34
        },
        "outputId": "53de51a9-0cc2-42c8-fde3-632c691ea4a2"
      },
      "source": [
        "def f(x):\n",
        "\treturn 2 * x + 1\n",
        "\n",
        "f(1)\n",
        "\n",
        "f(10)\n"
      ],
      "execution_count": 20,
      "outputs": [
        {
          "output_type": "execute_result",
          "data": {
            "text/plain": [
              "21"
            ]
          },
          "metadata": {
            "tags": []
          },
          "execution_count": 20
        }
      ]
    },
    {
      "cell_type": "code",
      "metadata": {
        "id": "RTUOO3rT94o-",
        "colab_type": "code",
        "colab": {
          "base_uri": "https://localhost:8080/",
          "height": 34
        },
        "outputId": "3b8fc76c-6f59-4a97-a3c9-cf594c00fc62"
      },
      "source": [
        "def f(x):\n",
        "\treturn x * x + 2 * x + 1\n",
        "\n",
        "f(10)"
      ],
      "execution_count": 21,
      "outputs": [
        {
          "output_type": "execute_result",
          "data": {
            "text/plain": [
              "121"
            ]
          },
          "metadata": {
            "tags": []
          },
          "execution_count": 21
        }
      ]
    },
    {
      "cell_type": "markdown",
      "metadata": {
        "id": "WEwAUceJ-mCc",
        "colab_type": "text"
      },
      "source": [
        ""
      ]
    },
    {
      "cell_type": "code",
      "metadata": {
        "id": "2-dziNbk-166",
        "colab_type": "code",
        "colab": {}
      },
      "source": [
        "def mul(*values):\n",
        "\toutput = 1\n",
        "\tfor value in values:\n",
        "\t\toutput *= value\n",
        "\treturn output\n",
        "\n",
        "mul(5, 6, 7, 8)\n",
        "\n",
        "mul(1, 1, 1, 1)"
      ],
      "execution_count": 0,
      "outputs": []
    },
    {
      "cell_type": "code",
      "metadata": {
        "id": "psFlgtZH95Su",
        "colab_type": "code",
        "colab": {
          "base_uri": "https://localhost:8080/",
          "height": 198
        },
        "outputId": "9adb6fb6-ff6d-48cd-cd3c-c01f15feb47d"
      },
      "source": [
        "#오류발생하는 코드\n",
        "def function(*values, valueA, valueB):\n",
        "  pass\n",
        "function(1, 2, 3, 4, 5)"
      ],
      "execution_count": 22,
      "outputs": [
        {
          "output_type": "error",
          "ename": "TypeError",
          "evalue": "ignored",
          "traceback": [
            "\u001b[0;31m---------------------------------------------------------------------------\u001b[0m",
            "\u001b[0;31mTypeError\u001b[0m                                 Traceback (most recent call last)",
            "\u001b[0;32m<ipython-input-22-3cedb0158122>\u001b[0m in \u001b[0;36m<module>\u001b[0;34m()\u001b[0m\n\u001b[1;32m      2\u001b[0m \u001b[0;32mdef\u001b[0m \u001b[0mfunction\u001b[0m\u001b[0;34m(\u001b[0m\u001b[0;34m*\u001b[0m\u001b[0mvalues\u001b[0m\u001b[0;34m,\u001b[0m \u001b[0mvalueA\u001b[0m\u001b[0;34m,\u001b[0m \u001b[0mvalueB\u001b[0m\u001b[0;34m)\u001b[0m\u001b[0;34m:\u001b[0m\u001b[0;34m\u001b[0m\u001b[0;34m\u001b[0m\u001b[0m\n\u001b[1;32m      3\u001b[0m   \u001b[0;32mpass\u001b[0m\u001b[0;34m\u001b[0m\u001b[0;34m\u001b[0m\u001b[0m\n\u001b[0;32m----> 4\u001b[0;31m \u001b[0mfunction\u001b[0m\u001b[0;34m(\u001b[0m\u001b[0;36m1\u001b[0m\u001b[0;34m,\u001b[0m \u001b[0;36m2\u001b[0m\u001b[0;34m,\u001b[0m \u001b[0;36m3\u001b[0m\u001b[0;34m,\u001b[0m \u001b[0;36m4\u001b[0m\u001b[0;34m,\u001b[0m \u001b[0;36m5\u001b[0m\u001b[0;34m)\u001b[0m\u001b[0;34m\u001b[0m\u001b[0;34m\u001b[0m\u001b[0m\n\u001b[0m",
            "\u001b[0;31mTypeError\u001b[0m: function() missing 2 required keyword-only arguments: 'valueA' and 'valueB'"
          ]
        }
      ]
    },
    {
      "cell_type": "markdown",
      "metadata": {
        "id": "jXMGwtRmCx1q",
        "colab_type": "text"
      },
      "source": [
        "재귀 함수\n",
        "\n",
        "팩토리얼 factorial()"
      ]
    },
    {
      "cell_type": "markdown",
      "metadata": {
        "id": "cfPg_F8-D4bJ",
        "colab_type": "text"
      },
      "source": [
        "반복문 팩토리얼"
      ]
    },
    {
      "cell_type": "code",
      "metadata": {
        "id": "WcLKCLzPA4rt",
        "colab_type": "code",
        "colab": {
          "base_uri": "https://localhost:8080/",
          "height": 34
        },
        "outputId": "e0f02155-ff3a-40e0-bb96-6e7622b5a891"
      },
      "source": [
        "#함수 선언\n",
        "def factorial(n):\n",
        "  #변수 선언\n",
        "\toutput = 1\n",
        "  #반복문을 돌려 숫자를 더한다\n",
        "\tfor i in range(1, n+1):\n",
        "\t\toutput *= i\n",
        "    #리턴\n",
        "\treturn output\n",
        "\n",
        "#변수 호출\n",
        "factorial(10)\n",
        "\n",
        "factorial(30)"
      ],
      "execution_count": 23,
      "outputs": [
        {
          "output_type": "execute_result",
          "data": {
            "text/plain": [
              "265252859812191058636308480000000"
            ]
          },
          "metadata": {
            "tags": []
          },
          "execution_count": 23
        }
      ]
    },
    {
      "cell_type": "markdown",
      "metadata": {
        "id": "SqIf5W5FD7EZ",
        "colab_type": "text"
      },
      "source": [
        "재귀함수로 팩토리얼 구하기\n",
        "\n",
        "n! = n * (n - 1) * (n -2) * "
      ]
    },
    {
      "cell_type": "code",
      "metadata": {
        "id": "PRrikYU_D6K3",
        "colab_type": "code",
        "colab": {}
      },
      "source": [
        "def factorial(n):\n",
        "\tif n == 0:\n",
        "\t\treturn 1\n",
        "\telse:\n",
        "\t\treturn n * factorial(n -1)\n",
        "\n",
        "\t\n",
        "factorial(10)"
      ],
      "execution_count": 0,
      "outputs": []
    },
    {
      "cell_type": "markdown",
      "metadata": {
        "id": "uJgR77voHitx",
        "colab_type": "text"
      },
      "source": [
        "피보나치 함수 fibonacci()"
      ]
    },
    {
      "cell_type": "code",
      "metadata": {
        "id": "oPo88pQHEjz9",
        "colab_type": "code",
        "colab": {}
      },
      "source": [
        "def fib(n):\n",
        "\tprint(\"fib({})을 구합니다..\".format(n))\n",
        "\tglobal counter\n",
        "\tcounter += 1\n",
        "\tif n == 1:\n",
        "\t\treturn 1\n",
        "\tif n == 2:\n",
        "\t\treturn 1\n",
        "\telse:\n",
        "\t\treturn fib(n-1) + fib(n-2)\n",
        "\n",
        "counter = 0\n",
        "\n",
        "fib(20)"
      ],
      "execution_count": 0,
      "outputs": []
    },
    {
      "cell_type": "markdown",
      "metadata": {
        "id": "WOyHd4S3H59p",
        "colab_type": "text"
      },
      "source": [
        "메모화\n",
        "\n",
        "\n",
        "같은 값을 한번만 계산하도록 코드 수정"
      ]
    },
    {
      "cell_type": "code",
      "metadata": {
        "id": "yQXryIFJH-xd",
        "colab_type": "code",
        "colab": {}
      },
      "source": [
        "def fibonacci(n):\n",
        "\tif n in dictionary:\n",
        "\t\treturn dictionary[n]\n",
        "\telse:\n",
        "\t\toutput = fibonacci(n-1) + fibonacci(n-2)\n",
        "\t\tdictionary[n] = output\n",
        "\t\treturn output\n",
        "\n",
        "\t\n",
        "fibonacci(10)\n",
        "\n",
        "fibonacci(30)\n",
        "\n",
        "fibonacci(50)"
      ],
      "execution_count": 0,
      "outputs": []
    },
    {
      "cell_type": "markdown",
      "metadata": {
        "id": "hhjfNZFXJgD2",
        "colab_type": "text"
      },
      "source": [
        "조기 리턴 early return\n",
        "\n",
        "흐름 중간에 return사용\n",
        "\n"
      ]
    },
    {
      "cell_type": "markdown",
      "metadata": {
        "id": "HSp1gNiOKDp-",
        "colab_type": "text"
      },
      "source": [
        ""
      ]
    }
  ]
}