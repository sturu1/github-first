{
  "nbformat": 4,
  "nbformat_minor": 0,
  "metadata": {
    "colab": {
      "name": "2020.06.08오후수업- 회귀.ipynb",
      "provenance": [],
      "authorship_tag": "ABX9TyN2rLKkdv9oPYooVkqivZgq",
      "include_colab_link": true
    },
    "kernelspec": {
      "name": "python3",
      "display_name": "Python 3"
    }
  },
  "cells": [
    {
      "cell_type": "markdown",
      "metadata": {
        "id": "view-in-github",
        "colab_type": "text"
      },
      "source": [
        "<a href=\"https://colab.research.google.com/github/sturu1/github-first/blob/master/2020_06_08%EC%98%A4%ED%9B%84%EC%88%98%EC%97%85_%ED%9A%8C%EA%B7%80.ipynb\" target=\"_parent\"><img src=\"https://colab.research.google.com/assets/colab-badge.svg\" alt=\"Open In Colab\"/></a>"
      ]
    },
    {
      "cell_type": "code",
      "metadata": {
        "id": "9unN9lMZWtAb",
        "colab_type": "code",
        "colab": {
          "base_uri": "https://localhost:8080/",
          "height": 316
        },
        "outputId": "348f24a2-ae9d-4752-92c2-b0792efc20f2"
      },
      "source": [
        "import matplotlib.pyplot as plt\n",
        "\n",
        "def linearModel(w, b, x):  #기울기(w), y-절편(b), 입력(x)\n",
        "  y = w * x + b\n",
        "  return y\n",
        "\n",
        "#특정 x값이 입력되면, 변수w,b에 의해 변하는 y들을 구해보는 함수\n",
        "def getLinearSamples(w, b):\n",
        "  x_domain = [1, 2, 3, 4, 5]\n",
        "  y_range = []  #빈 list로 초기화\n",
        "\n",
        "  for x in x_domain:\n",
        "    y_estimated = linearModel(w, b, x) #추정된 y\n",
        "    y_range.append(y_estimated)\n",
        "\n",
        "  #x_domain, y_range\n",
        "  print(\"데이터 모양\", len(x_domain), len(y_range))\n",
        "\n",
        "  return x_domain, y_range\n",
        "#데이터와 가설(직선)과 전체적인 오차를 구해봄\n",
        "def getCost(w, b, xSet, ySet):\n",
        "  sampleN = len(ySet)\n",
        "  errorSum = 0\n",
        "# 오차 모두 더하기\n",
        "  for i in range(sampleN):\n",
        "    #데이터 하나마다의 오차 error = ly - y_estmatedl \n",
        "    error = abs(ySet[i] - linearModel(w, b, xSet[i]))\n",
        "    errorSum = errorSum + error\n",
        "\n",
        "#더해진 오차 평균취하기\n",
        "  avrError = errorSum / sampleN\n",
        "\n",
        "  return avrError\n",
        "#------------윗부분에는 함수정의, 아래부분에는 함수활용\n",
        "\n",
        "x = [1, 2, 3, 4, 5] #방의 개수\n",
        "y = [0.5, 0.9, 1.3, 1.7, 2.1] # 집 값\n",
        "\n",
        "plt.plot(x, y, 'ko') #검은색 점\n",
        "\n",
        "Ny = len(y) #데이터셋의 개수\n",
        "\n",
        "# w와 b를 바꿔보세요\n",
        "w = 0.4\n",
        "b = 0.1\n",
        "\n",
        "#우리의 가설(직선)로 부터 얻은 샘플\n",
        "#samples = [x_domain, y_range]\n",
        "samples = getLinearSamples(w, b)\n",
        "totalCost = getCost(w, b, x, y)\n",
        "print(\"전체오차\", totalCost)\n",
        "\n",
        "# x = samples[0], y = samples[1] \n",
        "plt.plot(samples[0], samples[1], 'b--')   # x, y\n",
        "\n",
        "linearModel (w, b, 40)"
      ],
      "execution_count": 45,
      "outputs": [
        {
          "output_type": "stream",
          "text": [
            "데이터 모양 5 5\n",
            "전체오차 8.881784197001253e-17\n"
          ],
          "name": "stdout"
        },
        {
          "output_type": "execute_result",
          "data": {
            "text/plain": [
              "16.1"
            ]
          },
          "metadata": {
            "tags": []
          },
          "execution_count": 45
        },
        {
          "output_type": "display_data",
          "data": {
            "image/png": "[encoded data removed]",
            "text/plain": [
              "<Figure size 432x288 with 1 Axes>"
            ]
          },
          "metadata": {
            "tags": [],
            "needs_background": "light"
          }
        }
      ]
    },
    {
      "cell_type": "markdown",
      "metadata": {
        "id": "zAbpmFNUqO9h",
        "colab_type": "text"
      },
      "source": [
        "#활성함수를 구현해보기\n",
        "sigmoid함수,  tanh함수, ReLU함수를 구현해보기\n"
      ]
    },
    {
      "cell_type": "code",
      "metadata": {
        "id": "xiGIEbEdqWr7",
        "colab_type": "code",
        "colab": {
          "base_uri": "https://localhost:8080/",
          "height": 370
        },
        "outputId": "8c6d5658-34d6-48cd-ff2e-61f80419e48e"
      },
      "source": [
        "import math #자연상수 e\n",
        "import matplotlib.pyplot as plt\n",
        "\n",
        "def sigmoid(x):\n",
        "  result = 1 / (1 + math.exp(-x))\n",
        "  return result\n",
        "\n",
        "def tanh(x):\n",
        "  result = (math.exp(x) - math.exp(-x)) / (math.exp(x) + math.exp(-x))\n",
        "  return result\n",
        "\n",
        "def ReLU(x):\n",
        "  result = max(0, x)\n",
        "  return result\n",
        "\n",
        "# -5~5사이에 X_domain 정의해보기. (힌트 range함수 사용)\n",
        "\n",
        "x_domain = range(-10, 10)\n",
        "print(x_domain)\n",
        "\n",
        "sigSet = []  #sigmoid 값 받아올 리스트\n",
        "tanhSet = []\n",
        "ReLUSet = []\n",
        "for x in x_domain:\n",
        "  #sigmiod 호출해서 값 계산\n",
        "  temp = sigmoid(x)    #temp라는 변수\n",
        "  temp2 = tanh(x)\n",
        "  temp3 = ReLU(x)\n",
        "  #계산된 값을 sigSet에 하나씩 집어넣기\n",
        "  sigSet.append(temp)\n",
        "  tanhSet.append(temp2)\n",
        "  ReLUSet.append(temp3)\n",
        "\n",
        "print(sigSet)\n",
        "print(tanhSet)\n",
        "print(ReLUSet)\n",
        "#데이터 그래프 가시화\n",
        "plt.plot(x_domain, sigSet, 'k-')\n",
        "plt.plot(x_domain, tanhSet, 'b-')\n",
        "plt.plot(x_domain, ReLUSet, 'y-')"
      ],
      "execution_count": 62,
      "outputs": [
        {
          "output_type": "stream",
          "text": [
            "range(-10, 10)\n",
            "[4.5397868702434395e-05, 0.00012339457598623172, 0.0003353501304664781, 0.0009110511944006454, 0.0024726231566347743, 0.0066928509242848554, 0.01798620996209156, 0.04742587317756678, 0.11920292202211755, 0.2689414213699951, 0.5, 0.7310585786300049, 0.8807970779778823, 0.9525741268224334, 0.9820137900379085, 0.9933071490757153, 0.9975273768433653, 0.9990889488055994, 0.9996646498695336, 0.9998766054240137]\n",
            "[-0.9999999958776926, -0.9999999695400409, -0.999999774929676, -0.9999983369439447, -0.9999877116507956, -0.999909204262595, -0.9993292997390669, -0.9950547536867306, -0.964027580075817, -0.7615941559557649, 0.0, 0.7615941559557649, 0.964027580075817, 0.9950547536867306, 0.9993292997390669, 0.999909204262595, 0.9999877116507956, 0.9999983369439447, 0.999999774929676, 0.9999999695400409]\n",
            "[0, 0, 0, 0, 0, 0, 0, 0, 0, 0, 0, 1, 2, 3, 4, 5, 6, 7, 8, 9]\n"
          ],
          "name": "stdout"
        },
        {
          "output_type": "execute_result",
          "data": {
            "text/plain": [
              "[<matplotlib.lines.Line2D at 0x7f345e046e48>]"
            ]
          },
          "metadata": {
            "tags": []
          },
          "execution_count": 62
        },
        {
          "output_type": "display_data",
          "data": {
            "image/png": "[encoded data removed]",
            "text/plain": [
              "<Figure size 432x288 with 1 Axes>"
            ]
          },
          "metadata": {
            "tags": [],
            "needs_background": "light"
          }
        }
      ]
    },
    {
      "cell_type": "code",
      "metadata": {
        "id": "-6dZ3vDyxjj-",
        "colab_type": "code",
        "colab": {}
      },
      "source": [
        ""
      ],
      "execution_count": 0,
      "outputs": []
    }
  ]
}