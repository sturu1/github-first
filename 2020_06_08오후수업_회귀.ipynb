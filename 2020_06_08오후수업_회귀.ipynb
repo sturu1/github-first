{
  "nbformat": 4,
  "nbformat_minor": 0,
  "metadata": {
    "colab": {
      "name": "2020.06.08오후수업- 회귀.ipynb",
      "provenance": [],
      "authorship_tag": "ABX9TyMCtFdpQ7GRhklQy88DH+GL",
      "include_colab_link": true
    },
    "kernelspec": {
      "name": "python3",
      "display_name": "Python 3"
    },
    "accelerator": "GPU"
  },
  "cells": [
    {
      "cell_type": "markdown",
      "metadata": {
        "id": "view-in-github",
        "colab_type": "text"
      },
      "source": [
        "<a href=\"https://colab.research.google.com/github/sturu1/github-first/blob/master/2020_06_08%EC%98%A4%ED%9B%84%EC%88%98%EC%97%85_%ED%9A%8C%EA%B7%80.ipynb\" target=\"_parent\"><img src=\"https://colab.research.google.com/assets/colab-badge.svg\" alt=\"Open In Colab\"/></a>"
      ]
    },
    {
      "cell_type": "code",
      "metadata": {
        "id": "9unN9lMZWtAb",
        "colab_type": "code",
        "outputId": "348f24a2-ae9d-4752-92c2-b0792efc20f2",
        "colab": {
          "base_uri": "https://localhost:8080/",
          "height": 316
        }
      },
      "source": [
        "import matplotlib.pyplot as plt\n",
        "\n",
        "def linearModel(w, b, x):  #기울기(w), y-절편(b), 입력(x)\n",
        "  y = w * x + b\n",
        "  return y\n",
        "\n",
        "#특정 x값이 입력되면, 변수w,b에 의해 변하는 y들을 구해보는 함수\n",
        "def getLinearSamples(w, b):\n",
        "  x_domain = [1, 2, 3, 4, 5]\n",
        "  y_range = []  #빈 list로 초기화\n",
        "\n",
        "  for x in x_domain:\n",
        "    y_estimated = linearModel(w, b, x) #추정된 y\n",
        "    y_range.append(y_estimated)\n",
        "\n",
        "  #x_domain, y_range\n",
        "  print(\"데이터 모양\", len(x_domain), len(y_range))\n",
        "\n",
        "  return x_domain, y_range\n",
        "#데이터와 가설(직선)과 전체적인 오차를 구해봄\n",
        "def getCost(w, b, xSet, ySet):\n",
        "  sampleN = len(ySet)\n",
        "  errorSum = 0\n",
        "# 오차 모두 더하기\n",
        "  for i in range(sampleN):\n",
        "    #데이터 하나마다의 오차 error = ly - y_estmatedl \n",
        "    error = abs(ySet[i] - linearModel(w, b, xSet[i]))\n",
        "    errorSum = errorSum + error\n",
        "\n",
        "#더해진 오차 평균취하기\n",
        "  avrError = errorSum / sampleN\n",
        "\n",
        "  return avrError\n",
        "#------------윗부분에는 함수정의, 아래부분에는 함수활용\n",
        "\n",
        "x = [1, 2, 3, 4, 5] #방의 개수\n",
        "y = [0.5, 0.9, 1.3, 1.7, 2.1] # 집 값\n",
        "\n",
        "plt.plot(x, y, 'ko') #검은색 점\n",
        "\n",
        "Ny = len(y) #데이터셋의 개수\n",
        "\n",
        "# w와 b를 바꿔보세요\n",
        "w = 0.4\n",
        "b = 0.1\n",
        "\n",
        "#우리의 가설(직선)로 부터 얻은 샘플\n",
        "#samples = [x_domain, y_range]\n",
        "samples = getLinearSamples(w, b)\n",
        "totalCost = getCost(w, b, x, y)\n",
        "print(\"전체오차\", totalCost)\n",
        "\n",
        "# x = samples[0], y = samples[1] \n",
        "plt.plot(samples[0], samples[1], 'b--')   # x, y\n",
        "\n",
        "linearModel (w, b, 40)"
      ],
      "execution_count": 0,
      "outputs": [
        {
          "output_type": "stream",
          "text": [
            "데이터 모양 5 5\n",
            "전체오차 8.881784197001253e-17\n"
          ],
          "name": "stdout"
        },
        {
          "output_type": "execute_result",
          "data": {
            "text/plain": [
              "16.1"
            ]
          },
          "metadata": {
            "tags": []
          },
          "execution_count": 45
        },
        {
          "output_type": "display_data",
          "data": {
            "image/png": "[encoded data removed]",
            "text/plain": [
              "<Figure size 432x288 with 1 Axes>"
            ]
          },
          "metadata": {
            "tags": [],
            "needs_background": "light"
          }
        }
      ]
    },
    {
      "cell_type": "markdown",
      "metadata": {
        "id": "zAbpmFNUqO9h",
        "colab_type": "text"
      },
      "source": [
        "#활성함수를 구현해보기\n",
        "sigmoid함수,  tanh함수, ReLU함수를 구현해보기\n"
      ]
    },
    {
      "cell_type": "code",
      "metadata": {
        "id": "xiGIEbEdqWr7",
        "colab_type": "code",
        "outputId": "701e510c-100d-4abe-ed9e-00521e3b92c6",
        "colab": {
          "base_uri": "https://localhost:8080/",
          "height": 370
        }
      },
      "source": [
        "import math #자연상수 e\n",
        "import matplotlib.pyplot as plt\n",
        "\n",
        "def sigmoid(x):\n",
        "  result = 1 / (1 + math.exp(-x))\n",
        "  return result\n",
        "\n",
        "def tanh(x):\n",
        "  result = (math.exp(x) - math.exp(-x)) / (math.exp(x) + math.exp(-x))\n",
        "  return result\n",
        "\n",
        "def ReLU(x):\n",
        "  result = max(0, x)\n",
        "  return result\n",
        "\n",
        "# -5~5사이에 X_domain 정의해보기. (힌트 range함수 사용)\n",
        "\n",
        "x_domain = range(-5, 5)\n",
        "print(x_domain)\n",
        "\n",
        "sigSet = []  #sigmoid 값 받아올 리스트\n",
        "tanhSet = []\n",
        "ReLUSet = []\n",
        "for x in x_domain:\n",
        "  #sigmiod 호출해서 값 계산\n",
        "  temp = sigmoid(x)    #temp라는 변수\n",
        "  temp2 = tanh(x)\n",
        "  temp3 = ReLU(x)\n",
        "  #계산된 값을 sigSet에 하나씩 집어넣기\n",
        "  sigSet.append(temp)\n",
        "  tanhSet.append(temp2)\n",
        "  ReLUSet.append(temp3)\n",
        "\n",
        "print(sigSet)\n",
        "print(tanhSet)\n",
        "print(ReLUSet)\n",
        "#데이터 그래프 가시화\n",
        "plt.plot(x_domain, sigSet, 'k-')\n",
        "plt.plot(x_domain, tanhSet, 'b-')\n",
        "plt.plot(x_domain, ReLUSet, 'y-')"
      ],
      "execution_count": 0,
      "outputs": [
        {
          "output_type": "stream",
          "text": [
            "range(-5, 5)\n",
            "[0.0066928509242848554, 0.01798620996209156, 0.04742587317756678, 0.11920292202211755, 0.2689414213699951, 0.5, 0.7310585786300049, 0.8807970779778823, 0.9525741268224334, 0.9820137900379085]\n",
            "[-0.999909204262595, -0.9993292997390669, -0.9950547536867306, -0.964027580075817, -0.7615941559557649, 0.0, 0.7615941559557649, 0.964027580075817, 0.9950547536867306, 0.9993292997390669]\n",
            "[0, 0, 0, 0, 0, 0, 1, 2, 3, 4]\n"
          ],
          "name": "stdout"
        },
        {
          "output_type": "execute_result",
          "data": {
            "text/plain": [
              "[<matplotlib.lines.Line2D at 0x7f345e02ddd8>]"
            ]
          },
          "metadata": {
            "tags": []
          },
          "execution_count": 63
        },
        {
          "output_type": "display_data",
          "data": {
            "image/png": "[encoded data removed]",
            "text/plain": [
              "<Figure size 432x288 with 1 Axes>"
            ]
          },
          "metadata": {
            "tags": [],
            "needs_background": "light"
          }
        }
      ]
    },
    {
      "cell_type": "markdown",
      "metadata": {
        "id": "VQTZNKiI7aql",
        "colab_type": "text"
      },
      "source": [
        "#입력이 여러개인 뉴런"
      ]
    },
    {
      "cell_type": "code",
      "metadata": {
        "id": "-6dZ3vDyxjj-",
        "colab_type": "code",
        "outputId": "35dea88c-d5e0-4ffb-a7f1-d6414cc3be1a",
        "colab": {
          "base_uri": "https://localhost:8080/",
          "height": 51
        }
      },
      "source": [
        "import math\n",
        "\n",
        "def sigmoid(x):\n",
        "  return 1 / (1 + math.exp(-x))\n",
        "\n",
        "\n",
        "# 3개의 특징이 잇다고 가정해보자\n",
        "# 집값을 예측하는 그 입력 인자가 3개\n",
        "# 방의 개수, 위치, 년식\n",
        "x = [3, 5, 4]\n",
        "W = [0.2, 0.3, 0.1]\n",
        "b = 1.0\n",
        "\n",
        "#Summation WX + b\n",
        "linear = W[0] * x[0] + W[1] * x[1] + W[2] * x[2] + 1.0\n",
        "print(linear)\n",
        "\n",
        "ativated = sigmoid(linear)\n",
        "print(ativated)"
      ],
      "execution_count": 0,
      "outputs": [
        {
          "output_type": "stream",
          "text": [
            "3.5\n",
            "0.9706877692486436\n"
          ],
          "name": "stdout"
        }
      ]
    },
    {
      "cell_type": "markdown",
      "metadata": {
        "id": "hPtvGRj-CmH5",
        "colab_type": "text"
      },
      "source": [
        "AND Gate 추론해보기\n",
        "파라메터를 자동으로 찾아주는 방법"
      ]
    },
    {
      "cell_type": "code",
      "metadata": {
        "id": "XHqlsVcp8F6P",
        "colab_type": "code",
        "outputId": "68223d50-8e4a-4326-de1e-08c74755c60c",
        "colab": {
          "base_uri": "https://localhost:8080/",
          "height": 1000
        }
      },
      "source": [
        "import numpy as np\n",
        "import matplotlib.pyplot as plt\n",
        "import tensorflow as tf\n",
        "import math\n",
        "\n",
        "def sigmoid(x):\n",
        "  return 1 / (1+ math.exp(-x))\n",
        "\n",
        "#입력은 2개. 데이터는 4개\n",
        "x = np.array( [[0, 0], [0, 1], [1, 0], [1, 1]] )\n",
        "y = np.array( [[0], [0], [0], [1]] ) #출력값(정답)\n",
        "\n",
        "w = tf.random.normal([2], 0, 1) #2개의 가중치를 정규분포로 얻음\n",
        "b = tf.random.normal([1], 0, 1) #1개의 바이어스(y-절편)\n",
        "b_x = 1\n",
        "\n",
        "E = []\n",
        "\n",
        "learning_rate = 0.1\n",
        "epoch = 2000 #몇번 학습할겁인가?\n",
        "\n",
        "for i in range(epoch): #epoch만큼 반복하여 학습\n",
        "  error_sum = 0\n",
        "  for j in range(4): #4개의 데이터에 대한 반복문\n",
        "    y_hat = sigmoid( np.sum(w * x[j]) + b*1 ) #선형방정식 결과 -> Activation\n",
        "    error = y[j] - y_hat  #오차를 단순히 뺴기로 하엿음\n",
        "\n",
        "    # 실제로 가중치 학습해나가는 과정\n",
        "    w = w + x[j] * learning_rate * error # 가중치 w업데이트\n",
        "    b = b + b_x * learning_rate * error # 가중치 b업데이트\n",
        "\n",
        "    error_sum = error_sum + error\n",
        "\n",
        "    if i%200 == 199:\n",
        "      print(error_sum)\n",
        "\n",
        "  E.append(abs(error_sum))\n",
        "\n",
        "  plt.plot(E, 'bo')\n",
        "\n",
        "for j in range(4):\n",
        "  result = int(sigmoid(np.sum(w*x[j])+ b*1)+ 0.5)\n",
        "  print(x[j], int(result))"
      ],
      "execution_count": 0,
      "outputs": [
        {
          "output_type": "stream",
          "text": [
            "[-0.0081814]\n",
            "[-0.16189361]\n",
            "[-0.30974935]\n",
            "[-0.09495364]\n",
            "[-0.00184206]\n",
            "[-0.1001447]\n",
            "[-0.19815466]\n",
            "[-0.05991859]\n",
            "[-0.00066529]\n",
            "[-0.07275226]\n",
            "[-0.14487828]\n",
            "[-0.04363717]\n",
            "[-0.00030764]\n",
            "[-0.05703097]\n",
            "[-0.1138107]\n",
            "[-0.03422527]\n",
            "[-0.00016556]\n",
            "[-0.04683018]\n",
            "[-0.09354063]\n",
            "[-0.02810769]\n",
            "[-9.87179062e-05]\n",
            "[-0.03968606]\n",
            "[-0.07930872]\n",
            "[-0.02382026]\n",
            "[-6.33635596e-05]\n",
            "[-0.03441019]\n",
            "[-0.06878453]\n",
            "[-0.02065326]\n",
            "[-4.29928465e-05]\n",
            "[-0.0303582]\n",
            "[-0.06069521]\n",
            "[-0.01822027]\n",
            "[-3.04625786e-05]\n",
            "[-0.02715138]\n",
            "[-0.05428997]\n",
            "[-0.01629642]\n",
            "[-2.23457556e-05]\n",
            "[-0.0245509]\n",
            "[-0.04909406]\n",
            "[-0.01473534]\n",
            "[0 0] 0\n",
            "[0 1] 0\n",
            "[1 0] 0\n",
            "[1 1] 1\n"
          ],
          "name": "stdout"
        },
        {
          "output_type": "display_data",
          "data": {
            "image/png": "[encoded data removed]",
            "text/plain": [
              "<Figure size 432x288 with 1 Axes>"
            ]
          },
          "metadata": {
            "tags": [],
            "needs_background": "light"
          }
        }
      ]
    },
    {
      "cell_type": "code",
      "metadata": {
        "id": "0nSezJmVDy_i",
        "colab_type": "code",
        "colab": {}
      },
      "source": [
        "_x"
      ],
      "execution_count": 0,
      "outputs": []
    }
  ]
}