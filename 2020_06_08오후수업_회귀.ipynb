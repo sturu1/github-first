{
  "nbformat": 4,
  "nbformat_minor": 0,
  "metadata": {
    "colab": {
      "name": "2020.06.08오후수업- 회귀.ipynb",
      "provenance": [],
      "authorship_tag": "ABX9TyNVw18HJPq8VVMTFZw+EGCy",
      "include_colab_link": true
    },
    "kernelspec": {
      "name": "python3",
      "display_name": "Python 3"
    }
  },
  "cells": [
    {
      "cell_type": "markdown",
      "metadata": {
        "id": "view-in-github",
        "colab_type": "text"
      },
      "source": [
        "<a href=\"https://colab.research.google.com/github/sturu1/github-first/blob/master/2020_06_08%EC%98%A4%ED%9B%84%EC%88%98%EC%97%85_%ED%9A%8C%EA%B7%80.ipynb\" target=\"_parent\"><img src=\"https://colab.research.google.com/assets/colab-badge.svg\" alt=\"Open In Colab\"/></a>"
      ]
    },
    {
      "cell_type": "code",
      "metadata": {
        "id": "9unN9lMZWtAb",
        "colab_type": "code",
        "colab": {
          "base_uri": "https://localhost:8080/",
          "height": 316
        },
        "outputId": "1b6e3c41-cce2-4cc9-8c7e-598376cdb182"
      },
      "source": [
        "import matplotlib.pyplot as plt\n",
        "\n",
        "def linearModel(w, b, x):  #기울기(w), y-절편(b), 입력(x)\n",
        "  y = w * x + b\n",
        "  return y\n",
        "\n",
        "#특정 x값이 입력되면, 변수w,b에 의해 변하는 y들을 구해보는 함수\n",
        "def getLinearSamples(w, b):\n",
        "  x_domain = [1, 2, 3, 4, 5]\n",
        "  y_range = []  #빈 list로 초기화\n",
        "\n",
        "  for x in x_domain:\n",
        "    y_estimated = linearModel(w, b, x) #추정된 y\n",
        "    y_range.append(y_estimated)\n",
        "\n",
        "  #x_domain, y_range\n",
        "  print(\"데이터 모양\", len(x_domain), len(y_range))\n",
        "\n",
        "  return x_domain, y_range\n",
        "#데이터와 가설(직선)과 전체적인 오차를 구해봄\n",
        "def getCost(w, b, xSet, ySet):\n",
        "  sampleN = len(ySet)\n",
        "  errorSum = 0\n",
        "# 오차 모두 더하기\n",
        "  for i in range(sampleN):\n",
        "    #데이터 하나마다의 오차 error = ly - y_estmatedl \n",
        "    error = abs(ySet[i] - linearModel(w, b, xSet[i]))\n",
        "    errorSum = errorSum + error\n",
        "\n",
        "#더해진 오차 평균취하기\n",
        "  avrError = errorSum / sampleN\n",
        "\n",
        "  return avrError\n",
        "#------------윗부분에는 함수정의, 아래부분에는 함수활용\n",
        "\n",
        "x = [1, 2, 3, 4, 5] #방의 개수\n",
        "y = [0.5, 0.9, 1.3, 1.7, 2.1] # 집 값\n",
        "\n",
        "plt.plot(x, y, 'ko') #검은색 점\n",
        "\n",
        "Ny = len(y) #데이터셋의 개수\n",
        "\n",
        "# w와 b를 바꿔보세요\n",
        "w = 2\n",
        "b = 0.5\n",
        "\n",
        "#우리의 가설(직선)로 부터 얻은 샘플\n",
        "#samples = [x_domain, y_range]\n",
        "samples = getLinearSamples(w, b)\n",
        "totalCost = getCost(w, b, x, y)\n",
        "print(\"전체오차\", totalCost)\n",
        "\n",
        "# x = samples[0], y = samples[1] \n",
        "plt.plot(samples[0], samples[1], 'b--')"
      ],
      "execution_count": 38,
      "outputs": [
        {
          "output_type": "stream",
          "text": [
            "데이터 모양 5 5\n",
            "전체오차 5.2\n"
          ],
          "name": "stdout"
        },
        {
          "output_type": "execute_result",
          "data": {
            "text/plain": [
              "[<matplotlib.lines.Line2D at 0x7f345e695320>]"
            ]
          },
          "metadata": {
            "tags": []
          },
          "execution_count": 38
        },
        {
          "output_type": "display_data",
          "data": {
            "image/png": "[encoded data removed]",
            "text/plain": [
              "<Figure size 432x288 with 1 Axes>"
            ]
          },
          "metadata": {
            "tags": [],
            "needs_background": "light"
          }
        }
      ]
    },
    {
      "cell_type": "code",
      "metadata": {
        "id": "KxlGQxa1ZBjQ",
        "colab_type": "code",
        "colab": {}
      },
      "source": [
        ""
      ],
      "execution_count": 0,
      "outputs": []
    }
  ]
}