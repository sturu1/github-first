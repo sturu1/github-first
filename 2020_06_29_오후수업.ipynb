{
  "nbformat": 4,
  "nbformat_minor": 0,
  "metadata": {
    "colab": {
      "name": "2020_06_29_오후수업.ipynb",
      "provenance": [],
      "authorship_tag": "ABX9TyMTx3iovVW9CHuIjWorURtE",
      "include_colab_link": true
    },
    "kernelspec": {
      "name": "python3",
      "display_name": "Python 3"
    }
  },
  "cells": [
    {
      "cell_type": "markdown",
      "metadata": {
        "id": "view-in-github",
        "colab_type": "text"
      },
      "source": [
        "<a href=\"https://colab.research.google.com/github/sturu1/github-first/blob/master/2020_06_29_%EC%98%A4%ED%9B%84%EC%88%98%EC%97%85.ipynb\" target=\"_parent\"><img src=\"https://colab.research.google.com/assets/colab-badge.svg\" alt=\"Open In Colab\"/></a>"
      ]
    },
    {
      "cell_type": "markdown",
      "metadata": {
        "id": "50Y04BC8sHz8",
        "colab_type": "text"
      },
      "source": [
        "# Convolution 알아보기 p139\n",
        "1. 이미지에서 convolution이 어떻게 유용한가?\n",
        "2. Gaussian 스무딩(흐릿한이미지), 부드러운 이미지 만들어 보기\n",
        "3. Sobel 미분필터, X축, Y축 편미분, 윤곽선 검출해보기\n",
        "\n",
        "\n",
        "* 이미지 편미분 원리\n",
        "\n",
        "\n",
        "![대체 텍스트](https://mblogthumb-phinf.pstatic.net/20150916_85/roboholic84_1442364979771XXm8h_PNG/filters.png?type=w2)\n",
        "\n",
        "\n",
        "*  최종적으로 얻는 그레디언트 벡터(x편미분, y편미분)\n",
        "\n",
        "\n",
        "$\\nabla f = {\\frac{\\partial f(x, y)}{\\partial_x}}, {\\frac{\\partial I(x, y)}{\\partial_y}}$\n",
        "\n",
        "\n",
        "* 윤곽선\n",
        "\n",
        "$|G| = \\sqrt{G^2_x * g^2_y}$\n",
        "\n",
        "이미지 데이터이기때문에 컨볼루션을 사용해서 압축하는것\n"
      ]
    },
    {
      "cell_type": "markdown",
      "metadata": {
        "id": "kZd__7enkYTt",
        "colab_type": "text"
      },
      "source": [
        "#$\\frac{1}{2}$"
      ]
    },
    {
      "cell_type": "code",
      "metadata": {
        "id": "KNj8rj7QqF5i",
        "colab_type": "code",
        "colab": {
          "base_uri": "https://localhost:8080/",
          "height": 286
        },
        "outputId": "22e30552-b765-45de-9d05-83cb88a5e48e"
      },
      "source": [
        "from PIL import Image\n",
        "import numpy as np\n",
        "import matplotlib.pyplot as plt\n",
        "import math\n",
        "import tensorflow as tf\n",
        "\n",
        "\n",
        "#데이터를 가져와보자\n",
        "fashion_mnist = tf.keras.datasets.fashion_mnist #데이터와 연결\n",
        "(train_X, train_Y), (test_X, test_Y) = fashion_mnist.load_data() # 실제로 데이터 가져옴\n",
        "\n",
        "#=================filter정의\n",
        "\n",
        "#sobel filter for Gx\n",
        "kernelX = [[-1, 0, 1],\n",
        "           [-2, 0, 2],\n",
        "           [-1, 0, 1]]\n",
        "kernelX = np.array(kernelX) # convert to numpy\n",
        "kernelX.shape\n",
        "\n",
        "#sobel filter for Gy\n",
        "kernelY = [[1, 2, 1],\n",
        "           [0, 0, 0],\n",
        "           [-1, -2, -1]]\n",
        "kernelY = np.array(kernelY)\n",
        "kernelY.shape\n",
        "\n",
        "#===========함수정의\n",
        "#정규화 min-max noralize\n",
        "def normalize(x):\n",
        "  return (x - np.min(x)) / (np.max(x) - np.min(x))\n",
        "\n",
        "# 이미지 차원 nX,nY\n",
        "def getDimension(x):\n",
        "  # 입력 이미지 x는 2차원이라고 가정\n",
        "  return x.shape[0], x.shape[1] #nY, nX\n",
        "\n",
        "\n",
        "def convolution(kernel, img):\n",
        "  kY, kX = getDimension(kernel) #3*3\n",
        "  nY, nX = getDimension(img) #28*28\n",
        "  \n",
        "  templmg = np.zeros((nY, nX), dtype = 'float32')\n",
        "\n",
        "  for j in range(1, nY-1):# for domain Y\n",
        "    for i in range(1,nX-1):# for domain X\n",
        "      #kernel dimension, iterator k, l\n",
        "      for l in range(0, kY):#0~2, 3개\n",
        "        for k in range(0, kX):#0~2, 3개\n",
        "        #컨볼루션 수행해서 temlmg에 맵핑해주면 됨\n",
        "          templmg[i, j] += img[i + k-1, j+l-1]* kernel[k, l] #convolution 수행\n",
        "\n",
        "\n",
        "  return templmg\n",
        "\n",
        "#================ 메인코드 시작\n",
        "npImg = train_X[0]\n",
        "print(npImg.dtype, npImg.shape, np.max(npImg), np.min(npImg))\n",
        "\n",
        "dX = convolution(kernelX, npImg)#컨볼루션 x미분 수행하여 dX획득\n",
        "print(dX.dtype, dX.shape, np.max(dX), np.min(dX))\n",
        "\n",
        "dX = normalize(dX)#정규화를 통하여 0~1스케일로 다시 변환\n",
        "print(dX.dtype, dX.shape, np.max(dX), np.min(dX))\n",
        "\n",
        "#가시화를 위해서 이미지 값 스케일업\n",
        "dX = dX * 255.0\n",
        "dX = dX.astype(np.uint16)#더 큰 값을 담을 수 있도록 형 변환\n",
        "\n",
        "#가시화\n",
        "plt.figure()\n",
        "f, axarr = plt.subplots(1, 2)\n",
        "axarr[0].imshow(npImg, cmap='gray')\n",
        "axarr[1].imshow(dX, cmap='gray')"
      ],
      "execution_count": 4,
      "outputs": [
        {
          "output_type": "stream",
          "text": [
            "uint8 (28, 28) 255 0\n",
            "float32 (28, 28) 943.0 -981.0\n",
            "float32 (28, 28) 1.0 0.0\n"
          ],
          "name": "stdout"
        },
        {
          "output_type": "execute_result",
          "data": {
            "text/plain": [
              "<matplotlib.image.AxesImage at 0x7f3c95df7f28>"
            ]
          },
          "metadata": {
            "tags": []
          },
          "execution_count": 4
        },
        {
          "output_type": "display_data",
          "data": {
            "text/plain": [
              "<Figure size 432x288 with 0 Axes>"
            ]
          },
          "metadata": {
            "tags": []
          }
        },
        {
          "output_type": "display_data",
          "data": {
            "image/png": "[encoded data removed]",
            "text/plain": [
              "<Figure size 432x288 with 2 Axes>"
            ]
          },
          "metadata": {
            "tags": [],
            "needs_background": "light"
          }
        }
      ]
    },
    {
      "cell_type": "code",
      "metadata": {
        "id": "p7VkKSA3xu2e",
        "colab_type": "code",
        "colab": {}
      },
      "source": [
        ""
      ],
      "execution_count": null,
      "outputs": []
    }
  ]
}