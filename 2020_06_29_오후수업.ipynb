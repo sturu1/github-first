{
  "nbformat": 4,
  "nbformat_minor": 0,
  "metadata": {
    "colab": {
      "name": "2020_06_29_오후수업.ipynb",
      "provenance": [],
      "authorship_tag": "ABX9TyNRNyaq3F7Q+7biThqXbOOT",
      "include_colab_link": true
    },
    "kernelspec": {
      "name": "python3",
      "display_name": "Python 3"
    }
  },
  "cells": [
    {
      "cell_type": "markdown",
      "metadata": {
        "id": "view-in-github",
        "colab_type": "text"
      },
      "source": [
        "<a href=\"https://colab.research.google.com/github/sturu1/github-first/blob/master/2020_06_29_%EC%98%A4%ED%9B%84%EC%88%98%EC%97%85.ipynb\" target=\"_parent\"><img src=\"https://colab.research.google.com/assets/colab-badge.svg\" alt=\"Open In Colab\"/></a>"
      ]
    },
    {
      "cell_type": "markdown",
      "metadata": {
        "id": "50Y04BC8sHz8",
        "colab_type": "text"
      },
      "source": [
        "# Convolution 알아보기 p139\n",
        "1. 이미지에서 convolution이 어떻게 유용한가?\n",
        "2. Gaussian 스무딩(흐릿한이미지), 부드러운 이미지 만들어 보기\n",
        "3. Sobel 미분필터, X축, Y축 편미분, 윤곽선 검출해보기\n",
        "\n",
        "\n",
        "* 이미지 편미분 원리\n",
        "\n",
        "\n",
        "![대체 텍스트](https://mblogthumb-phinf.pstatic.net/20150916_85/roboholic84_1442364979771XXm8h_PNG/filters.png?type=w2)\n",
        "\n",
        "\n",
        "*  최종적으로 얻는 그레디언트 벡터(x편미분, y편미분)\n",
        "\n",
        "\n",
        "$\\nabla f = {\\frac{\\partial f(x, y)}{\\partial_x}}, {\\frac{\\partial I(x, y)}{\\partial_y}}$\n",
        "\n",
        "\n",
        "* 윤곽선\n",
        "\n",
        "$|G| = \\sqrt{G^2_x * g^2_y}$\n",
        "\n",
        "이미지 데이터이기때문에 컨볼루션을 사용해서 압축하는것\n"
      ]
    },
    {
      "cell_type": "markdown",
      "metadata": {
        "id": "kZd__7enkYTt",
        "colab_type": "text"
      },
      "source": [
        "#$\\frac{1}{2}$"
      ]
    },
    {
      "cell_type": "code",
      "metadata": {
        "id": "KNj8rj7QqF5i",
        "colab_type": "code",
        "colab": {
          "base_uri": "https://localhost:8080/",
          "height": 528
        },
        "outputId": "1360a29a-ceb1-40ae-b406-a8d0fb557bd8"
      },
      "source": [
        "from PIL import Image\n",
        "import numpy as np\n",
        "import matplotlib.pyplot as plt\n",
        "import math\n",
        "import tensorflow as tf\n",
        "\n",
        "\n",
        "#데이터를 가져와보자\n",
        "fashion_mnist = tf.keras.datasets.fashion_mnist #데이터와 연결\n",
        "(train_X, train_Y), (test_X, test_Y) = fashion_mnist.load_data() # 실제로 데이터 가져옴\n",
        "\n",
        "#=================filter\n",
        "\n",
        "#sobel filter for Gx\n",
        "kernelX = [[-1, 0, 1],\n",
        "           [-2, 0, 2],\n",
        "           [-1, 0, 1]]\n",
        "kernelX = np.array(kernelX) # convert to numpy\n",
        "kernelX.shape\n",
        "\n",
        "#sobel filter for Gy\n",
        "kernelY = [[1, 2, 1],\n",
        "           [0, 0, 0],\n",
        "           [-1, -2, -1]]\n",
        "kernelY = np.array(kernelY)\n",
        "kernerY.shape\n",
        "\n",
        "#============ functions\n",
        "#정규화 min-max noralize\n",
        "def normalize(x):\n",
        "  return (x - np.min(x)) / (np.max(x) - np.min(x))\n",
        "\n",
        "#이미지 차원 알려주는 함수\n",
        "# 이미지 차원 nX,nY\n",
        "def getDimension(x):\n",
        "  # 입력 이미지 x는 2차원이라고 가정\n",
        "  return x.shape[0], x.shape[i] #nY, nX\n",
        "\n",
        "\n",
        "def convolution(kernel, img):\n",
        "  kY, kX = getDimension(kernel) #3*3\n",
        "  nY, nX = getDimension(img) #28*28\n",
        "  \n",
        "  templmg = np.zeros((nY, nX), dtype = 'float32')\n",
        "\n",
        "  for j in range(1, nY-1):# for domain Y\n",
        "    for i in range(1,nX-1):# for domain X\n",
        "      #kernel dimension, iterator k, l\n",
        "      for l in range(0, kY):#0~2, 3개\n",
        "        for k in range(0, kX):#0~2, 3개\n",
        "        #컨볼루션 수행해서 temlmg에 맵핑해주면 됨\n",
        "          tempImg[i, j] += img[i + k-1, j+l-1]* kernel[k, l] #convolution 수행\n",
        "\n",
        "\n",
        "  return tempImg\n",
        "\n",
        "def normalize(x):\n",
        "  return (x - np.min(x)) / (np.max(x)-np.min(x))\n",
        "\n",
        "#============== main code\n",
        "#이미지 하나 불러오기\n",
        "npImg = train_X[0]\n",
        "print(npImg.dtype, npImg.shape, np.max(npImg), np.min(npImg))\n",
        "\n",
        "dX = convolution(kernelX, npImg)\n",
        "#dX = normalize(dX)\n",
        "#print(dX)\n",
        "\n",
        "dY = convolution(kernelY, npImg)\n",
        "#dY = normalize(dY)\n",
        "#print(dY)\n",
        "\n",
        "#magnitude\n",
        "Mag = np.sqrt(dX*dX + dY*dY)\n",
        "\n",
        "dX = dX *255.0 #xcale up\n",
        "dX = dX.astype(np.uint16) #int casting\n",
        "\n",
        "dY = dY *255.0 #xcale up\n",
        "dY = dY.astype(np.uint16) #int casting\n",
        "\n",
        "plt.imshow(dX, camp='gray')"
      ],
      "execution_count": 1,
      "outputs": [
        {
          "output_type": "stream",
          "text": [
            "Downloading data from https://storage.googleapis.com/tensorflow/tf-keras-datasets/train-labels-idx1-ubyte.gz\n",
            "32768/29515 [=================================] - 0s 0us/step\n",
            "Downloading data from https://storage.googleapis.com/tensorflow/tf-keras-datasets/train-images-idx3-ubyte.gz\n",
            "26427392/26421880 [==============================] - 0s 0us/step\n",
            "Downloading data from https://storage.googleapis.com/tensorflow/tf-keras-datasets/t10k-labels-idx1-ubyte.gz\n",
            "8192/5148 [===============================================] - 0s 0us/step\n",
            "Downloading data from https://storage.googleapis.com/tensorflow/tf-keras-datasets/t10k-images-idx3-ubyte.gz\n",
            "4423680/4422102 [==============================] - 0s 0us/step\n",
            "uint8 (28, 28) 255 0\n"
          ],
          "name": "stdout"
        },
        {
          "output_type": "error",
          "ename": "NameError",
          "evalue": "ignored",
          "traceback": [
            "\u001b[0;31m---------------------------------------------------------------------------\u001b[0m",
            "\u001b[0;31mNameError\u001b[0m                                 Traceback (most recent call last)",
            "\u001b[0;32m<ipython-input-1-29caee4897ac>\u001b[0m in \u001b[0;36m<module>\u001b[0;34m()\u001b[0m\n\u001b[1;32m     57\u001b[0m \u001b[0mprint\u001b[0m\u001b[0;34m(\u001b[0m\u001b[0mnpImg\u001b[0m\u001b[0;34m.\u001b[0m\u001b[0mdtype\u001b[0m\u001b[0;34m,\u001b[0m \u001b[0mnpImg\u001b[0m\u001b[0;34m.\u001b[0m\u001b[0mshape\u001b[0m\u001b[0;34m,\u001b[0m \u001b[0mnp\u001b[0m\u001b[0;34m.\u001b[0m\u001b[0mmax\u001b[0m\u001b[0;34m(\u001b[0m\u001b[0mnpImg\u001b[0m\u001b[0;34m)\u001b[0m\u001b[0;34m,\u001b[0m \u001b[0mnp\u001b[0m\u001b[0;34m.\u001b[0m\u001b[0mmin\u001b[0m\u001b[0;34m(\u001b[0m\u001b[0mnpImg\u001b[0m\u001b[0;34m)\u001b[0m\u001b[0;34m)\u001b[0m\u001b[0;34m\u001b[0m\u001b[0;34m\u001b[0m\u001b[0m\n\u001b[1;32m     58\u001b[0m \u001b[0;34m\u001b[0m\u001b[0m\n\u001b[0;32m---> 59\u001b[0;31m \u001b[0mdX\u001b[0m \u001b[0;34m=\u001b[0m \u001b[0mconvolution\u001b[0m\u001b[0;34m(\u001b[0m\u001b[0mkernelX\u001b[0m\u001b[0;34m,\u001b[0m \u001b[0mnpImg\u001b[0m\u001b[0;34m)\u001b[0m\u001b[0;34m\u001b[0m\u001b[0;34m\u001b[0m\u001b[0m\n\u001b[0m\u001b[1;32m     60\u001b[0m \u001b[0;31m#dX = normalize(dX)\u001b[0m\u001b[0;34m\u001b[0m\u001b[0;34m\u001b[0m\u001b[0;34m\u001b[0m\u001b[0m\n\u001b[1;32m     61\u001b[0m \u001b[0;31m#print(dX)\u001b[0m\u001b[0;34m\u001b[0m\u001b[0;34m\u001b[0m\u001b[0;34m\u001b[0m\u001b[0m\n",
            "\u001b[0;32m<ipython-input-1-29caee4897ac>\u001b[0m in \u001b[0;36mconvolution\u001b[0;34m(kernel, Img)\u001b[0m\n\u001b[1;32m     31\u001b[0m \u001b[0;34m\u001b[0m\u001b[0m\n\u001b[1;32m     32\u001b[0m \u001b[0;32mdef\u001b[0m \u001b[0mconvolution\u001b[0m\u001b[0;34m(\u001b[0m\u001b[0mkernel\u001b[0m\u001b[0;34m,\u001b[0m \u001b[0mImg\u001b[0m\u001b[0;34m)\u001b[0m\u001b[0;34m:\u001b[0m\u001b[0;34m\u001b[0m\u001b[0;34m\u001b[0m\u001b[0m\n\u001b[0;32m---> 33\u001b[0;31m   \u001b[0mkY\u001b[0m\u001b[0;34m,\u001b[0m \u001b[0mkX\u001b[0m \u001b[0;34m=\u001b[0m \u001b[0mgetDimension\u001b[0m\u001b[0;34m(\u001b[0m\u001b[0mkernel\u001b[0m\u001b[0;34m)\u001b[0m\u001b[0;34m\u001b[0m\u001b[0;34m\u001b[0m\u001b[0m\n\u001b[0m\u001b[1;32m     34\u001b[0m   \u001b[0mnY\u001b[0m\u001b[0;34m,\u001b[0m \u001b[0mnX\u001b[0m \u001b[0;34m=\u001b[0m \u001b[0mgetDimension\u001b[0m\u001b[0;34m(\u001b[0m\u001b[0mImg\u001b[0m\u001b[0;34m)\u001b[0m\u001b[0;34m\u001b[0m\u001b[0;34m\u001b[0m\u001b[0m\n\u001b[1;32m     35\u001b[0m \u001b[0;34m\u001b[0m\u001b[0m\n",
            "\u001b[0;32m<ipython-input-1-29caee4897ac>\u001b[0m in \u001b[0;36mgetDimension\u001b[0;34m(x)\u001b[0m\n\u001b[1;32m     28\u001b[0m \u001b[0;31m#이미지 차원 알려주는 함수\u001b[0m\u001b[0;34m\u001b[0m\u001b[0;34m\u001b[0m\u001b[0;34m\u001b[0m\u001b[0m\n\u001b[1;32m     29\u001b[0m \u001b[0;32mdef\u001b[0m \u001b[0mgetDimension\u001b[0m\u001b[0;34m(\u001b[0m\u001b[0mx\u001b[0m\u001b[0;34m)\u001b[0m\u001b[0;34m:\u001b[0m\u001b[0;34m\u001b[0m\u001b[0;34m\u001b[0m\u001b[0m\n\u001b[0;32m---> 30\u001b[0;31m   \u001b[0;32mreturn\u001b[0m \u001b[0mx\u001b[0m\u001b[0;34m.\u001b[0m\u001b[0mshape\u001b[0m\u001b[0;34m[\u001b[0m\u001b[0;36m0\u001b[0m\u001b[0;34m]\u001b[0m\u001b[0;34m,\u001b[0m \u001b[0mx\u001b[0m\u001b[0;34m.\u001b[0m\u001b[0mshape\u001b[0m\u001b[0;34m[\u001b[0m\u001b[0mi\u001b[0m\u001b[0;34m]\u001b[0m \u001b[0;31m#y길이, x길이\u001b[0m\u001b[0;34m\u001b[0m\u001b[0;34m\u001b[0m\u001b[0m\n\u001b[0m\u001b[1;32m     31\u001b[0m \u001b[0;34m\u001b[0m\u001b[0m\n\u001b[1;32m     32\u001b[0m \u001b[0;32mdef\u001b[0m \u001b[0mconvolution\u001b[0m\u001b[0;34m(\u001b[0m\u001b[0mkernel\u001b[0m\u001b[0;34m,\u001b[0m \u001b[0mImg\u001b[0m\u001b[0;34m)\u001b[0m\u001b[0;34m:\u001b[0m\u001b[0;34m\u001b[0m\u001b[0;34m\u001b[0m\u001b[0m\n",
            "\u001b[0;31mNameError\u001b[0m: name 'i' is not defined"
          ]
        }
      ]
    },
    {
      "cell_type": "code",
      "metadata": {
        "id": "p7VkKSA3xu2e",
        "colab_type": "code",
        "colab": {}
      },
      "source": [
        ""
      ],
      "execution_count": null,
      "outputs": []
    }
  ]
}