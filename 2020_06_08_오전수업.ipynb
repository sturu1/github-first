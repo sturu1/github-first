{
  "nbformat": 4,
  "nbformat_minor": 0,
  "metadata": {
    "colab": {
      "name": "2020.06.08 오전수업.ipynb",
      "provenance": [],
      "authorship_tag": "ABX9TyOb1jQF9kZO1fmhvYYjz8xI",
      "include_colab_link": true
    },
    "kernelspec": {
      "name": "python3",
      "display_name": "Python 3"
    }
  },
  "cells": [
    {
      "cell_type": "markdown",
      "metadata": {
        "id": "view-in-github",
        "colab_type": "text"
      },
      "source": [
        "<a href=\"https://colab.research.google.com/github/sturu1/github-first/blob/master/2020_06_08_%EC%98%A4%EC%A0%84%EC%88%98%EC%97%85.ipynb\" target=\"_parent\"><img src=\"https://colab.research.google.com/assets/colab-badge.svg\" alt=\"Open In Colab\"/></a>"
      ]
    },
    {
      "cell_type": "markdown",
      "metadata": {
        "id": "jFiSoaIiTleY",
        "colab_type": "text"
      },
      "source": [
        "함수 = 코드의 집합\n",
        "indentatuin, 들여쓰기 주의해야함 \n",
        "정의\n",
        "def 함수 이름():\n",
        "    문장\n"
      ]
    },
    {
      "cell_type": "code",
      "metadata": {
        "id": "uZaL5D_CTIQr",
        "colab_type": "code",
        "colab": {}
      },
      "source": [
        "def print_3_times():\n",
        "  print(\"안녕하세요\")\n",
        "  print(\"안녕하세요\")\n",
        "  print(\"안녕하세요\")"
      ],
      "execution_count": 0,
      "outputs": []
    },
    {
      "cell_type": "markdown",
      "metadata": {
        "id": "MW339VGQVJfI",
        "colab_type": "text"
      },
      "source": [
        "실제로 실행(사용)되는 곳\n",
        "함수 내부로 들여쓰지 않음"
      ]
    },
    {
      "cell_type": "code",
      "metadata": {
        "id": "4qA-jKd4UEME",
        "colab_type": "code",
        "colab": {
          "base_uri": "https://localhost:8080/",
          "height": 119
        },
        "outputId": "6d3aee96-11c8-4cfe-ca39-bc745028a8b7"
      },
      "source": [
        "print_3_times()\n",
        "print_3_times()"
      ],
      "execution_count": 6,
      "outputs": [
        {
          "output_type": "stream",
          "text": [
            "안녕하세요\n",
            "안녕하세요\n",
            "안녕하세요\n",
            "안녕하세요\n",
            "안녕하세요\n",
            "안녕하세요\n"
          ],
          "name": "stdout"
        }
      ]
    },
    {
      "cell_type": "markdown",
      "metadata": {
        "id": "RMjtwNUWVzKH",
        "colab_type": "text"
      },
      "source": [
        "매개변수가 있는 함수\n",
        "어떤 값(vlaues)을 , 몇번(n) 출력할 것인가? "
      ]
    },
    {
      "cell_type": "code",
      "metadata": {
        "id": "FM-WQqbUVOYx",
        "colab_type": "code",
        "colab": {
          "base_uri": "https://localhost:8080/",
          "height": 153
        },
        "outputId": "727b5aca-4781-457a-f482-552025af7310"
      },
      "source": [
        "def  print_n_times(values, n):\n",
        "  \n",
        "  # n번 반복하는 for 반복문, [0, 1, 2, 3, 4, .... n-1]\n",
        "  for i in range(n):\n",
        "    print(values)\n",
        "\n",
        "#함수를 사용하는 곳\n",
        "print_n_times(\"안녕하세요.\", 5)\n",
        "print_n_times(\"반갑습니다.\", 3)"
      ],
      "execution_count": 12,
      "outputs": [
        {
          "output_type": "stream",
          "text": [
            "안녕하세요.\n",
            "안녕하세요.\n",
            "안녕하세요.\n",
            "안녕하세요.\n",
            "안녕하세요.\n",
            "반갑습니다.\n",
            "반갑습니다.\n",
            "반갑습니다.\n"
          ],
          "name": "stdout"
        }
      ]
    },
    {
      "cell_type": "markdown",
      "metadata": {
        "id": "Q4Hg5LzjXwVm",
        "colab_type": "text"
      },
      "source": [
        "리턴값(return value)\n",
        "함수의 리턴 (반환 값)"
      ]
    },
    {
      "cell_type": "code",
      "metadata": {
        "id": "JvimeQMJXJcz",
        "colab_type": "code",
        "colab": {
          "base_uri": "https://localhost:8080/",
          "height": 486
        },
        "outputId": "2cc764fe-1772-4b87-94f4-80a2a53c1af9"
      },
      "source": [
        "#라이브러리를 plt라는 이름으로 가져옴\n",
        "# matplotlib라이브러리는 그래프를 가시화 모듈\n",
        "import matplotlib.pyplot as plt\n",
        "\n",
        "# 함수 정의\n",
        "#매개변수: a(기울기), b(y-절편), x(입력)\n",
        "def linear(a, b, x):\n",
        "  result = a * x + b\n",
        "  print(result)\n",
        "  return result\n",
        "\n",
        "#함수 안에 또다른 함수를 호출하는 함수 정의\n",
        "#매개변수 도메인 domain = [0, 1, 2, 3, 4, 5..]\n",
        "def linearFunction(domain):\n",
        "  Y = [] #빈 list \n",
        "  for x in domain:\n",
        "    result = linear(2, 1, x)\n",
        "    Y.append(result) #빈 list내부에 함수경과 값들이 채워짐\n",
        "\n",
        "  return Y\n",
        "#linearFunction함수 사용\n",
        "#domainX = [0, 1, 2, 3, 4, 5]\n",
        "domainX = list(range(10)) #[0, 1, 2, 3, 4, 5]\n",
        "#print(list(domainX)) # list형태로 casting\n",
        "rangeY = linearFunction(domainX)\n",
        "\n",
        "plt.plot(domainX, rangeY, 'bo')\n",
        "plt.show()\n",
        "\n",
        "print(\"X도메인\", domainX)\n",
        "print(\"Y레인지\", rangeY)\n",
        "#list 내부에 있는 요소 개수를 알고싶을때\n",
        "print(len(domainX), len(rangeY))\n",
        "\n",
        "#사용\n",
        "#result = linear(2, 1, 3)\n",
        "#print(result)"
      ],
      "execution_count": 36,
      "outputs": [
        {
          "output_type": "stream",
          "text": [
            "1\n",
            "3\n",
            "5\n",
            "7\n",
            "9\n",
            "11\n",
            "13\n",
            "15\n",
            "17\n",
            "19\n"
          ],
          "name": "stdout"
        },
        {
          "output_type": "display_data",
          "data": {
            "image/png": "[encoded data removed]",
            "text/plain": [
              "<Figure size 432x288 with 1 Axes>"
            ]
          },
          "metadata": {
            "tags": [],
            "needs_background": "light"
          }
        },
        {
          "output_type": "stream",
          "text": [
            "X도메인 [0, 1, 2, 3, 4, 5, 6, 7, 8, 9]\n",
            "Y레인지 [1, 3, 5, 7, 9, 11, 13, 15, 17, 19]\n",
            "10 10\n"
          ],
          "name": "stdout"
        }
      ]
    },
    {
      "cell_type": "markdown",
      "metadata": {
        "id": "uNZwQgQnpzYH",
        "colab_type": "text"
      },
      "source": [
        "Numpy 라이브러리 사용"
      ]
    },
    {
      "cell_type": "code",
      "metadata": {
        "id": "L-CyNIGVp8JU",
        "colab_type": "code",
        "colab": {
          "base_uri": "https://localhost:8080/",
          "height": 85
        },
        "outputId": "b48eeb21-edb4-493c-fb90-3f11c4b1e195"
      },
      "source": [
        "#numpy 라이브러리 가져오기\n",
        "#numpy 라이브러리를 np라는 이름으로 가져와라\n",
        "import numpy as np\n",
        "\n",
        "array = [1, 2, 3, 4, 5] #list 초기화\n",
        "#np라이브러기가 가지고 잇는 array()라는 함수를 사용할 수 잇다.\n",
        "#list와 똑같이 생긴 배열을 nupy로 변화해줌\n",
        "npArray = np.array(array)\n",
        "print(type(array), type(npArray))\n",
        "\n",
        "# print(array + 5) #계산이 불가능\n",
        "print(npArray + 5)\n",
        "print(npArray * 5)\n",
        "print(npArray / 5)\n"
      ],
      "execution_count": 46,
      "outputs": [
        {
          "output_type": "stream",
          "text": [
            "<class 'list'> <class 'numpy.ndarray'>\n",
            "[ 6  7  8  9 10]\n",
            "[ 5 10 15 20 25]\n",
            "[0.2 0.4 0.6 0.8 1. ]\n"
          ],
          "name": "stdout"
        }
      ]
    },
    {
      "cell_type": "code",
      "metadata": {
        "id": "darvrCHiqydc",
        "colab_type": "code",
        "colab": {
          "base_uri": "https://localhost:8080/",
          "height": 119
        },
        "outputId": "d096f293-994f-4740-bcdc-cdfdb494f934"
      },
      "source": [
        "#2차원 배열을 넘파이로 만들어보기\n",
        "\n",
        "array = [[1, 2, 3], [4, 5, 6], [7, 8, 9]]\n",
        "npArray = np.array(array)\n",
        "\n",
        "print(array)\n",
        "print(npArray.shape)\n",
        "\n",
        "#print(array + 5)\n",
        "#print(npArray + 5)\n",
        "\n",
        "array2 = [[5, 5, 5], [5, 5, 5], [5, 5, 5]]\n",
        "npArray2 = np.array(array2)\n",
        "\n",
        "print(npArray2.shape)\n",
        "print(npArray * npArray2)"
      ],
      "execution_count": 58,
      "outputs": [
        {
          "output_type": "stream",
          "text": [
            "[[1, 2, 3], [4, 5, 6], [7, 8, 9]]\n",
            "(3, 3)\n",
            "(3, 3)\n",
            "[[ 5 10 15]\n",
            " [20 25 30]\n",
            " [35 40 45]]\n"
          ],
          "name": "stdout"
        }
      ]
    },
    {
      "cell_type": "markdown",
      "metadata": {
        "id": "npV_j7d0vH1J",
        "colab_type": "text"
      },
      "source": [
        "# 다양한 넘파이 초기화 방법"
      ]
    },
    {
      "cell_type": "code",
      "metadata": {
        "id": "NfC3NuFls_y-",
        "colab_type": "code",
        "colab": {
          "base_uri": "https://localhost:8080/",
          "height": 187
        },
        "outputId": "1935ce79-dbb4-47bd-bc6b-58d5720df579"
      },
      "source": [
        "#list 매개변수로 초기화\n",
        "array = np.array([1, 2, 3, 4, 5]) #어떤 닶을 넣을지?\n",
        "print(array)\n",
        "\n",
        "#range를 사용한 초기화\n",
        "array2 = np.array(range(1, 6)) #어떤 닶을 넣을지?\n",
        "print(array2)\n",
        "\n",
        "#0으로채워진 행렬 초기화\n",
        "array3 = np.zeros((3, 3)) #행렬의 모양을 매개변수로 넣음\n",
        "print(array3)\n",
        "\n",
        "#1로 채원진 행렬 초기화\n",
        "array4 = np.ones((5, 5)) \n",
        "print(array4)"
      ],
      "execution_count": 65,
      "outputs": [
        {
          "output_type": "stream",
          "text": [
            "[1 2 3 4 5]\n",
            "[1 2 3 4 5]\n",
            "[[0. 0. 0.]\n",
            " [0. 0. 0.]\n",
            " [0. 0. 0.]]\n",
            "[[1. 1. 1. 1. 1.]\n",
            " [1. 1. 1. 1. 1.]\n",
            " [1. 1. 1. 1. 1.]\n",
            " [1. 1. 1. 1. 1.]\n",
            " [1. 1. 1. 1. 1.]]\n"
          ],
          "name": "stdout"
        }
      ]
    },
    {
      "cell_type": "markdown",
      "metadata": {
        "id": "LAHN4ZI5xCFg",
        "colab_type": "text"
      },
      "source": [
        "정규분포 만들어보기"
      ]
    },
    {
      "cell_type": "code",
      "metadata": {
        "id": "uCqx4w68vRfB",
        "colab_type": "code",
        "colab": {
          "base_uri": "https://localhost:8080/",
          "height": 282
        },
        "outputId": "5cc8e89e-775b-4079-9b20-6413186a5479"
      },
      "source": [
        "import tensorflow as tf\n",
        "import matplotlib.pyplot as plt\n",
        "#정규분포(normal distribution)\n",
        "#매개변수로써 모양, 평균, 편차\n",
        "\n",
        "n = 1000\n",
        "\n",
        "y = tf.random.normal([n], 0, 1)\n",
        "x = range(n)\n",
        "#bsms 블루를 나타내고 o 는 점을나타낸다\n",
        "plt.plot(x, y, 'bo')   \n"
      ],
      "execution_count": 71,
      "outputs": [
        {
          "output_type": "execute_result",
          "data": {
            "text/plain": [
              "[<matplotlib.lines.Line2D at 0x7f98532b1e48>]"
            ]
          },
          "metadata": {
            "tags": []
          },
          "execution_count": 71
        },
        {
          "output_type": "display_data",
          "data": {
            "image/png": "[encoded data removed]",
            "text/plain": [
              "<Figure size 432x288 with 1 Axes>"
            ]
          },
          "metadata": {
            "tags": [],
            "needs_background": "light"
          }
        }
      ]
    },
    {
      "cell_type": "code",
      "metadata": {
        "id": "3rZG-NpVx14G",
        "colab_type": "code",
        "colab": {
          "base_uri": "https://localhost:8080/",
          "height": 265
        },
        "outputId": "de5cf2fc-f607-41b4-8512-e98b8f268cd3"
      },
      "source": [
        "#난수를 그래프로 출력하는 함수\n",
        "import tensorflow as tf\n",
        "import matplotlib.pyplot as plt\n",
        "\n",
        "def dotPlot(n, g):\n",
        "  y = tf.random.normal([n], 0, 1)\n",
        "  x = range(n)\n",
        "  #bsms 블루를 나타내고 o 는 점을나타낸다\n",
        "  plt.plot(x, y, g)\n",
        "\n",
        "# 사용\n",
        "# k는 검정 b는 파랑 y는 노랑\n",
        "# o는 dot, -는 꺾은선, -- 점선\n",
        "dotPlot(100, 'bo')\n",
        "dotPlot(100, 'k-')\n",
        "dotPlot(100, 'y--')\n"
      ],
      "execution_count": 79,
      "outputs": [
        {
          "output_type": "display_data",
          "data": {
            "image/png": "[encoded data removed]",
            "text/plain": [
              "<Figure size 432x288 with 1 Axes>"
            ]
          },
          "metadata": {
            "tags": [],
            "needs_background": "light"
          }
        }
      ]
    },
    {
      "cell_type": "code",
      "metadata": {
        "id": "OnyJs1o-zeot",
        "colab_type": "code",
        "colab": {}
      },
      "source": [
        ""
      ],
      "execution_count": 0,
      "outputs": []
    }
  ]
}