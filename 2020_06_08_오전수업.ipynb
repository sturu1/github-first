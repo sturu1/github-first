{
  "nbformat": 4,
  "nbformat_minor": 0,
  "metadata": {
    "colab": {
      "name": "2020.06.08 오전수업.ipynb",
      "provenance": [],
      "authorship_tag": "ABX9TyNanwkk+zKqs7/Hh9ue9Njk",
      "include_colab_link": true
    },
    "kernelspec": {
      "name": "python3",
      "display_name": "Python 3"
    }
  },
  "cells": [
    {
      "cell_type": "markdown",
      "metadata": {
        "id": "view-in-github",
        "colab_type": "text"
      },
      "source": [
        "<a href=\"https://colab.research.google.com/github/sturu1/github-first/blob/master/2020_06_08_%EC%98%A4%EC%A0%84%EC%88%98%EC%97%85.ipynb\" target=\"_parent\"><img src=\"https://colab.research.google.com/assets/colab-badge.svg\" alt=\"Open In Colab\"/></a>"
      ]
    },
    {
      "cell_type": "markdown",
      "metadata": {
        "id": "jFiSoaIiTleY",
        "colab_type": "text"
      },
      "source": [
        "함수 = 코드의 집합\n",
        "indentatuin, 들여쓰기 주의해야함 \n",
        "정의\n",
        "def 함수 이름():\n",
        "    문장\n"
      ]
    },
    {
      "cell_type": "code",
      "metadata": {
        "id": "uZaL5D_CTIQr",
        "colab_type": "code",
        "colab": {}
      },
      "source": [
        "def print_3_times():\n",
        "  print(\"안녕하세요\")\n",
        "  print(\"안녕하세요\")\n",
        "  print(\"안녕하세요\")"
      ],
      "execution_count": 0,
      "outputs": []
    },
    {
      "cell_type": "markdown",
      "metadata": {
        "id": "MW339VGQVJfI",
        "colab_type": "text"
      },
      "source": [
        "실제로 실행(사용)되는 곳\n",
        "함수 내부로 들여쓰지 않음"
      ]
    },
    {
      "cell_type": "code",
      "metadata": {
        "id": "4qA-jKd4UEME",
        "colab_type": "code",
        "colab": {
          "base_uri": "https://localhost:8080/",
          "height": 119
        },
        "outputId": "6d3aee96-11c8-4cfe-ca39-bc745028a8b7"
      },
      "source": [
        "print_3_times()\n",
        "print_3_times()"
      ],
      "execution_count": 6,
      "outputs": [
        {
          "output_type": "stream",
          "text": [
            "안녕하세요\n",
            "안녕하세요\n",
            "안녕하세요\n",
            "안녕하세요\n",
            "안녕하세요\n",
            "안녕하세요\n"
          ],
          "name": "stdout"
        }
      ]
    },
    {
      "cell_type": "markdown",
      "metadata": {
        "id": "RMjtwNUWVzKH",
        "colab_type": "text"
      },
      "source": [
        "매개변수가 있는 함수\n",
        "어떤 값(vlaues)을 , 몇번(n) 출력할 것인가? "
      ]
    },
    {
      "cell_type": "code",
      "metadata": {
        "id": "FM-WQqbUVOYx",
        "colab_type": "code",
        "colab": {
          "base_uri": "https://localhost:8080/",
          "height": 153
        },
        "outputId": "727b5aca-4781-457a-f482-552025af7310"
      },
      "source": [
        "def  print_n_times(values, n):\n",
        "  \n",
        "  # n번 반복하는 for 반복문, [0, 1, 2, 3, 4, .... n-1]\n",
        "  for i in range(n):\n",
        "    print(values)\n",
        "\n",
        "#함수를 사용하는 곳\n",
        "print_n_times(\"안녕하세요.\", 5)\n",
        "print_n_times(\"반갑습니다.\", 3)"
      ],
      "execution_count": 12,
      "outputs": [
        {
          "output_type": "stream",
          "text": [
            "안녕하세요.\n",
            "안녕하세요.\n",
            "안녕하세요.\n",
            "안녕하세요.\n",
            "안녕하세요.\n",
            "반갑습니다.\n",
            "반갑습니다.\n",
            "반갑습니다.\n"
          ],
          "name": "stdout"
        }
      ]
    },
    {
      "cell_type": "markdown",
      "metadata": {
        "id": "Q4Hg5LzjXwVm",
        "colab_type": "text"
      },
      "source": [
        "리턴값(return value)\n",
        "함수의 리턴 (반환 값)"
      ]
    },
    {
      "cell_type": "code",
      "metadata": {
        "id": "JvimeQMJXJcz",
        "colab_type": "code",
        "colab": {
          "base_uri": "https://localhost:8080/",
          "height": 486
        },
        "outputId": "2cc764fe-1772-4b87-94f4-80a2a53c1af9"
      },
      "source": [
        "#라이브러리를 plt라는 이름으로 가져옴\n",
        "# matplotlib라이브러리는 그래프를 가시화 모듈\n",
        "import matplotlib.pyplot as plt\n",
        "\n",
        "# 함수 정의\n",
        "#매개변수: a(기울기), b(y-절편), x(입력)\n",
        "def linear(a, b, x):\n",
        "  result = a * x + b\n",
        "  print(result)\n",
        "  return result\n",
        "\n",
        "#함수 안에 또다른 함수를 호출하는 함수 정의\n",
        "#매개변수 도메인 domain = [0, 1, 2, 3, 4, 5..]\n",
        "def linearFunction(domain):\n",
        "  Y = [] #빈 list \n",
        "  for x in domain:\n",
        "    result = linear(2, 1, x)\n",
        "    Y.append(result) #빈 list내부에 함수경과 값들이 채워짐\n",
        "\n",
        "  return Y\n",
        "#linearFunction함수 사용\n",
        "#domainX = [0, 1, 2, 3, 4, 5]\n",
        "domainX = list(range(10)) #[0, 1, 2, 3, 4, 5]\n",
        "#print(list(domainX)) # list형태로 casting\n",
        "rangeY = linearFunction(domainX)\n",
        "\n",
        "plt.plot(domainX, rangeY, 'bo')\n",
        "plt.show()\n",
        "\n",
        "print(\"X도메인\", domainX)\n",
        "print(\"Y레인지\", rangeY)\n",
        "#list 내부에 있는 요소 개수를 알고싶을때\n",
        "print(len(domainX), len(rangeY))\n",
        "\n",
        "#사용\n",
        "#result = linear(2, 1, 3)\n",
        "#print(result)"
      ],
      "execution_count": 36,
      "outputs": [
        {
          "output_type": "stream",
          "text": [
            "1\n",
            "3\n",
            "5\n",
            "7\n",
            "9\n",
            "11\n",
            "13\n",
            "15\n",
            "17\n",
            "19\n"
          ],
          "name": "stdout"
        },
        {
          "output_type": "display_data",
          "data": {
            "image/png": "[encoded data removed]",
            "text/plain": [
              "<Figure size 432x288 with 1 Axes>"
            ]
          },
          "metadata": {
            "tags": [],
            "needs_background": "light"
          }
        },
        {
          "output_type": "stream",
          "text": [
            "X도메인 [0, 1, 2, 3, 4, 5, 6, 7, 8, 9]\n",
            "Y레인지 [1, 3, 5, 7, 9, 11, 13, 15, 17, 19]\n",
            "10 10\n"
          ],
          "name": "stdout"
        }
      ]
    },
    {
      "cell_type": "code",
      "metadata": {
        "id": "6dGkIjMbYupR",
        "colab_type": "code",
        "colab": {}
      },
      "source": [
        "#"
      ],
      "execution_count": 0,
      "outputs": []
    }
  ]
}