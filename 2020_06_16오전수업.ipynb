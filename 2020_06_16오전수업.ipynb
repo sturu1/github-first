{
  "nbformat": 4,
  "nbformat_minor": 0,
  "metadata": {
    "colab": {
      "name": "2020.06.16오전수업.ipynb",
      "provenance": [],
      "authorship_tag": "ABX9TyOhMEePSjg5J8tfWn7ZFFFY",
      "include_colab_link": true
    },
    "kernelspec": {
      "name": "python3",
      "display_name": "Python 3"
    }
  },
  "cells": [
    {
      "cell_type": "markdown",
      "metadata": {
        "id": "view-in-github",
        "colab_type": "text"
      },
      "source": [
        "<a href=\"https://colab.research.google.com/github/sturu1/github-first/blob/master/2020_06_16%EC%98%A4%EC%A0%84%EC%88%98%EC%97%85.ipynb\" target=\"_parent\"><img src=\"https://colab.research.google.com/assets/colab-badge.svg\" alt=\"Open In Colab\"/></a>"
      ]
    },
    {
      "cell_type": "code",
      "metadata": {
        "id": "Ippe1DjXrgfr",
        "colab_type": "code",
        "colab": {
          "base_uri": "https://localhost:8080/",
          "height": 51
        },
        "outputId": "f9b282bc-920e-4cf1-ee72-9650828f2c7e"
      },
      "source": [
        "#튜플과 함수 - 여러개 값 리턴하기\n",
        "def test():\n",
        "    return (10, 20)\n",
        "\n",
        "#여러개 값 을 리턴 받습니다.\n",
        "a, b = test()\n",
        "\n",
        "#출력\n",
        "print(\"a:\", a)\n",
        "print(\"b:\", b)"
      ],
      "execution_count": 1,
      "outputs": [
        {
          "output_type": "stream",
          "text": [
            "a: 10\n",
            "b: 20\n"
          ],
          "name": "stdout"
        }
      ]
    },
    {
      "cell_type": "markdown",
      "metadata": {
        "id": "I24FEWIgty1u",
        "colab_type": "text"
      },
      "source": [
        "# 람다(lambda)\n",
        "\n",
        "기능을 매개변수로 전달하는 코드를 더 효율적으로 작성"
      ]
    },
    {
      "cell_type": "code",
      "metadata": {
        "id": "5aauPahhtrzB",
        "colab_type": "code",
        "colab": {
          "base_uri": "https://localhost:8080/",
          "height": 187
        },
        "outputId": "acc637aa-c354-498a-e8c6-79b1ab4100b0"
      },
      "source": [
        "#매개변수로 받은 함수를 10번 호출하는 함수\n",
        "def call_10_times(func):\n",
        "  for i in range(10):\n",
        "    func()\n",
        "\n",
        "#간단한 출력하는 함수\n",
        "def print_hello():\n",
        "  print(\"안녕하세요\")\n",
        "\n",
        "#조합하기\n",
        "call_10_times(print_hello)"
      ],
      "execution_count": 2,
      "outputs": [
        {
          "output_type": "stream",
          "text": [
            "안녕하세요\n",
            "안녕하세요\n",
            "안녕하세요\n",
            "안녕하세요\n",
            "안녕하세요\n",
            "안녕하세요\n",
            "안녕하세요\n",
            "안녕하세요\n",
            "안녕하세요\n",
            "안녕하세요\n"
          ],
          "name": "stdout"
        }
      ]
    },
    {
      "cell_type": "markdown",
      "metadata": {
        "id": "miv0j3QIvp8H",
        "colab_type": "text"
      },
      "source": [
        "filter()함수와 map()함수\n",
        "\n",
        "함수를 매개변수로 전달하는 대표적인 표준함수\n",
        "\n",
        "map(함수, 리스트)\n",
        "\n",
        "filter(함수, 리스트)"
      ]
    },
    {
      "cell_type": "code",
      "metadata": {
        "id": "hPfkH27xupMx",
        "colab_type": "code",
        "colab": {
          "base_uri": "https://localhost:8080/",
          "height": 153
        },
        "outputId": "98003718-fe41-4be2-bca9-804b1e152e25"
      },
      "source": [
        "def power(item):\n",
        "  return item * item\n",
        "\n",
        "def under_3(item):\n",
        "  return item < 3\n",
        "\n",
        "list_input_a = [1, 2, 3, 4, 5]\n",
        "\n",
        "#map() 함수를 사용\n",
        "output_a = map(power, list_input_a)\n",
        "print(\"# map() 함수의 실행결과\")\n",
        "print(\"map(power, list_input_a):\", output_a)\n",
        "print(\"map(power, list_input_a):\", list(output_a))\n",
        "print()\n",
        "\n",
        "# filter()함수를 사용\n",
        "output_b = filter(under_3, list_input_a)\n",
        "print(\"# filter()함수의 실행결과\")\n",
        "print(\"filter(under_3, list_input_a):\", output_b)\n",
        "print(\"filter(under_3, list_input_a):\", list(output_b))\n",
        "print()"
      ],
      "execution_count": 3,
      "outputs": [
        {
          "output_type": "stream",
          "text": [
            "# map() 함수의 실행결과\n",
            "map(power, list_input_a): <map object at 0x7fd0487d2cf8>\n",
            "map(power, list_input_a): [1, 4, 9, 16, 25]\n",
            "\n",
            "# filter()함수의 실행결과\n",
            "filter(under_3, list_input_a): <filter object at 0x7fd0487d2da0>\n",
            "filter(under_3, list_input_a): [1, 2]\n",
            "\n"
          ],
          "name": "stdout"
        }
      ]
    },
    {
      "cell_type": "markdown",
      "metadata": {
        "id": "1AoAc4dnyDvP",
        "colab_type": "text"
      },
      "source": [
        "람다 란 '간단한 함수르 쉽게 선언하는 방법'\n",
        "\n",
        "lambda 매개변수 : 리턴값"
      ]
    },
    {
      "cell_type": "code",
      "metadata": {
        "id": "A-OMNPqDxK3h",
        "colab_type": "code",
        "colab": {
          "base_uri": "https://localhost:8080/",
          "height": 153
        },
        "outputId": "e491ed6f-51eb-4332-fe90-7bad1c39b2d4"
      },
      "source": [
        "#함수 선언\n",
        "power = lambda x: x * x\n",
        "under_3 = lambda x: x < 3\n",
        "\n",
        "list_input_a = [1, 2, 3, 4, 5]\n",
        "\n",
        "#map() 함수를 사용\n",
        "output_a = map(power, list_input_a)\n",
        "print(\"# map() 함수의 실행결과\")\n",
        "print(\"map(power, list_input_a):\", output_a)\n",
        "print(\"map(power, list_input_a):\", list(output_a))\n",
        "print()\n",
        "\n",
        "# filter()함수를 사용\n",
        "output_b = filter(under_3, list_input_a)\n",
        "print(\"# filter()함수의 실행결과\")\n",
        "print(\"filter(under_3, list_input_a):\", output_b)\n",
        "print(\"filter(under_3, list_input_a):\", list(output_b))\n",
        "print()"
      ],
      "execution_count": 4,
      "outputs": [
        {
          "output_type": "stream",
          "text": [
            "# map() 함수의 실행결과\n",
            "map(power, list_input_a): <map object at 0x7fd04882d278>\n",
            "map(power, list_input_a): [1, 4, 9, 16, 25]\n",
            "\n",
            "# filter()함수의 실행결과\n",
            "filter(under_3, list_input_a): <filter object at 0x7fd04882dcf8>\n",
            "filter(under_3, list_input_a): [1, 2]\n",
            "\n"
          ],
          "name": "stdout"
        }
      ]
    },
    {
      "cell_type": "markdown",
      "metadata": {
        "id": "rjXoKjWUzGen",
        "colab_type": "text"
      },
      "source": [
        "인라인 람다\n",
        "\n",
        "함수의 매개변수에 람다 곧바로 넣을 수 잇음"
      ]
    },
    {
      "cell_type": "code",
      "metadata": {
        "id": "rnpXQ7gMyyp6",
        "colab_type": "code",
        "colab": {
          "base_uri": "https://localhost:8080/",
          "height": 153
        },
        "outputId": "a889c0a5-3331-4521-a2ff-fa32f8cf931a"
      },
      "source": [
        "list_input_a = [1, 2, 3, 4, 5]\n",
        "\n",
        "#map() 함수를 사용\n",
        "output_a = map(lambda x: x * x, list_input_a)\n",
        "print(\"# map() 함수의 실행결과\")\n",
        "print(\"map(power, list_input_a):\", output_a)\n",
        "print(\"map(power, list_input_a):\", list(output_a))\n",
        "print()\n",
        "\n",
        "# filter()함수를 사용\n",
        "output_b = filter(lambda x: x < 3, list_input_a)\n",
        "print(\"# filter()함수의 실행결과\")\n",
        "print(\"filter(under_3, list_input_a):\", output_b)\n",
        "print(\"filter(under_3, list_input_a):\", list(output_b))\n",
        "print()"
      ],
      "execution_count": 9,
      "outputs": [
        {
          "output_type": "stream",
          "text": [
            "# map() 함수의 실행결과\n",
            "map(power, list_input_a): <map object at 0x7fd048744ac8>\n",
            "map(power, list_input_a): [1, 4, 9, 16, 25]\n",
            "\n",
            "# filter()함수의 실행결과\n",
            "filter(under_3, list_input_a): <filter object at 0x7fd048744b00>\n",
            "filter(under_3, list_input_a): [1, 2]\n",
            "\n"
          ],
          "name": "stdout"
        }
      ]
    },
    {
      "cell_type": "markdown",
      "metadata": {
        "id": "c09ySgIEz-v3",
        "colab_type": "text"
      },
      "source": [
        "# 파일처리\n",
        "\n",
        "텍스트 파일의 처리\n",
        "\n",
        "파일열기(open) - 파일 읽기(read) -"
      ]
    },
    {
      "cell_type": "code",
      "metadata": {
        "id": "bostKoHSzY8Y",
        "colab_type": "code",
        "colab": {}
      },
      "source": [
        "#파일 열기\n",
        "file = open(\"basic.txt\", \"w\")\n",
        "\n",
        "#파일에 텍스트 쓰기\n",
        "file.write(\"Hello python\")\n",
        "\n",
        "#파일을 닫기\n",
        "file.close()"
      ],
      "execution_count": 0,
      "outputs": []
    },
    {
      "cell_type": "markdown",
      "metadata": {
        "id": "V63-185704TW",
        "colab_type": "text"
      },
      "source": [
        "# with 키워드\n",
        "\n",
        "조건문과 반복문 들어가다 보면 파일을 열고서 닫지 않는 실수하는 경우 생길 수 잇음\n",
        "\n",
        "with구문 종료시 파일을 자동으로 닫음\n",
        "\n",
        "with open(문자열: 파일경로, 문자열: 모드) as file"
      ]
    },
    {
      "cell_type": "code",
      "metadata": {
        "id": "FjKH0Tv_0l0a",
        "colab_type": "code",
        "colab": {}
      },
      "source": [
        "#파일열기\n",
        "with open(\"basic.txt\", \"w\") as file:\n",
        "  #파일 텍스트 쓰기\n",
        "  file.write(\"Hello python\")"
      ],
      "execution_count": 0,
      "outputs": []
    },
    {
      "cell_type": "markdown",
      "metadata": {
        "id": "jq7wtS7U1n43",
        "colab_type": "text"
      },
      "source": [
        "# 텍스트 읽기\n",
        "\n",
        "read()함수\n",
        "\n",
        "파일객체.read()"
      ]
    },
    {
      "cell_type": "code",
      "metadata": {
        "id": "Ig9gyiGr1Zs3",
        "colab_type": "code",
        "colab": {
          "base_uri": "https://localhost:8080/",
          "height": 34
        },
        "outputId": "0ea3131c-3c6a-4ec1-b87a-7c9e8a913456"
      },
      "source": [
        "#파일 열기\n",
        "with open(\"basic.txt\", \"r\") as file:\n",
        "  #파일에 텍스트 읽어오기\n",
        "  contents = file.read()\n",
        "\n",
        "print(contents)"
      ],
      "execution_count": 13,
      "outputs": [
        {
          "output_type": "stream",
          "text": [
            "Hello python\n"
          ],
          "name": "stdout"
        }
      ]
    },
    {
      "cell_type": "markdown",
      "metadata": {
        "id": "VMydUD8D2Vu3",
        "colab_type": "text"
      },
      "source": [
        "# 텍스트 한 줄 씩 읽기\n",
        "\n",
        "CSV, XML\n"
      ]
    },
    {
      "cell_type": "code",
      "metadata": {
        "id": "HXy3nh6J2Dt0",
        "colab_type": "code",
        "colab": {}
      },
      "source": [
        "#랜덤한 숫자 만들기 위해 가져오기\n",
        "import random\n",
        "\n",
        "#간단한 한글 리스트를 만들기\n",
        "hanguls = list(\"가나다라마바사아자차카타파하\")\n",
        "\n",
        "#파일을 쓰기 모드로 열기\n",
        "with open(\"info.txt\", \"w\") as file:\n",
        "  for i in range(1000):\n",
        "    #랜덤한 값으로 변수를 생성\n",
        "    name = random.choice(hanguls) + random.choice(hanguls)\n",
        "    weight = random.randrange(40, 100)\n",
        "    height = random.randrange(140, 200)\n",
        "\n",
        "    #텍스트 쓰기\n",
        "    file.write(\"{}, {}, {}\\n\".format(name, weight, height))"
      ],
      "execution_count": 0,
      "outputs": []
    },
    {
      "cell_type": "markdown",
      "metadata": {
        "id": "-YBuRaOf30rh",
        "colab_type": "text"
      },
      "source": [
        "데이터를 한줄씩 읽어들일떄는 for 반복문사용\n",
        "\n",
        "for 한중을 나타내는 문자열 in 파일 객체:\n",
        "    \n",
        "-----처리"
      ]
    },
    {
      "cell_type": "code",
      "metadata": {
        "id": "MzJpEicb3plt",
        "colab_type": "code",
        "colab": {}
      },
      "source": [
        "with open(\"info.txt\", \"r\") as file:\n",
        "   for line in file:\n",
        "     #변수를 선언\n",
        "     (name, weight, height) = line.strip().split(\",\")\n",
        "\n",
        "     #데이터가 문제 없는지 확인. 문제가 잇으면 지나감\n",
        "     if (not name) or (not weight) or (not height):\n",
        "       continue\n",
        "\n",
        "      #결과 계산\n",
        "       bmi = int(weight) / (int(height) * int(height))\n",
        "       result = \"\"\n",
        "       if 25 <= bmi:\n",
        "         result = \"과체중\"\n",
        "       elif 18.5 <= bmi:\n",
        "         result = \"정상체중\"\n",
        "       else:\n",
        "         result = \"저체중\"\n",
        "\n",
        "      #출력\n",
        "       print('\\n'.join([\n",
        "                        \"이름: {}\",\n",
        "                        \"몸무게: {}\",\n",
        "                        \"키: {}\",\n",
        "                        \"BMI: {}\",\n",
        "                        \"결과: {}\"\n",
        "       ]).format(name, weight, height, bmi, result))\n",
        "       print()"
      ],
      "execution_count": 0,
      "outputs": []
    },
    {
      "cell_type": "markdown",
      "metadata": {
        "id": "-HrKJn57_92S",
        "colab_type": "text"
      },
      "source": [
        "# 제너레이터(generator)\n",
        "\n",
        "이터레이터를 직접 만들 때 사용하는 코드\n",
        "\n",
        "함수 내부에 yield키워드 사용하면 해당함수는 제너에리터 함수됨\n",
        "\n",
        "일반 함수와 달리 호출해도 함수 내부코드가 실행되지 않음"
      ]
    },
    {
      "cell_type": "code",
      "metadata": {
        "id": "nu-c7phB5211",
        "colab_type": "code",
        "colab": {
          "base_uri": "https://localhost:8080/",
          "height": 68
        },
        "outputId": "8c181da3-e25c-4d51-c295-b294e1d77ba6"
      },
      "source": [
        "#함수 선언\n",
        "def test():\n",
        "  print(\"함수가 호출되었습니다.\")\n",
        "  yield \"test\"\n",
        "\n",
        "#함수 호출\n",
        "print(\"A지점 통과\")\n",
        "test()\n",
        "\n",
        "print(\"B지점 통과\")\n",
        "test()\n",
        "print(test())"
      ],
      "execution_count": 27,
      "outputs": [
        {
          "output_type": "stream",
          "text": [
            "A지점 통과\n",
            "B지점 통과\n",
            "<generator object test at 0x7fd0486d2d00>\n"
          ],
          "name": "stdout"
        }
      ]
    },
    {
      "cell_type": "markdown",
      "metadata": {
        "id": "RktihvdhBiIA",
        "colab_type": "text"
      },
      "source": [
        "next()함수 사용해 내부코드 실행\n",
        "\n",
        "yield키워드 부분까짐나 실행하며 next() 함수 리턴값으로 yield 키워드 뒤에 입력한 값이 출력됨"
      ]
    },
    {
      "cell_type": "code",
      "metadata": {
        "id": "bbCi8a_YAnv4",
        "colab_type": "code",
        "colab": {
          "base_uri": "https://localhost:8080/",
          "height": 351
        },
        "outputId": "55f7744a-1f7c-4898-c83f-8de466f056e7"
      },
      "source": [
        "#함수를 선언\n",
        "def test():\n",
        "  print(\"A지점 통과\")\n",
        "  yield 1\n",
        "  print(\"B지점 통과\")\n",
        "  yield 2\n",
        "  print(\"C지점 통과\")\n",
        "\n",
        "#함수 호출\n",
        "output = test()\n",
        "\n",
        "#next()함수 호출\n",
        "print(\"D지점 통과\")\n",
        "a = next(output)\n",
        "print(a)\n",
        "\n",
        "print(\"E지점 통과\")\n",
        "b = next(output)\n",
        "print(b)\n",
        "\n",
        "print(\"F지점 통과\")\n",
        "c = next(output)\n",
        "print(c)"
      ],
      "execution_count": 30,
      "outputs": [
        {
          "output_type": "stream",
          "text": [
            "D지점 통과\n",
            "A지점 통과\n",
            "1\n",
            "E지점 통과\n",
            "B지점 통과\n",
            "2\n",
            "F지점 통과\n",
            "C지점 통과\n"
          ],
          "name": "stdout"
        },
        {
          "output_type": "error",
          "ename": "StopIteration",
          "evalue": "ignored",
          "traceback": [
            "\u001b[0;31m---------------------------------------------------------------------------\u001b[0m",
            "\u001b[0;31mStopIteration\u001b[0m                             Traceback (most recent call last)",
            "\u001b[0;32m<ipython-input-30-85d9f350e84b>\u001b[0m in \u001b[0;36m<module>\u001b[0;34m()\u001b[0m\n\u001b[1;32m     20\u001b[0m \u001b[0;34m\u001b[0m\u001b[0m\n\u001b[1;32m     21\u001b[0m \u001b[0mprint\u001b[0m\u001b[0;34m(\u001b[0m\u001b[0;34m\"F지점 통과\"\u001b[0m\u001b[0;34m)\u001b[0m\u001b[0;34m\u001b[0m\u001b[0;34m\u001b[0m\u001b[0m\n\u001b[0;32m---> 22\u001b[0;31m \u001b[0mc\u001b[0m \u001b[0;34m=\u001b[0m \u001b[0mnext\u001b[0m\u001b[0;34m(\u001b[0m\u001b[0moutput\u001b[0m\u001b[0;34m)\u001b[0m\u001b[0;34m\u001b[0m\u001b[0;34m\u001b[0m\u001b[0m\n\u001b[0m\u001b[1;32m     23\u001b[0m \u001b[0mprint\u001b[0m\u001b[0;34m(\u001b[0m\u001b[0mc\u001b[0m\u001b[0;34m)\u001b[0m\u001b[0;34m\u001b[0m\u001b[0;34m\u001b[0m\u001b[0m\n",
            "\u001b[0;31mStopIteration\u001b[0m: "
          ]
        }
      ]
    },
    {
      "cell_type": "markdown",
      "metadata": {
        "id": "0Z8MZ77EGykn",
        "colab_type": "text"
      },
      "source": [
        "#  확인문제"
      ]
    },
    {
      "cell_type": "markdown",
      "metadata": {
        "id": "gBMrtxyJDsQ_",
        "colab_type": "text"
      },
      "source": [
        "람다함수사용"
      ]
    },
    {
      "cell_type": "code",
      "metadata": {
        "id": "Khvz8A2ACgDU",
        "colab_type": "code",
        "colab": {
          "base_uri": "https://localhost:8080/",
          "height": 170
        },
        "outputId": "2c06a698-9456-4c4f-c5e7-0a0def457f9a"
      },
      "source": [
        "#내가한거\n",
        "numbers = list(range(1, 10 + 1))\n",
        "\n",
        "print(\"#홀수만 추출하기\")\n",
        "print(list(filter(lambda x: x % 1, numbers)))\n",
        "print()\n",
        "\n",
        "print(\"# 3이상, 7미만 추출하기\")\n",
        "print(list(filter(lambda x: 3 <= x <7, numbers)))\n",
        "print()\n",
        "\n",
        "print(\"# 제곱해서 50미만 추출하기\")\n",
        "print(list(filter(lambda x: x * x < 50, numbers)))\n",
        "print()"
      ],
      "execution_count": 31,
      "outputs": [
        {
          "output_type": "stream",
          "text": [
            "#홀수만 추출하기\n",
            "[]\n",
            "\n",
            "# 3이상, 7미만 추출하기\n",
            "[3, 4, 5, 6]\n",
            "\n",
            "# 제곱해서 50미만 추출하기\n",
            "[1, 2, 3, 4, 5, 6, 7]\n",
            "\n"
          ],
          "name": "stdout"
        }
      ]
    },
    {
      "cell_type": "code",
      "metadata": {
        "id": "wZST6UGmFiaW",
        "colab_type": "code",
        "colab": {
          "base_uri": "https://localhost:8080/",
          "height": 170
        },
        "outputId": "e1a7c31f-18d1-4d52-9a04-3427613eef3f"
      },
      "source": [
        "#교수님이 한거\n",
        "numbers = list(range(1, 10 + 1))\n",
        "\n",
        "print(\"#홀수만 추출하기\")\n",
        "print(list(filter(lambda x: x % 2 == 1, numbers)))\n",
        "print()\n",
        "\n",
        "print(\"# 3이상, 7미만 추출하기\")\n",
        "print(list(filter(lambda x: 3 <= x <7, numbers)))\n",
        "print()\n",
        "\n",
        "print(\"# 제곱해서 50미만 추출하기\")\n",
        "print(list(filter(lambda x: x * x < 50, numbers)))\n",
        "print()"
      ],
      "execution_count": 32,
      "outputs": [
        {
          "output_type": "stream",
          "text": [
            "#홀수만 추출하기\n",
            "[1, 3, 5, 7, 9]\n",
            "\n",
            "# 3이상, 7미만 추출하기\n",
            "[3, 4, 5, 6]\n",
            "\n",
            "# 제곱해서 50미만 추출하기\n",
            "[1, 2, 3, 4, 5, 6, 7]\n",
            "\n"
          ],
          "name": "stdout"
        }
      ]
    },
    {
      "cell_type": "code",
      "metadata": {
        "id": "ZB8WdzyHFpc2",
        "colab_type": "code",
        "colab": {
          "base_uri": "https://localhost:8080/",
          "height": 34
        },
        "outputId": "17045df0-a926-4a96-aadf-eff1223d8308"
      },
      "source": [
        "numbers = [1, 2, 3, 4, 5, 6]\n",
        "\n",
        "print(\"::\".join(map(str, numbers)))"
      ],
      "execution_count": 33,
      "outputs": [
        {
          "output_type": "stream",
          "text": [
            "1::2::3::4::5::6\n"
          ],
          "name": "stdout"
        }
      ]
    },
    {
      "cell_type": "code",
      "metadata": {
        "id": "iynbDhAoGwSY",
        "colab_type": "code",
        "colab": {}
      },
      "source": [
        ""
      ],
      "execution_count": 0,
      "outputs": []
    }
  ]
}