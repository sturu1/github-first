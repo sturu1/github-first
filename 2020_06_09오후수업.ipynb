{
  "nbformat": 4,
  "nbformat_minor": 0,
  "metadata": {
    "colab": {
      "name": "2020.06.09오후수업.ipynb",
      "provenance": [],
      "authorship_tag": "ABX9TyMZ7sKU9tfBmiq1ALPwJSz3",
      "include_colab_link": true
    },
    "kernelspec": {
      "name": "python3",
      "display_name": "Python 3"
    },
    "accelerator": "GPU"
  },
  "cells": [
    {
      "cell_type": "markdown",
      "metadata": {
        "id": "view-in-github",
        "colab_type": "text"
      },
      "source": [
        "<a href=\"https://colab.research.google.com/github/sturu1/github-first/blob/master/2020_06_09%EC%98%A4%ED%9B%84%EC%88%98%EC%97%85.ipynb\" target=\"_parent\"><img src=\"https://colab.research.google.com/assets/colab-badge.svg\" alt=\"Open In Colab\"/></a>"
      ]
    },
    {
      "cell_type": "markdown",
      "metadata": {
        "id": "Ku2dj8eReTn-",
        "colab_type": "text"
      },
      "source": [
        "3장 42페이지"
      ]
    },
    {
      "cell_type": "code",
      "metadata": {
        "id": "BJk3LMkIdQoF",
        "colab_type": "code",
        "outputId": "30303bde-550b-4fae-b0ac-10aa03b16845",
        "colab": {
          "base_uri": "https://localhost:8080/",
          "height": 85
        }
      },
      "source": [
        "a = 100\n",
        "b = 3.14\n",
        "c = \"KIU\"\n",
        "d = True\n",
        "\n",
        "print(type(a))\n",
        "print(type(b))\n",
        "print(type(c))\n",
        "print(type(d))\n"
      ],
      "execution_count": 0,
      "outputs": [
        {
          "output_type": "stream",
          "text": [
            "<class 'int'>\n",
            "<class 'float'>\n",
            "<class 'str'>\n",
            "<class 'bool'>\n"
          ],
          "name": "stdout"
        }
      ]
    },
    {
      "cell_type": "code",
      "metadata": {
        "id": "Sx9sxe2ddgVc",
        "colab_type": "code",
        "outputId": "923dd856-5a91-4884-da5f-36a5586c1fa5",
        "colab": {
          "base_uri": "https://localhost:8080/",
          "height": 34
        }
      },
      "source": [
        "변수1 = 100\n",
        "변수2 = 200\n",
        "print(변수1 + 변수2)"
      ],
      "execution_count": 0,
      "outputs": [
        {
          "output_type": "stream",
          "text": [
            "300\n"
          ],
          "name": "stdout"
        }
      ]
    },
    {
      "cell_type": "code",
      "metadata": {
        "id": "GqesPPlreNbq",
        "colab_type": "code",
        "outputId": "00211781-20a0-4605-ebca-3e067696338a",
        "colab": {
          "base_uri": "https://localhost:8080/",
          "height": 34
        }
      },
      "source": [
        "a = 100\n",
        "a = 200\n",
        "\n",
        "print(a)"
      ],
      "execution_count": 0,
      "outputs": [
        {
          "output_type": "stream",
          "text": [
            "200\n"
          ],
          "name": "stdout"
        }
      ]
    },
    {
      "cell_type": "code",
      "metadata": {
        "id": "bd6lZ1HkejC9",
        "colab_type": "code",
        "outputId": "caf13ab8-cab0-4c0a-c322-fd2526e3c516",
        "colab": {
          "base_uri": "https://localhost:8080/",
          "height": 51
        }
      },
      "source": [
        "a = 100\n",
        "a = \"경일대학교\"\n",
        "\n",
        "print(a)\n",
        "print(type(a))"
      ],
      "execution_count": 0,
      "outputs": [
        {
          "output_type": "stream",
          "text": [
            "경일대학교\n",
            "<class 'str'>\n"
          ],
          "name": "stdout"
        }
      ]
    },
    {
      "cell_type": "code",
      "metadata": {
        "id": "YwtzVYZHfZRi",
        "colab_type": "code",
        "outputId": "a5782f6c-4966-4f74-dbd8-09c9d8a61ed4",
        "colab": {
          "base_uri": "https://localhost:8080/",
          "height": 68
        }
      },
      "source": [
        "a = 12\n",
        "print(bin(a))           #0b는 이진수(bin)를 뜻한다.\n",
        "print(oct(a))           #0o는 8진수(oct)를 뜻한다. \n",
        "print(hex(a))           #0x는 16진수(hex)를 뜻한다.\n"
      ],
      "execution_count": 0,
      "outputs": [
        {
          "output_type": "stream",
          "text": [
            "0b1100\n",
            "0o14\n",
            "0xc\n"
          ],
          "name": "stdout"
        }
      ]
    },
    {
      "cell_type": "code",
      "metadata": {
        "id": "CCJ13xWgf5Ga",
        "colab_type": "code",
        "outputId": "926900b8-5136-49b8-8c39-5845fdd3f762",
        "colab": {
          "base_uri": "https://localhost:8080/",
          "height": 119
        }
      },
      "source": [
        "print(int('10010011', 2))\n",
        "print(hex(int('10010011', 2)))\n",
        "print(int('93', 16))\n",
        "print(bin(13))\n",
        "print(bin(int('13', 16)))\n",
        "print(bin(int('FF', 16)))"
      ],
      "execution_count": 0,
      "outputs": [
        {
          "output_type": "stream",
          "text": [
            "147\n",
            "0x93\n",
            "147\n",
            "0b1101\n",
            "0b10011\n",
            "0b11111111\n"
          ],
          "name": "stdout"
        }
      ]
    },
    {
      "cell_type": "markdown",
      "metadata": {
        "id": "YcjfIJ0IiQbs",
        "colab_type": "text"
      },
      "source": [
        "프로그램 2 의 완성"
      ]
    },
    {
      "cell_type": "code",
      "metadata": {
        "id": "WifqTVSWhQIx",
        "colab_type": "code",
        "outputId": "863f0f81-b95f-4320-f7b8-c3730ff558a6",
        "colab": {
          "base_uri": "https://localhost:8080/",
          "height": 119
        }
      },
      "source": [
        "sel = int(input(\"입력 진수 결정(16/10/8/2): \"))\n",
        "num = input(\"값 입력: \")\n",
        "\n",
        "if sel == 16:\n",
        "  num10 = int(num, 16)\n",
        "if sel == 10:\n",
        "  num10 = int(num, 10)\n",
        "if sel == 8:\n",
        "  num10 = int(num, 8)\n",
        "if sel == 2:\n",
        "  num10 = int(num, 2)\n",
        "\n",
        "print(\"16진수 ==>\", hex(num10))\n",
        "print(\"10진수 ==>\", num10)\n",
        "print(\"8진수 ==>\", oct(num10))\n",
        "print(\"2진수 ==>\", bin(num10))\n"
      ],
      "execution_count": 0,
      "outputs": [
        {
          "output_type": "stream",
          "text": [
            "입력 진수 결정(16/10/8/2): 16\n",
            "값 입력: FF\n",
            "16진수 ==> 0xff\n",
            "10진수 ==> 255\n",
            "8진수 ==> 0o377\n",
            "2진수 ==> 0b11111111\n"
          ],
          "name": "stdout"
        }
      ]
    },
    {
      "cell_type": "markdown",
      "metadata": {
        "id": "WcKS_zb2kHIL",
        "colab_type": "text"
      },
      "source": [
        "3-2"
      ]
    },
    {
      "cell_type": "code",
      "metadata": {
        "id": "GvcMZixMjHYW",
        "colab_type": "code",
        "outputId": "fa9d6b72-6b08-420d-8747-f50cb52cc7f4",
        "colab": {
          "base_uri": "https://localhost:8080/",
          "height": 153
        }
      },
      "source": [
        "mode = int(input(\"진수를 선책(2/8/10/16중)=>\"))\n",
        "while(mode != 16 and mode != 10 and mode != 8 and mode != 2):\n",
        "  print(\"다시 입력해주세요!\")\n",
        "  mode = int(input(\"진수를 선책(2/8/10/16중)=>\"))\n",
        "\n",
        "num = input(\"값 입력 =>\")\n",
        "\n",
        "if mode == 16:\n",
        "  num10 = int(num, 16)\n",
        "if mode == 10:\n",
        "  num10 = int(num, 10)\n",
        "if mode == 8:\n",
        "  num10 = int(num, 8)\n",
        "if mode == 2:\n",
        "  num10 = int(num, 2)\n",
        "\n",
        "print(\"16진수 ==>\", hex(num10))\n",
        "print(\"10진수 ==>\", num10)\n",
        "print(\"8진수 ==>\", oct(num10))\n",
        "print(\"2진수 ==>\", bin(num10))\n"
      ],
      "execution_count": 0,
      "outputs": [
        {
          "output_type": "stream",
          "text": [
            "진수를 선책(2/8/10/16중)=>5\n",
            "다시 입력해주세요!\n",
            "진수를 선책(2/8/10/16중)=>10\n",
            "값 입력 =>2\n",
            "16진수 ==> 0x2\n",
            "10진수 ==> 2\n",
            "8진수 ==> 0o2\n",
            "2진수 ==> 0b10\n"
          ],
          "name": "stdout"
        }
      ]
    },
    {
      "cell_type": "markdown",
      "metadata": {
        "id": "Z7MNlQtxmzuD",
        "colab_type": "text"
      },
      "source": [
        "불형"
      ]
    },
    {
      "cell_type": "code",
      "metadata": {
        "id": "ZIo0ZEB3lRcs",
        "colab_type": "code",
        "outputId": "38443aea-55f3-4144-a628-237e1bbbae20",
        "colab": {
          "base_uri": "https://localhost:8080/",
          "height": 68
        }
      },
      "source": [
        "a = (100 == 100)\n",
        "print(a)\n",
        "\n",
        "b = (100 != 100)\n",
        "print(b)\n",
        "\n",
        "type(a)"
      ],
      "execution_count": 0,
      "outputs": [
        {
          "output_type": "stream",
          "text": [
            "True\n",
            "False\n"
          ],
          "name": "stdout"
        },
        {
          "output_type": "execute_result",
          "data": {
            "text/plain": [
              "bool"
            ]
          },
          "metadata": {
            "tags": []
          },
          "execution_count": 32
        }
      ]
    },
    {
      "cell_type": "markdown",
      "metadata": {
        "id": "D5EeI6zOnDIm",
        "colab_type": "text"
      },
      "source": [
        "문자열"
      ]
    },
    {
      "cell_type": "code",
      "metadata": {
        "id": "KxfT7ivgm3tA",
        "colab_type": "code",
        "outputId": "eecdf357-967b-48ba-d877-a56e8390992f",
        "colab": {
          "base_uri": "https://localhost:8080/",
          "height": 85
        }
      },
      "source": [
        "a = '경일대학교'\n",
        "b = '인공지능반'\n",
        "\n",
        "print(type(a))\n",
        "print(type(b))\n",
        "\n",
        "print(a + b)\n",
        "\n",
        "a= \"인공지능반 '화이팅!'\"\n",
        "print(a)"
      ],
      "execution_count": 0,
      "outputs": [
        {
          "output_type": "stream",
          "text": [
            "<class 'str'>\n",
            "<class 'str'>\n",
            "경일대학교인공지능반\n",
            "인공지능반 '화이팅!'\n"
          ],
          "name": "stdout"
        }
      ]
    },
    {
      "cell_type": "code",
      "metadata": {
        "id": "Fa6qUnxRnQl_",
        "colab_type": "code",
        "outputId": "6512fdaf-1726-4102-81d1-bc4cfc1e6188",
        "colab": {
          "base_uri": "https://localhost:8080/",
          "height": 85
        }
      },
      "source": [
        "a = '파이썬 \\n 만세'\n",
        "b = \"\"\"파이썬\n",
        "만세\"\"\"\n",
        "\n",
        "print(a)\n",
        "print(b)"
      ],
      "execution_count": 0,
      "outputs": [
        {
          "output_type": "stream",
          "text": [
            "파이썬 \n",
            " 만세\n",
            "파이썬\n",
            "만세\n"
          ],
          "name": "stdout"
        }
      ]
    },
    {
      "cell_type": "markdown",
      "metadata": {
        "id": "wqBScqbmoZuB",
        "colab_type": "text"
      },
      "source": [
        "63페이지"
      ]
    },
    {
      "cell_type": "markdown",
      "metadata": {
        "id": "mbuXBd77o6__",
        "colab_type": "text"
      },
      "source": [
        "실전평가(64패이지)"
      ]
    },
    {
      "cell_type": "code",
      "metadata": {
        "id": "CrLLjRJUoHNr",
        "colab_type": "code",
        "outputId": "9813589a-4da2-4bf5-d2f9-b4722d6216f8",
        "colab": {
          "base_uri": "https://localhost:8080/",
          "height": 34
        }
      },
      "source": [
        "print(\"경일대학교\", end=\"\")\n",
        "print(\"홍길동\")"
      ],
      "execution_count": 0,
      "outputs": [
        {
          "output_type": "stream",
          "text": [
            "경일대학교홍길동\n"
          ],
          "name": "stdout"
        }
      ]
    },
    {
      "cell_type": "code",
      "metadata": {
        "id": "eaPyBYm9pENW",
        "colab_type": "code",
        "outputId": "16e0b724-4422-4ced-a49f-3e96438d284c",
        "colab": {
          "base_uri": "https://localhost:8080/",
          "height": 85
        }
      },
      "source": [
        "x = int(input(\"첫 번쨰 정수:\"))\n",
        "y = int(input(\"두 번째 정수:\"))\n",
        "print(x + y)\n",
        "\n",
        "if (x > y):\n",
        "  max = x\n",
        "else:\n",
        "  max = y\n",
        "\n",
        "print(\"큰 수 =>\", max)"
      ],
      "execution_count": 0,
      "outputs": [
        {
          "output_type": "stream",
          "text": [
            "첫 번쨰 정수:10\n",
            "두 번째 정수:2\n",
            "12\n",
            "큰 수 => 10\n"
          ],
          "name": "stdout"
        }
      ]
    },
    {
      "cell_type": "code",
      "metadata": {
        "id": "12aq_bTWtG-6",
        "colab_type": "code",
        "outputId": "eb75d131-2bec-4f2f-9795-2dfbcd3aa33e",
        "colab": {
          "base_uri": "https://localhost:8080/",
          "height": 68
        }
      },
      "source": [
        "x = int(input(\"첫 번쨰 정수:\"))\n",
        "y = int(input(\"두 번째 정수:\"))\n",
        "sum = x + y\n",
        "print(sum)"
      ],
      "execution_count": 0,
      "outputs": [
        {
          "output_type": "stream",
          "text": [
            "첫 번쨰 정수:10\n",
            "두 번째 정수:20\n",
            "30\n"
          ],
          "name": "stdout"
        }
      ]
    },
    {
      "cell_type": "code",
      "metadata": {
        "id": "3hNO1KQXtTqB",
        "colab_type": "code",
        "outputId": "0cdac328-840e-4489-ecb4-16d06b0474dc",
        "colab": {
          "base_uri": "https://localhost:8080/",
          "height": 34
        }
      },
      "source": [
        "print(\"나는\" + str(21) + \"살이다\")\n"
      ],
      "execution_count": 0,
      "outputs": [
        {
          "output_type": "stream",
          "text": [
            "나는21살이다\n"
          ],
          "name": "stdout"
        }
      ]
    },
    {
      "cell_type": "code",
      "metadata": {
        "id": "F8J23Km-ttMn",
        "colab_type": "code",
        "outputId": "eaab3f9f-8807-4253-9ba7-38aa651ea76d",
        "colab": {
          "base_uri": "https://localhost:8080/",
          "height": 85
        }
      },
      "source": [
        "x = input(\"x값 입력 = >\")\n",
        "y = input(\"y값 입력 = >\")\n",
        "\n",
        "print(\"교환전: x=\", x, \", y=\", y)\n",
        "t = x\n",
        "x = y\n",
        "y = x\n",
        "print(\"교환 후: x=\", x , \", y=\", y)"
      ],
      "execution_count": 0,
      "outputs": [
        {
          "output_type": "stream",
          "text": [
            "x값 입력 = >3\n",
            "y값 입력 = >4\n",
            "교환전: x= 3 , y= 4\n",
            "교환 후: x= 4 , y= 4\n"
          ],
          "name": "stdout"
        }
      ]
    },
    {
      "cell_type": "markdown",
      "metadata": {
        "id": "s32Aicbduyqu",
        "colab_type": "text"
      },
      "source": [
        "8번 - 답 2번"
      ]
    },
    {
      "cell_type": "code",
      "metadata": {
        "id": "UNfSDIQduSx5",
        "colab_type": "code",
        "outputId": "f67d82cc-2438-44df-e9b0-90260f17fecb",
        "colab": {
          "base_uri": "https://localhost:8080/",
          "height": 34
        }
      },
      "source": [
        "print(int('000110', 2))"
      ],
      "execution_count": 0,
      "outputs": [
        {
          "output_type": "stream",
          "text": [
            "6\n"
          ],
          "name": "stdout"
        }
      ]
    },
    {
      "cell_type": "markdown",
      "metadata": {
        "id": "mqmIOu1_u9y0",
        "colab_type": "text"
      },
      "source": [
        "10번 - 33, 1\n",
        "\n"
      ]
    },
    {
      "cell_type": "code",
      "metadata": {
        "id": "WD3sB8Dau8Z-",
        "colab_type": "code",
        "outputId": "c3f343a8-2f54-4ca5-fee7-bbaaa2c5977e",
        "colab": {
          "base_uri": "https://localhost:8080/",
          "height": 34
        }
      },
      "source": [
        "total = 100\n",
        "number = 3\n",
        "result = total//number\n",
        "remain = total%number\n",
        "print(result, remain)"
      ],
      "execution_count": 0,
      "outputs": [
        {
          "output_type": "stream",
          "text": [
            "33 1\n"
          ],
          "name": "stdout"
        }
      ]
    },
    {
      "cell_type": "markdown",
      "metadata": {
        "id": "JVqL80A3vtQ9",
        "colab_type": "text"
      },
      "source": [
        "11. int, int"
      ]
    },
    {
      "cell_type": "markdown",
      "metadata": {
        "id": "c34i2r7avzZF",
        "colab_type": "text"
      },
      "source": [
        "12. myMoney//ticketPrice\n",
        "\n",
        "12-1. myMoney%ticketPrice"
      ]
    },
    {
      "cell_type": "markdown",
      "metadata": {
        "id": "M-uhL7g_wESc",
        "colab_type": "text"
      },
      "source": [
        "13. init_money * (1+ interest) ** years"
      ]
    },
    {
      "cell_type": "markdown",
      "metadata": {
        "id": "Iyu7NIObwRLr",
        "colab_type": "text"
      },
      "source": [
        "14. 2번째줄 PI를 pi로 "
      ]
    },
    {
      "cell_type": "markdown",
      "metadata": {
        "id": "AEhOz6gfxJKr",
        "colab_type": "text"
      },
      "source": [
        "4장 처음시작"
      ]
    },
    {
      "cell_type": "markdown",
      "metadata": {
        "id": "IV-xKz4e0rcr",
        "colab_type": "text"
      },
      "source": [
        "10페이지 논리연산자"
      ]
    },
    {
      "cell_type": "code",
      "metadata": {
        "id": "VXQEzyskxJYp",
        "colab_type": "code",
        "outputId": "d4e71684-99ee-4f40-9040-1136180cea6d",
        "colab": {
          "base_uri": "https://localhost:8080/",
          "height": 68
        }
      },
      "source": [
        "pil = int(input(\"필기시험 점수 =>\"))\n",
        "sil = int(input(\"실기시험 점수 =>\"))\n",
        "\n",
        "if (pil >= 60 and sil >= 80 ):\n",
        "  print('합격')\n",
        "else:\n",
        "  print('불합격')"
      ],
      "execution_count": 0,
      "outputs": [
        {
          "output_type": "stream",
          "text": [
            "필기시험 점수 =>75\n",
            "실기시험 점수 =>75\n",
            "불합격\n"
          ],
          "name": "stdout"
        }
      ]
    },
    {
      "cell_type": "code",
      "metadata": {
        "id": "LHKlyXoozbg-",
        "colab_type": "code",
        "outputId": "d11de393-6755-4f79-8114-25254b09f0fa",
        "colab": {
          "base_uri": "https://localhost:8080/",
          "height": 51
        }
      },
      "source": [
        "s1 = \"100\"\n",
        "\n",
        "print(int(s1)+ 1)\n",
        "\n",
        "print(float(s1)+ 1)"
      ],
      "execution_count": 0,
      "outputs": [
        {
          "output_type": "stream",
          "text": [
            "101\n",
            "101.0\n"
          ],
          "name": "stdout"
        }
      ]
    },
    {
      "cell_type": "markdown",
      "metadata": {
        "id": "-x29N3l72MmZ",
        "colab_type": "text"
      },
      "source": [
        "19페이지"
      ]
    },
    {
      "cell_type": "code",
      "metadata": {
        "id": "mkA5HKH-1whv",
        "colab_type": "code",
        "outputId": "37dd87bf-8f37-46c5-82ee-1bbdfd79a771",
        "colab": {
          "base_uri": "https://localhost:8080/",
          "height": 119
        }
      },
      "source": [
        "money, c500, c100, c50, c10 = 0, 0, 0, 0, 0\n",
        "\n",
        "money = int(input(\"교환할 돈은 얼마?\"))\n",
        "\n",
        "c500 = money // 500\n",
        "money %= 500\n",
        "\n",
        "c100 = money // 100\n",
        "money %= 100\n",
        "\n",
        "c50 = money // 50\n",
        "money %= 50\n",
        "\n",
        "c10 = money // 10\n",
        "money %= 10\n",
        "\n",
        "print(\"500원: , %d 개\" % c500)\n",
        "print(\"100원: , %d 개\" % c100)\n",
        "print(\"50원: , %d 개\" % c50)\n",
        "print(\"10원: , %d 개\" % c10)\n",
        "print(\"나머지: , %d 원\" % money)"
      ],
      "execution_count": 0,
      "outputs": [
        {
          "output_type": "stream",
          "text": [
            "교환할 돈은 얼마?7777\n",
            "500원: , 15 개\n",
            "100원: , 2 개\n",
            "50원: , 1 개\n",
            "10원: , 2 개\n",
            "나머지: , 7 원\n"
          ],
          "name": "stdout"
        }
      ]
    },
    {
      "cell_type": "markdown",
      "metadata": {
        "id": "ELPzClvL6rXy",
        "colab_type": "text"
      },
      "source": [
        "23페이지"
      ]
    },
    {
      "cell_type": "code",
      "metadata": {
        "id": "MpnxYqaq2nn_",
        "colab_type": "code",
        "outputId": "89ee3493-e64e-4a39-c68c-5f6ca15aaa21",
        "colab": {
          "base_uri": "https://localhost:8080/",
          "height": 51
        }
      },
      "source": [
        "a = 100\n",
        "b = 200\n",
        "print(a == b, a != b)\n",
        "\n",
        "if (a == b):  # a가 0이 아닌 다른 모든 값-> 참으로인식\n",
        "  print(\"두 수는 같은\")\n",
        "else:\n",
        "  print(\"두 수는 다름\")"
      ],
      "execution_count": 0,
      "outputs": [
        {
          "output_type": "stream",
          "text": [
            "False True\n",
            "두 수는 다름\n"
          ],
          "name": "stdout"
        }
      ]
    },
    {
      "cell_type": "markdown",
      "metadata": {
        "id": "_aC8vzsR8Fdl",
        "colab_type": "text"
      },
      "source": [
        "26페이지 프로그램2"
      ]
    },
    {
      "cell_type": "code",
      "metadata": {
        "id": "kV41WqCu6pTY",
        "colab_type": "code",
        "outputId": "a237cc64-d5d8-4771-cc3c-fc210f4a36e4",
        "colab": {
          "base_uri": "https://localhost:8080/",
          "height": 375
        }
      },
      "source": [
        "# 파이썬 파일에서는 가능 여기선왜 안되는지 모르겟음 아마 print가 안되서 그런듯\n",
        "import turtle\n",
        "import random\n",
        "\n",
        "swidth, sheight, pSize, exitCount = 300, 300, 3, 0\n",
        "r, g, b, angle, dist, curX, curY = [0] * 7\n",
        "\n",
        "turtle.title('거북이가 맘대로 다니기')\n",
        "turtle.shape('turtle')\n",
        "turtle.pensize(pSize)\n",
        "turtle.setup(width = swidth + 30, height = sheight +30)\n",
        "turtle.screensize(swidth, sheight)\n",
        "\n",
        "#꼭지점 찍는 코드 추가\n",
        "turtle.penup()\n",
        "turtle.goto(150, 150)\n",
        "turtle.pendown()\n",
        "turtle.dot(10)\n",
        "\n",
        "turtle.penup()\n",
        "turtle.goto(-150, 150)\n",
        "turtle.pendown()\n",
        "turtle.dot(10)\n",
        "\n",
        "turtle.penup()\n",
        "turtle.goto(150, -150)\n",
        "turtle.pendown()\n",
        "turtle.dot(10)\n",
        "\n",
        "turtle.penup()\n",
        "turtle.goto(-150, -150)\n",
        "turtle.pendown()\n",
        "turtle.dot(10)\n",
        "\n",
        "turtle.penup()\n",
        "turtle.goto(0, 0)\n",
        "turtle.pendown()\n",
        "\n",
        "\n",
        "\n",
        "while True:\n",
        "  r = random.random()\n",
        "  g = random.random()\n",
        "  b = random.random()\n",
        "  turtle.pencolor((r, g, b))\n",
        "\n",
        "  angle = random.randrange(0, 360)\n",
        "  dist = random.randrange(1, 100)\n",
        "  turtle.left(angle)\n",
        "  turtle.forward(dist)\n",
        "  curX = turtle.xcor()\n",
        "  curY = turtle.ycor()\n",
        "\n",
        "  if (-swidth / 2 <= curX and curX <= swidth / 2) and ((-sheight / 2 <= curY and curY <= sheight / 2)):\n",
        "    pass\n",
        "  else:\n",
        "    turtle.penup()\n",
        "    turtle.goto(0, 0)\n",
        "    turtle.pendown()\n",
        "\n",
        "    exitCount += 1\n",
        "    if exitCount >= 5:\n",
        "      break\n",
        "\n",
        "turtle.done()"
      ],
      "execution_count": 0,
      "outputs": [
        {
          "output_type": "error",
          "ename": "TclError",
          "evalue": "ignored",
          "traceback": [
            "\u001b[0;31m---------------------------------------------------------------------------\u001b[0m",
            "\u001b[0;31mTclError\u001b[0m                                  Traceback (most recent call last)",
            "\u001b[0;32m<ipython-input-9-111b34dcce55>\u001b[0m in \u001b[0;36m<module>\u001b[0;34m()\u001b[0m\n\u001b[1;32m      6\u001b[0m \u001b[0mr\u001b[0m\u001b[0;34m,\u001b[0m \u001b[0mg\u001b[0m\u001b[0;34m,\u001b[0m \u001b[0mb\u001b[0m\u001b[0;34m,\u001b[0m \u001b[0mangle\u001b[0m\u001b[0;34m,\u001b[0m \u001b[0mdist\u001b[0m\u001b[0;34m,\u001b[0m \u001b[0mcurX\u001b[0m\u001b[0;34m,\u001b[0m \u001b[0mcurY\u001b[0m \u001b[0;34m=\u001b[0m \u001b[0;34m[\u001b[0m\u001b[0;36m0\u001b[0m\u001b[0;34m]\u001b[0m \u001b[0;34m*\u001b[0m \u001b[0;36m7\u001b[0m\u001b[0;34m\u001b[0m\u001b[0;34m\u001b[0m\u001b[0m\n\u001b[1;32m      7\u001b[0m \u001b[0;34m\u001b[0m\u001b[0m\n\u001b[0;32m----> 8\u001b[0;31m \u001b[0mturtle\u001b[0m\u001b[0;34m.\u001b[0m\u001b[0mtitle\u001b[0m\u001b[0;34m(\u001b[0m\u001b[0;34m'거북이가 맘대로 다니기'\u001b[0m\u001b[0;34m)\u001b[0m\u001b[0;34m\u001b[0m\u001b[0;34m\u001b[0m\u001b[0m\n\u001b[0m\u001b[1;32m      9\u001b[0m \u001b[0mturtle\u001b[0m\u001b[0;34m.\u001b[0m\u001b[0mshape\u001b[0m\u001b[0;34m(\u001b[0m\u001b[0;34m'turtle'\u001b[0m\u001b[0;34m)\u001b[0m\u001b[0;34m\u001b[0m\u001b[0;34m\u001b[0m\u001b[0m\n\u001b[1;32m     10\u001b[0m \u001b[0mturtle\u001b[0m\u001b[0;34m.\u001b[0m\u001b[0mpensize\u001b[0m\u001b[0;34m(\u001b[0m\u001b[0mpSize\u001b[0m\u001b[0;34m)\u001b[0m\u001b[0;34m\u001b[0m\u001b[0;34m\u001b[0m\u001b[0m\n",
            "\u001b[0;32m/usr/lib/python3.6/turtle.py\u001b[0m in \u001b[0;36mtitle\u001b[0;34m(titlestring)\u001b[0m\n",
            "\u001b[0;32m/usr/lib/python3.6/turtle.py\u001b[0m in \u001b[0;36mScreen\u001b[0;34m()\u001b[0m\n\u001b[1;32m   3660\u001b[0m     else return the existing one.\"\"\"\n\u001b[1;32m   3661\u001b[0m     \u001b[0;32mif\u001b[0m \u001b[0mTurtle\u001b[0m\u001b[0;34m.\u001b[0m\u001b[0m_screen\u001b[0m \u001b[0;32mis\u001b[0m \u001b[0;32mNone\u001b[0m\u001b[0;34m:\u001b[0m\u001b[0;34m\u001b[0m\u001b[0;34m\u001b[0m\u001b[0m\n\u001b[0;32m-> 3662\u001b[0;31m         \u001b[0mTurtle\u001b[0m\u001b[0;34m.\u001b[0m\u001b[0m_screen\u001b[0m \u001b[0;34m=\u001b[0m \u001b[0m_Screen\u001b[0m\u001b[0;34m(\u001b[0m\u001b[0;34m)\u001b[0m\u001b[0;34m\u001b[0m\u001b[0;34m\u001b[0m\u001b[0m\n\u001b[0m\u001b[1;32m   3663\u001b[0m     \u001b[0;32mreturn\u001b[0m \u001b[0mTurtle\u001b[0m\u001b[0;34m.\u001b[0m\u001b[0m_screen\u001b[0m\u001b[0;34m\u001b[0m\u001b[0;34m\u001b[0m\u001b[0m\n\u001b[1;32m   3664\u001b[0m \u001b[0;34m\u001b[0m\u001b[0m\n",
            "\u001b[0;32m/usr/lib/python3.6/turtle.py\u001b[0m in \u001b[0;36m__init__\u001b[0;34m(self)\u001b[0m\n\u001b[1;32m   3676\u001b[0m         \u001b[0;31m# preserved (perhaps by passing it as an optional parameter)\u001b[0m\u001b[0;34m\u001b[0m\u001b[0;34m\u001b[0m\u001b[0;34m\u001b[0m\u001b[0m\n\u001b[1;32m   3677\u001b[0m         \u001b[0;32mif\u001b[0m \u001b[0m_Screen\u001b[0m\u001b[0;34m.\u001b[0m\u001b[0m_root\u001b[0m \u001b[0;32mis\u001b[0m \u001b[0;32mNone\u001b[0m\u001b[0;34m:\u001b[0m\u001b[0;34m\u001b[0m\u001b[0;34m\u001b[0m\u001b[0m\n\u001b[0;32m-> 3678\u001b[0;31m             \u001b[0m_Screen\u001b[0m\u001b[0;34m.\u001b[0m\u001b[0m_root\u001b[0m \u001b[0;34m=\u001b[0m \u001b[0mself\u001b[0m\u001b[0;34m.\u001b[0m\u001b[0m_root\u001b[0m \u001b[0;34m=\u001b[0m \u001b[0m_Root\u001b[0m\u001b[0;34m(\u001b[0m\u001b[0;34m)\u001b[0m\u001b[0;34m\u001b[0m\u001b[0;34m\u001b[0m\u001b[0m\n\u001b[0m\u001b[1;32m   3679\u001b[0m             \u001b[0mself\u001b[0m\u001b[0;34m.\u001b[0m\u001b[0m_root\u001b[0m\u001b[0;34m.\u001b[0m\u001b[0mtitle\u001b[0m\u001b[0;34m(\u001b[0m\u001b[0m_Screen\u001b[0m\u001b[0;34m.\u001b[0m\u001b[0m_title\u001b[0m\u001b[0;34m)\u001b[0m\u001b[0;34m\u001b[0m\u001b[0;34m\u001b[0m\u001b[0m\n\u001b[1;32m   3680\u001b[0m             \u001b[0mself\u001b[0m\u001b[0;34m.\u001b[0m\u001b[0m_root\u001b[0m\u001b[0;34m.\u001b[0m\u001b[0mondestroy\u001b[0m\u001b[0;34m(\u001b[0m\u001b[0mself\u001b[0m\u001b[0;34m.\u001b[0m\u001b[0m_destroy\u001b[0m\u001b[0;34m)\u001b[0m\u001b[0;34m\u001b[0m\u001b[0;34m\u001b[0m\u001b[0m\n",
            "\u001b[0;32m/usr/lib/python3.6/turtle.py\u001b[0m in \u001b[0;36m__init__\u001b[0;34m(self)\u001b[0m\n\u001b[1;32m    432\u001b[0m     \u001b[0;34m\"\"\"Root class for Screen based on Tkinter.\"\"\"\u001b[0m\u001b[0;34m\u001b[0m\u001b[0;34m\u001b[0m\u001b[0m\n\u001b[1;32m    433\u001b[0m     \u001b[0;32mdef\u001b[0m \u001b[0m__init__\u001b[0m\u001b[0;34m(\u001b[0m\u001b[0mself\u001b[0m\u001b[0;34m)\u001b[0m\u001b[0;34m:\u001b[0m\u001b[0;34m\u001b[0m\u001b[0;34m\u001b[0m\u001b[0m\n\u001b[0;32m--> 434\u001b[0;31m         \u001b[0mTK\u001b[0m\u001b[0;34m.\u001b[0m\u001b[0mTk\u001b[0m\u001b[0;34m.\u001b[0m\u001b[0m__init__\u001b[0m\u001b[0;34m(\u001b[0m\u001b[0mself\u001b[0m\u001b[0;34m)\u001b[0m\u001b[0;34m\u001b[0m\u001b[0;34m\u001b[0m\u001b[0m\n\u001b[0m\u001b[1;32m    435\u001b[0m \u001b[0;34m\u001b[0m\u001b[0m\n\u001b[1;32m    436\u001b[0m     \u001b[0;32mdef\u001b[0m \u001b[0msetupcanvas\u001b[0m\u001b[0;34m(\u001b[0m\u001b[0mself\u001b[0m\u001b[0;34m,\u001b[0m \u001b[0mwidth\u001b[0m\u001b[0;34m,\u001b[0m \u001b[0mheight\u001b[0m\u001b[0;34m,\u001b[0m \u001b[0mcwidth\u001b[0m\u001b[0;34m,\u001b[0m \u001b[0mcheight\u001b[0m\u001b[0;34m)\u001b[0m\u001b[0;34m:\u001b[0m\u001b[0;34m\u001b[0m\u001b[0;34m\u001b[0m\u001b[0m\n",
            "\u001b[0;32m/usr/lib/python3.6/tkinter/__init__.py\u001b[0m in \u001b[0;36m__init__\u001b[0;34m(self, screenName, baseName, className, useTk, sync, use)\u001b[0m\n\u001b[1;32m   2021\u001b[0m                 \u001b[0mbaseName\u001b[0m \u001b[0;34m=\u001b[0m \u001b[0mbaseName\u001b[0m \u001b[0;34m+\u001b[0m \u001b[0mext\u001b[0m\u001b[0;34m\u001b[0m\u001b[0;34m\u001b[0m\u001b[0m\n\u001b[1;32m   2022\u001b[0m         \u001b[0minteractive\u001b[0m \u001b[0;34m=\u001b[0m \u001b[0;36m0\u001b[0m\u001b[0;34m\u001b[0m\u001b[0;34m\u001b[0m\u001b[0m\n\u001b[0;32m-> 2023\u001b[0;31m         \u001b[0mself\u001b[0m\u001b[0;34m.\u001b[0m\u001b[0mtk\u001b[0m \u001b[0;34m=\u001b[0m \u001b[0m_tkinter\u001b[0m\u001b[0;34m.\u001b[0m\u001b[0mcreate\u001b[0m\u001b[0;34m(\u001b[0m\u001b[0mscreenName\u001b[0m\u001b[0;34m,\u001b[0m \u001b[0mbaseName\u001b[0m\u001b[0;34m,\u001b[0m \u001b[0mclassName\u001b[0m\u001b[0;34m,\u001b[0m \u001b[0minteractive\u001b[0m\u001b[0;34m,\u001b[0m \u001b[0mwantobjects\u001b[0m\u001b[0;34m,\u001b[0m \u001b[0museTk\u001b[0m\u001b[0;34m,\u001b[0m \u001b[0msync\u001b[0m\u001b[0;34m,\u001b[0m \u001b[0muse\u001b[0m\u001b[0;34m)\u001b[0m\u001b[0;34m\u001b[0m\u001b[0;34m\u001b[0m\u001b[0m\n\u001b[0m\u001b[1;32m   2024\u001b[0m         \u001b[0;32mif\u001b[0m \u001b[0museTk\u001b[0m\u001b[0;34m:\u001b[0m\u001b[0;34m\u001b[0m\u001b[0;34m\u001b[0m\u001b[0m\n\u001b[1;32m   2025\u001b[0m             \u001b[0mself\u001b[0m\u001b[0;34m.\u001b[0m\u001b[0m_loadtk\u001b[0m\u001b[0;34m(\u001b[0m\u001b[0;34m)\u001b[0m\u001b[0;34m\u001b[0m\u001b[0;34m\u001b[0m\u001b[0m\n",
            "\u001b[0;31mTclError\u001b[0m: no display name and no $DISPLAY environment variable"
          ]
        }
      ]
    },
    {
      "cell_type": "code",
      "metadata": {
        "id": "J2C9VSGg8kG0",
        "colab_type": "code",
        "outputId": "dd9a86b8-2ffc-4c0e-9519-dd9cd36ce154",
        "colab": {
          "base_uri": "https://localhost:8080/",
          "height": 102
        }
      },
      "source": [
        "a = 4\n",
        "b =3\n",
        "print(bin(a))\n",
        "print(bin(b))\n",
        "print(a & b)\n",
        "print(a | b)\n",
        "print(a ^ b)"
      ],
      "execution_count": 0,
      "outputs": [
        {
          "output_type": "stream",
          "text": [
            "0b100\n",
            "0b11\n",
            "0\n",
            "7\n",
            "7\n"
          ],
          "name": "stdout"
        }
      ]
    },
    {
      "cell_type": "code",
      "metadata": {
        "id": "SFMDuytXFoSL",
        "colab_type": "code",
        "outputId": "a92b9b4b-42dc-406f-991e-e116c26acb5c",
        "colab": {
          "base_uri": "https://localhost:8080/",
          "height": 68
        }
      },
      "source": [
        "print(10 & 7)\n",
        "print(123 & 456)\n",
        "print(0xFFFF & 0x0000)"
      ],
      "execution_count": 0,
      "outputs": [
        {
          "output_type": "stream",
          "text": [
            "2\n",
            "72\n",
            "0\n"
          ],
          "name": "stdout"
        }
      ]
    },
    {
      "cell_type": "code",
      "metadata": {
        "id": "qsHi2XdrGXc1",
        "colab_type": "code",
        "outputId": "75bd94e7-fe63-4a2c-eb49-0fcf5689f941",
        "colab": {
          "base_uri": "https://localhost:8080/",
          "height": 68
        }
      },
      "source": [
        "a = ord('A')\n",
        "b = 0x0F\n",
        "\n",
        "print(a & b)\n",
        "print(a | b)\n",
        "print(bin(a | b))"
      ],
      "execution_count": 0,
      "outputs": [
        {
          "output_type": "stream",
          "text": [
            "1\n",
            "79\n",
            "0b1001111\n"
          ],
          "name": "stdout"
        }
      ]
    },
    {
      "cell_type": "code",
      "metadata": {
        "id": "GAgmIarAHV38",
        "colab_type": "code",
        "outputId": "52f1027b-8f0d-4888-87af-2e53e7746cd9",
        "colab": {
          "base_uri": "https://localhost:8080/",
          "height": 51
        }
      },
      "source": [
        "a = 12345\n",
        "print(~a)\n",
        "print(~a + 1)"
      ],
      "execution_count": 0,
      "outputs": [
        {
          "output_type": "stream",
          "text": [
            "-12346\n",
            "-12345\n"
          ],
          "name": "stdout"
        }
      ]
    },
    {
      "cell_type": "code",
      "metadata": {
        "id": "HxrZMenzHyfn",
        "colab_type": "code",
        "outputId": "c2dca1a0-6be2-446c-dd8e-811a04bce71f",
        "colab": {
          "base_uri": "https://localhost:8080/",
          "height": 153
        }
      },
      "source": [
        "a = 10\n",
        "print(bin(a))\n",
        "\n",
        "b = ~a\n",
        "print(bin(b))\n",
        "print(bin(~a+1))\n",
        "\n",
        "a = 10\n",
        "print(bin(b))\n",
        "print(bin(a))\n",
        "a = a << 1\n",
        "print(bin(a))\n",
        "print(a)\n",
        "a = a >>1\n",
        "print(bin(a))"
      ],
      "execution_count": 0,
      "outputs": [
        {
          "output_type": "stream",
          "text": [
            "0b1010\n",
            "-0b1011\n",
            "-0b1010\n",
            "-0b1011\n",
            "0b1010\n",
            "0b10100\n",
            "20\n",
            "0b1010\n"
          ],
          "name": "stdout"
        }
      ]
    },
    {
      "cell_type": "markdown",
      "metadata": {
        "id": "FCM2mLpRJLCp",
        "colab_type": "text"
      },
      "source": [
        "40페이지"
      ]
    },
    {
      "cell_type": "code",
      "metadata": {
        "id": "xQogakkRIGQN",
        "colab_type": "code",
        "outputId": "f5379114-1632-429b-8eb1-838a881d7f79",
        "colab": {
          "base_uri": "https://localhost:8080/",
          "height": 153
        }
      },
      "source": [
        "a = 100\n",
        "result = 0\n",
        "i = 0\n",
        "\n",
        "for i in range(1, 5):\n",
        "  result = a << i\n",
        "  print(\"%d << %d = %d\" % (a, i, result))\n",
        "\n",
        "for i in range(1, 5):\n",
        "  result = a >> i\n",
        "  print(\"%d >> %d = %d\" % (a, i, result))"
      ],
      "execution_count": 0,
      "outputs": [
        {
          "output_type": "stream",
          "text": [
            "100 << 1 = 200\n",
            "100 << 2 = 400\n",
            "100 << 3 = 800\n",
            "100 << 4 = 1600\n",
            "100 >> 1 = 50\n",
            "100 >> 2 = 25\n",
            "100 >> 3 = 12\n",
            "100 >> 4 = 6\n"
          ],
          "name": "stdout"
        }
      ]
    },
    {
      "cell_type": "markdown",
      "metadata": {
        "id": "bN6_8TyuLK32",
        "colab_type": "text"
      },
      "source": [
        "5장 처음"
      ]
    },
    {
      "cell_type": "code",
      "metadata": {
        "id": "-AAKaZqQJoJ8",
        "colab_type": "code",
        "colab": {}
      },
      "source": [
        ""
      ],
      "execution_count": 0,
      "outputs": []
    }
  ]
}