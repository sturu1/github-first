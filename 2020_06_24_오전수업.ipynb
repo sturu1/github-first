{
  "nbformat": 4,
  "nbformat_minor": 0,
  "metadata": {
    "colab": {
      "name": "2020_06_24_오전수업.ipynb",
      "provenance": [],
      "authorship_tag": "ABX9TyNotYJM+4qIeqoS2GPZNHQt",
      "include_colab_link": true
    },
    "kernelspec": {
      "name": "python3",
      "display_name": "Python 3"
    }
  },
  "cells": [
    {
      "cell_type": "markdown",
      "metadata": {
        "id": "view-in-github",
        "colab_type": "text"
      },
      "source": [
        "<a href=\"https://colab.research.google.com/github/sturu1/github-first/blob/master/2020_06_24_%EC%98%A4%EC%A0%84%EC%88%98%EC%97%85.ipynb\" target=\"_parent\"><img src=\"https://colab.research.google.com/assets/colab-badge.svg\" alt=\"Open In Colab\"/></a>"
      ]
    },
    {
      "cell_type": "markdown",
      "metadata": {
        "id": "IKfv1kWyuNia",
        "colab_type": "text"
      },
      "source": [
        "cmd 에 \n",
        "\n",
        "pip install beautifulsoup4 \n",
        "\n",
        " pip install flask\n",
        "\n",
        "\n",
        "설치하기"
      ]
    },
    {
      "cell_type": "markdown",
      "metadata": {
        "id": "dZK0ctDTvoTe",
        "colab_type": "text"
      },
      "source": [
        "# Beautifulsoup 모듈\n",
        "\n",
        "파이썬으로 저장한 후 파일에 넣고 우측마우스 클릭해서\n",
        "git busk here 클릭후 export FLASK_APP=3.py 입력후 flask run 하면됨\n"
      ]
    },
    {
      "cell_type": "markdown",
      "metadata": {
        "id": "-tn_jh_p-sFb",
        "colab_type": "text"
      },
      "source": [
        ""
      ]
    },
    {
      "cell_type": "code",
      "metadata": {
        "id": "Ng0ZpocRsFfL",
        "colab_type": "code",
        "colab": {}
      },
      "source": [
        "#모듈 읽기\n",
        "from urllib import request\n",
        "from bs4 import BeautifulSoup\n",
        "\n",
        "#urlopen () 함수로 기상청 전국 날씨 읽기\n",
        "target = request.urlopen(\"https://www.weather.go.kr/weather/forecast/mid-term-rss3.jsp?stnId=108\")\n",
        "\n",
        "#BeautifulSoup 을 사용해 웹 페이지 분석\n",
        "soup = BeautifulSoup(target, \"html.parser\")\n",
        "\n",
        "#location 태그 찾기\n",
        "for location in soup.select(\"location\"):\n",
        "  #내부의 city, wf, tmn, tmx 태그 찾아 출력\n",
        "  print(\"도시:\", location.select_one(\"city\").string)\n",
        "  print(\"날씨:\", location.select_one(\"wf\").string)\n",
        "  print(\"최저기온:\", location.select_one(\"tmn\").string)\n",
        "  print(\"최대기온:\", location.select_one(\"tmx\").string)\n",
        "  print()"
      ],
      "execution_count": null,
      "outputs": []
    },
    {
      "cell_type": "markdown",
      "metadata": {
        "id": "ClZrJIt5xhYy",
        "colab_type": "text"
      },
      "source": [
        "# Flask 모듈"
      ]
    },
    {
      "cell_type": "code",
      "metadata": {
        "id": "5SgFsSeOw2ic",
        "colab_type": "code",
        "colab": {}
      },
      "source": [
        "from flask import Flask\n",
        "app = Flask(__name__)\n",
        "\n",
        "@app.route(\"/\")\n",
        "def hello():\n",
        "  return \"<h1>Hello World</h1>\""
      ],
      "execution_count": 7,
      "outputs": []
    },
    {
      "cell_type": "markdown",
      "metadata": {
        "id": "hfyPRtbR618z",
        "colab_type": "text"
      },
      "source": [
        "파이썬으로 저장한 후 파일에 넣고 우측마우스 클릭해서\n",
        "git busk here 클릭후 export FLASK_APP=3.py 입력후 flask run 하면됨\n"
      ]
    },
    {
      "cell_type": "code",
      "metadata": {
        "id": "jYMY3FZNylyb",
        "colab_type": "code",
        "colab": {}
      },
      "source": [
        "from flask import Flask\n",
        "from urllib import request\n",
        "from bs4 import BeautifulSoup\n",
        "\n",
        "#웹 서버 생성\n",
        "app = Flask(__name__)\n",
        "@app.route(\"/\")\n",
        "\n",
        "def hello():\n",
        "  #urlopen () 함수로 기상청 전국 날씨 읽기\n",
        "  target = request.urlopen(\"https://www.weather.go.kr/weather/forecast/mid-term-rss3.jsp?stnId=108\")\n",
        "\n",
        "  #BeautifulSoup 을 사용해 웹 페이지 분석\n",
        "  soup = BeautifulSoup(target, \"html.parser\")\n",
        "\n",
        "  #location 태그\n",
        "  output = \"\"\n",
        "  for location in soup.select(\"location\"):\n",
        "    #내부의 city, wf, tmn, tmx 태그 찾아 출력\n",
        "    output += \"<h3>{}</h3>\".format(location.select_one(\"city\").string)\n",
        "    output += \"날씨: {}<br/>\".format(location.select_one(\"wf\").string)\n",
        "    output += \"최저/최고 기온: {}/{}\".format(\n",
        "        location.select_one(\"tmn\").string, \n",
        "        location.select_one(\"tmx\").string\n",
        "    )\n",
        "\n",
        "    output += \"<hr/>\"\n",
        "  return output"
      ],
      "execution_count": 16,
      "outputs": []
    },
    {
      "cell_type": "markdown",
      "metadata": {
        "id": "NrB94lks9ADK",
        "colab_type": "text"
      },
      "source": [
        "# "
      ]
    },
    {
      "cell_type": "code",
      "metadata": {
        "id": "20yJhs-A8SFq",
        "colab_type": "code",
        "colab": {
          "base_uri": "https://localhost:8080/",
          "height": 68
        },
        "outputId": "035fba9b-d2db-4785-8808-5a2576e7d559"
      },
      "source": [
        "#함수 테코레이터 생성\n",
        "def test(function):\n",
        "  def wrapper():\n",
        "    print(\"인사 시작\")\n",
        "    function()\n",
        "    print(\"인사 종료\")\n",
        "  return wrapper\n",
        "\n",
        "#테코레이션 붙여 함수 생성\n",
        "@test\n",
        "def hello():\n",
        "  print(\"hello\")\n",
        "\n",
        "#함수 호출\n",
        "hello()"
      ],
      "execution_count": 20,
      "outputs": [
        {
          "output_type": "stream",
          "text": [
            "인사 시작\n",
            "hello\n",
            "인사 종료\n"
          ],
          "name": "stdout"
        }
      ]
    },
    {
      "cell_type": "markdown",
      "metadata": {
        "id": "hN1voyV__aQB",
        "colab_type": "text"
      },
      "source": [
        "# 모듈 만들기\n",
        "module_basic 폴더 만든 후 아래 두 파일 저장하고 main.py실행  파이썬으로 실행할것\n"
      ]
    },
    {
      "cell_type": "code",
      "metadata": {
        "id": "OH60kfoz_NVb",
        "colab_type": "code",
        "colab": {}
      },
      "source": [
        "#test_midule.py파일\n",
        "PI = 3.141592\n",
        "\n",
        "def number_input():\n",
        "  output = input(\"숫자 입력>\")\n",
        "  return float(output)\n",
        "\n",
        "def get_circumference(radius):\n",
        "  return 2 * PI * radius\n",
        "\n",
        "def get_circle_area(radius):\n",
        "  return PI * radius * radius"
      ],
      "execution_count": 21,
      "outputs": []
    },
    {
      "cell_type": "code",
      "metadata": {
        "id": "EtyKc86tA46S",
        "colab_type": "code",
        "colab": {}
      },
      "source": [
        "#main.py 파일\n",
        "import test_module as test\n",
        "\n",
        "radius = test.number_input()\n",
        "print(test.get_circumferenxe(radius))\n",
        "print(test.get_circle_area(radius))"
      ],
      "execution_count": null,
      "outputs": []
    },
    {
      "cell_type": "markdown",
      "metadata": {
        "id": "Vw4kKR4gB1FQ",
        "colab_type": "text"
      },
      "source": [
        "#__name__\n",
        "\n",
        "엔트리 포인트 // 메인\n",
        "\n",
        "파이썬으로 실행할것"
      ]
    },
    {
      "cell_type": "code",
      "metadata": {
        "id": "9fjQFCHEB0gC",
        "colab_type": "code",
        "colab": {}
      },
      "source": [
        "#test_module.py파일 \n",
        "import test_module\n",
        "\n",
        "print(\"#apdldml __name__ 출력하기\")\n",
        "print(__name__)\n",
        "print()"
      ],
      "execution_count": null,
      "outputs": []
    },
    {
      "cell_type": "markdown",
      "metadata": {
        "id": "QDTWbQhzJyVw",
        "colab_type": "text"
      },
      "source": [
        ""
      ]
    },
    {
      "cell_type": "code",
      "metadata": {
        "id": "4ndidC6RC3qa",
        "colab_type": "code",
        "colab": {}
      },
      "source": [
        "#test_midule.py파일\n",
        "PI = 3.141592\n",
        "\n",
        "def number_input():\n",
        "  output = input(\"숫자 입력>\")\n",
        "  return float(output)\n",
        "\n",
        "def get_circumference(radius):\n",
        "  return 2 * PI * radius\n",
        "\n",
        "def get_circle_area(radius):\n",
        "  return PI * radius * radius\n",
        "\n",
        "#활용의 예\n",
        "if __name__ == \"__name__\":\n",
        "  print(\"get_circumference(10):\", get_circumference(10))\n",
        "  print(\"get_circle_area(10):\", get_circle_area)"
      ],
      "execution_count": 24,
      "outputs": []
    },
    {
      "cell_type": "markdown",
      "metadata": {
        "id": "kVyjWTVHLDhH",
        "colab_type": "text"
      },
      "source": [
        ""
      ]
    },
    {
      "cell_type": "code",
      "metadata": {
        "id": "ZLpT0WlHKMuc",
        "colab_type": "code",
        "colab": {}
      },
      "source": [
        "#./test"
      ],
      "execution_count": null,
      "outputs": []
    },
    {
      "cell_type": "markdown",
      "metadata": {
        "id": "SwoZChoyLvsb",
        "colab_type": "text"
      },
      "source": [
        "# __int__.py \n"
      ]
    },
    {
      "cell_type": "code",
      "metadata": {
        "id": "0HDozy7vL1vh",
        "colab_type": "code",
        "colab": {}
      },
      "source": [
        "#__int__.py"
      ],
      "execution_count": 25,
      "outputs": []
    },
    {
      "cell_type": "code",
      "metadata": {
        "id": "GlSpZ7-7L8k-",
        "colab_type": "code",
        "colab": {
          "base_uri": "https://localhost:8080/",
          "height": 34
        },
        "outputId": "55d8bd17-b217-490f-9910-a23d905d9ddb"
      },
      "source": [
        "#\"from test_package import *\"로\n",
        "#모듈을 읽어 들일떄 가져올 모듈\n",
        "__all__= [\"module_a\", \"module_b\"]\n",
        "\n",
        "#패키지를 읽어 들일떄  처리를 작성\n",
        "print(\"작성\")"
      ],
      "execution_count": 26,
      "outputs": [
        {
          "output_type": "stream",
          "text": [
            "작성\n"
          ],
          "name": "stdout"
        }
      ]
    },
    {
      "cell_type": "code",
      "metadata": {
        "id": "u3_P6GhwMeTf",
        "colab_type": "code",
        "colab": {}
      },
      "source": [
        "#패키지 내부의 모듈 읽기\n",
        "from test_package import *\n",
        "\n",
        "#모듈 내부의 변수 출력\n",
        "print(module_a.variable_a)\n",
        "print(module_b.variable_b)"
      ],
      "execution_count": null,
      "outputs": []
    },
    {
      "cell_type": "markdown",
      "metadata": {
        "id": "KsuLiraZNmpO",
        "colab_type": "text"
      },
      "source": [
        "# 구글에 파이썬 코딩 도장에 코드가 잇음"
      ]
    },
    {
      "cell_type": "markdown",
      "metadata": {
        "id": "gb7VLLUiM8um",
        "colab_type": "text"
      },
      "source": [
        "# 세트(set)사용"
      ]
    },
    {
      "cell_type": "code",
      "metadata": {
        "id": "ZIqhOX3sNcRO",
        "colab_type": "code",
        "colab": {
          "base_uri": "https://localhost:8080/",
          "height": 34
        },
        "outputId": "f01d34e3-60bb-447a-a670-ddd3ae2cf709"
      },
      "source": [
        "fruits = {'strawberry', 'grape', 'orange', 'pineapple', 'cherry'}\n",
        "\n",
        "fruits\n"
      ],
      "execution_count": 28,
      "outputs": [
        {
          "output_type": "execute_result",
          "data": {
            "text/plain": [
              "{'cherry', 'grape', 'orange', 'pineapple', 'strawberry'}"
            ]
          },
          "metadata": {
            "tags": []
          },
          "execution_count": 28
        }
      ]
    },
    {
      "cell_type": "code",
      "metadata": {
        "id": "C5xtn5nLOPz4",
        "colab_type": "code",
        "colab": {
          "base_uri": "https://localhost:8080/",
          "height": 34
        },
        "outputId": "5a1b18fc-f5b4-4e8a-ea84-da59dbb56e99"
      },
      "source": [
        "c = {}\n",
        "type(c)"
      ],
      "execution_count": 29,
      "outputs": [
        {
          "output_type": "execute_result",
          "data": {
            "text/plain": [
              "dict"
            ]
          },
          "metadata": {
            "tags": []
          },
          "execution_count": 29
        }
      ]
    },
    {
      "cell_type": "markdown",
      "metadata": {
        "id": "7bNrFiOjQJ3n",
        "colab_type": "text"
      },
      "source": [
        "# 합집합(union)"
      ]
    },
    {
      "cell_type": "code",
      "metadata": {
        "id": "UQtBiBo0Pq0o",
        "colab_type": "code",
        "colab": {
          "base_uri": "https://localhost:8080/",
          "height": 51
        },
        "outputId": "bea69438-442b-4978-d792-37150d63aa43"
      },
      "source": [
        "a = {1, 2, 3, 4}\n",
        "b = {3, 4, 5, 6}\n",
        "print(a | b)\n",
        "print(set.union(a, b))"
      ],
      "execution_count": 32,
      "outputs": [
        {
          "output_type": "stream",
          "text": [
            "{1, 2, 3, 4, 5, 6}\n",
            "{1, 2, 3, 4, 5, 6}\n"
          ],
          "name": "stdout"
        }
      ]
    },
    {
      "cell_type": "markdown",
      "metadata": {
        "id": "b-WZS_roQQTs",
        "colab_type": "text"
      },
      "source": [
        "# 교집합(intersection)"
      ]
    },
    {
      "cell_type": "code",
      "metadata": {
        "id": "Jkj3ROQPP_vH",
        "colab_type": "code",
        "colab": {
          "base_uri": "https://localhost:8080/",
          "height": 51
        },
        "outputId": "bacafb8f-001b-4b18-89f8-4ac8a284071b"
      },
      "source": [
        "print(a & b)\n",
        "print(set.intersection(a, b))"
      ],
      "execution_count": 34,
      "outputs": [
        {
          "output_type": "stream",
          "text": [
            "{3, 4}\n",
            "{3, 4}\n"
          ],
          "name": "stdout"
        }
      ]
    },
    {
      "cell_type": "markdown",
      "metadata": {
        "id": "pPww_-mMQgB2",
        "colab_type": "text"
      },
      "source": [
        "# 차집합(difference)"
      ]
    },
    {
      "cell_type": "code",
      "metadata": {
        "id": "52tInZjLQZQ4",
        "colab_type": "code",
        "colab": {
          "base_uri": "https://localhost:8080/",
          "height": 51
        },
        "outputId": "01ec6f2c-44c3-4186-f350-8860e2ece43d"
      },
      "source": [
        "print(a - b)\n",
        "print(set.difference(a, b))"
      ],
      "execution_count": 36,
      "outputs": [
        {
          "output_type": "stream",
          "text": [
            "{1, 2}\n",
            "{1, 2}\n"
          ],
          "name": "stdout"
        }
      ]
    },
    {
      "cell_type": "markdown",
      "metadata": {
        "id": "f5dItlTOQxmv",
        "colab_type": "text"
      },
      "source": [
        "# 대칭차집합(symmetric difference)"
      ]
    },
    {
      "cell_type": "code",
      "metadata": {
        "id": "QqH62lzZQjPX",
        "colab_type": "code",
        "colab": {
          "base_uri": "https://localhost:8080/",
          "height": 51
        },
        "outputId": "04b1ec05-7cad-4b96-86a7-493d98627296"
      },
      "source": [
        "print(a ^ b)\n",
        "print(set.symmetric_difference(a, b))"
      ],
      "execution_count": 38,
      "outputs": [
        {
          "output_type": "stream",
          "text": [
            "{1, 2, 5, 6}\n",
            "{1, 2, 5, 6}\n"
          ],
          "name": "stdout"
        }
      ]
    },
    {
      "cell_type": "markdown",
      "metadata": {
        "id": "jIY_kO1HRKiu",
        "colab_type": "text"
      },
      "source": [
        "# 집합 연산 후 할당 연산자 사용하기\n",
        "\n",
        "|=은 현재 세트에 다른 세트를 더하며 update 메서드와 같습니다."
      ]
    },
    {
      "cell_type": "code",
      "metadata": {
        "id": "fhemAO_nQvXA",
        "colab_type": "code",
        "colab": {
          "base_uri": "https://localhost:8080/",
          "height": 51
        },
        "outputId": "e704d6e7-00cc-45e6-d3e8-8e2356e02b12"
      },
      "source": [
        "a = {1, 2, 3, 4}\n",
        "a |= {5}\n",
        "print(a)"
      ],
      "execution_count": 44,
      "outputs": [
        {
          "output_type": "stream",
          "text": [
            "{1, 2, 3, 4, 5}\n",
            "None\n"
          ],
          "name": "stdout"
        }
      ]
    },
    {
      "cell_type": "code",
      "metadata": {
        "id": "hApFwJUBRDa5",
        "colab_type": "code",
        "colab": {
          "base_uri": "https://localhost:8080/",
          "height": 34
        },
        "outputId": "60d640a6-ed5e-4b5d-bb55-293336981a60"
      },
      "source": [
        "a = {1, 2, 3, 4}\n",
        "print(a.update({5}))"
      ],
      "execution_count": 45,
      "outputs": [
        {
          "output_type": "stream",
          "text": [
            "None\n"
          ],
          "name": "stdout"
        }
      ]
    },
    {
      "cell_type": "markdown",
      "metadata": {
        "id": "nF7bOI-9R7cu",
        "colab_type": "text"
      },
      "source": [
        "# 부분 집합과 상위집합 확인하기\n",
        "\n",
        "<=은 현재 세트가 다른 세트의 부분집합(subset)인지 확인하며 issubset 메서드와 같습니다."
      ]
    },
    {
      "cell_type": "code",
      "metadata": {
        "id": "s0Cfpg2HRmgt",
        "colab_type": "code",
        "colab": {
          "base_uri": "https://localhost:8080/",
          "height": 51
        },
        "outputId": "8e8d94c1-f929-4e28-8c95-86d81abaf142"
      },
      "source": [
        "a = {1, 2, 3, 4}\n",
        "print(a <= {1, 2, 3, 4})\n",
        "\n",
        "print(a.issubset({1, 2, 3, 4, 5}))"
      ],
      "execution_count": 48,
      "outputs": [
        {
          "output_type": "stream",
          "text": [
            "True\n",
            "True\n"
          ],
          "name": "stdout"
        }
      ]
    },
    {
      "cell_type": "markdown",
      "metadata": {
        "id": "IMmIDHNLSRrn",
        "colab_type": "text"
      },
      "source": [
        "<은 현재 세트가 다른 세트의 진부분집합(proper subset)인지 확인하며 메서드는 없습니다."
      ]
    },
    {
      "cell_type": "code",
      "metadata": {
        "id": "LnRJvD05SVjG",
        "colab_type": "code",
        "colab": {
          "base_uri": "https://localhost:8080/",
          "height": 34
        },
        "outputId": "154f2797-e78b-4d79-e640-19d86115c31a"
      },
      "source": [
        "a = {1, 2, 3, 4}\n",
        "print(a < {1, 2, 3, 4, 5})"
      ],
      "execution_count": 50,
      "outputs": [
        {
          "output_type": "stream",
          "text": [
            "True\n"
          ],
          "name": "stdout"
        }
      ]
    },
    {
      "cell_type": "markdown",
      "metadata": {
        "id": "7PV9T7HGSIE2",
        "colab_type": "text"
      },
      "source": [
        ">=은 현재 세트가 다른 세트의 상위집합(superset)인지 확인하며 issuperset 메서드와 같습니다."
      ]
    },
    {
      "cell_type": "code",
      "metadata": {
        "id": "e0JlAkW3SdLu",
        "colab_type": "code",
        "colab": {
          "base_uri": "https://localhost:8080/",
          "height": 51
        },
        "outputId": "2fe77a88-88aa-4d44-fa3f-b280a0e3189f"
      },
      "source": [
        "a = {1, 2, 3, 4}\n",
        "print(a >= {1, 2, 3, 4})\n",
        "print(a.issuperset({1, 2, 3, 4}))"
      ],
      "execution_count": 51,
      "outputs": [
        {
          "output_type": "stream",
          "text": [
            "True\n",
            "True\n"
          ],
          "name": "stdout"
        }
      ]
    },
    {
      "cell_type": "markdown",
      "metadata": {
        "id": "-IalTtq5SyzO",
        "colab_type": "text"
      },
      "source": [
        ">은 현재 세트가 다른 세트의 진상위집합(proper superset)인지 확인하며 메서드는 없습니다"
      ]
    },
    {
      "cell_type": "code",
      "metadata": {
        "id": "81Bza20xSjoP",
        "colab_type": "code",
        "colab": {
          "base_uri": "https://localhost:8080/",
          "height": 34
        },
        "outputId": "656be1d7-4fcb-4e96-ab27-d77f525a5e8c"
      },
      "source": [
        "a = {1, 2, 3, 4}\n",
        "a > {1, 2, 3}\n"
      ],
      "execution_count": 52,
      "outputs": [
        {
          "output_type": "execute_result",
          "data": {
            "text/plain": [
              "True"
            ]
          },
          "metadata": {
            "tags": []
          },
          "execution_count": 52
        }
      ]
    },
    {
      "cell_type": "markdown",
      "metadata": {
        "id": "4SjRXnkETC62",
        "colab_type": "text"
      },
      "source": [
        "# 세트가 겹치지 않는지 확인하기\n",
        "\n",
        "현재세트.isdisjoint(다른세트)"
      ]
    },
    {
      "cell_type": "code",
      "metadata": {
        "id": "7t2-GfM_S1K9",
        "colab_type": "code",
        "colab": {
          "base_uri": "https://localhost:8080/",
          "height": 51
        },
        "outputId": "f968b01a-bf77-42a1-dbe8-c26eff2a9801"
      },
      "source": [
        "a = {1, 2, 3, 4}\n",
        "print(a.isdisjoint({5, 6, 7, 8}))\n",
        "print(a.isdisjoint({3, 4, 5, 6}))"
      ],
      "execution_count": 54,
      "outputs": [
        {
          "output_type": "stream",
          "text": [
            "True\n",
            "False\n"
          ],
          "name": "stdout"
        }
      ]
    },
    {
      "cell_type": "code",
      "metadata": {
        "id": "T4uAp-4STJGQ",
        "colab_type": "code",
        "colab": {}
      },
      "source": [
        ""
      ],
      "execution_count": null,
      "outputs": []
    }
  ]
}