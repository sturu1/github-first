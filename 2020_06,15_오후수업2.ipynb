{
  "nbformat": 4,
  "nbformat_minor": 0,
  "metadata": {
    "colab": {
      "name": "2020.06,15 오후수업2.ipynb",
      "provenance": [],
      "authorship_tag": "ABX9TyMmsQQjMtoMb2aanMYBRo9U",
      "include_colab_link": true
    },
    "kernelspec": {
      "name": "python3",
      "display_name": "Python 3"
    }
  },
  "cells": [
    {
      "cell_type": "markdown",
      "metadata": {
        "id": "view-in-github",
        "colab_type": "text"
      },
      "source": [
        "<a href=\"https://colab.research.google.com/github/sturu1/github-first/blob/master/2020_06%2C15_%EC%98%A4%ED%9B%84%EC%88%98%EC%97%852.ipynb\" target=\"_parent\"><img src=\"https://colab.research.google.com/assets/colab-badge.svg\" alt=\"Open In Colab\"/></a>"
      ]
    },
    {
      "cell_type": "markdown",
      "metadata": {
        "id": "2xWrPWCF9WnA",
        "colab_type": "text"
      },
      "source": [
        "# Pandas 라이브러리\n",
        "\n",
        "Series 자료형 만들어보기"
      ]
    },
    {
      "cell_type": "code",
      "metadata": {
        "id": "FwVJp-GL9MLP",
        "colab_type": "code",
        "colab": {
          "base_uri": "https://localhost:8080/",
          "height": 68
        },
        "outputId": "185b7b4c-287d-4c7e-d087-635f221bb6d9"
      },
      "source": [
        "import pandas as pd\n",
        "s = pd.Series([1, 2, 3, 4, 5])\n",
        "#내부 값 확인할때 , values 멤버 변수에 들어잇음\n",
        "print(s.values)\n",
        "\n",
        "#데이터 타입 확인\n",
        "print(type(s.values))\n",
        "print(s.dtypes)\n",
        "\n",
        "\n",
        "\n"
      ],
      "execution_count": 5,
      "outputs": [
        {
          "output_type": "stream",
          "text": [
            "[1 2 3 4 5]\n",
            "<class 'numpy.ndarray'>\n",
            "int64\n"
          ],
          "name": "stdout"
        }
      ]
    },
    {
      "cell_type": "code",
      "metadata": {
        "id": "e_MDWHQ0-l4n",
        "colab_type": "code",
        "colab": {
          "base_uri": "https://localhost:8080/",
          "height": 173
        },
        "outputId": "44f453f9-c7d8-4f88-f3a5-3ac541520b4f"
      },
      "source": [
        "#name이라는 속성(attribute) 안에 투플들 삽입\n",
        "data = {'name': ['brian', 'brian', 'brian', 'andy'],\n",
        "        'year': [2017, 2018, 2019, 2020],\n",
        "        'points': [1.7, 3.6, 2.4, 2.9]\n",
        "}\n",
        "\n",
        "df = pd.DataFrame(data)\n",
        "df"
      ],
      "execution_count": 6,
      "outputs": [
        {
          "output_type": "execute_result",
          "data": {
            "text/html": [
              "<div>\n",
              "<style scoped>\n",
              "    .dataframe tbody tr th:only-of-type {\n",
              "        vertical-align: middle;\n",
              "    }\n",
              "\n",
              "    .dataframe tbody tr th {\n",
              "        vertical-align: top;\n",
              "    }\n",
              "\n",
              "    .dataframe thead th {\n",
              "        text-align: right;\n",
              "    }\n",
              "</style>\n",
              "<table border=\"1\" class=\"dataframe\">\n",
              "  <thead>\n",
              "    <tr style=\"text-align: right;\">\n",
              "      <th></th>\n",
              "      <th>name</th>\n",
              "      <th>year</th>\n",
              "      <th>points</th>\n",
              "    </tr>\n",
              "  </thead>\n",
              "  <tbody>\n",
              "    <tr>\n",
              "      <th>0</th>\n",
              "      <td>brian</td>\n",
              "      <td>2017</td>\n",
              "      <td>1.7</td>\n",
              "    </tr>\n",
              "    <tr>\n",
              "      <th>1</th>\n",
              "      <td>brian</td>\n",
              "      <td>2018</td>\n",
              "      <td>3.6</td>\n",
              "    </tr>\n",
              "    <tr>\n",
              "      <th>2</th>\n",
              "      <td>brian</td>\n",
              "      <td>2019</td>\n",
              "      <td>2.4</td>\n",
              "    </tr>\n",
              "    <tr>\n",
              "      <th>3</th>\n",
              "      <td>andy</td>\n",
              "      <td>2020</td>\n",
              "      <td>2.9</td>\n",
              "    </tr>\n",
              "  </tbody>\n",
              "</table>\n",
              "</div>"
            ],
            "text/plain": [
              "    name  year  points\n",
              "0  brian  2017     1.7\n",
              "1  brian  2018     3.6\n",
              "2  brian  2019     2.4\n",
              "3   andy  2020     2.9"
            ]
          },
          "metadata": {
            "tags": []
          },
          "execution_count": 6
        }
      ]
    },
    {
      "cell_type": "markdown",
      "metadata": {
        "id": "2ilGRQP8_hod",
        "colab_type": "text"
      },
      "source": [
        "# Series 자료를 DataFrame에 추가해보기"
      ]
    },
    {
      "cell_type": "code",
      "metadata": {
        "id": "t88dora__SdB",
        "colab_type": "code",
        "colab": {
          "base_uri": "https://localhost:8080/",
          "height": 173
        },
        "outputId": "873cc17b-264b-45d1-f98a-dde7b5574e57"
      },
      "source": [
        "#시리즈 데이터 하나 만들기\n",
        "val = pd.Series([4, 4.5, 3.0, 3.5])\n",
        "#grade라는 속성(attribute)\n",
        "df['grade'] = val\n",
        "df"
      ],
      "execution_count": 7,
      "outputs": [
        {
          "output_type": "execute_result",
          "data": {
            "text/html": [
              "<div>\n",
              "<style scoped>\n",
              "    .dataframe tbody tr th:only-of-type {\n",
              "        vertical-align: middle;\n",
              "    }\n",
              "\n",
              "    .dataframe tbody tr th {\n",
              "        vertical-align: top;\n",
              "    }\n",
              "\n",
              "    .dataframe thead th {\n",
              "        text-align: right;\n",
              "    }\n",
              "</style>\n",
              "<table border=\"1\" class=\"dataframe\">\n",
              "  <thead>\n",
              "    <tr style=\"text-align: right;\">\n",
              "      <th></th>\n",
              "      <th>name</th>\n",
              "      <th>year</th>\n",
              "      <th>points</th>\n",
              "      <th>grade</th>\n",
              "    </tr>\n",
              "  </thead>\n",
              "  <tbody>\n",
              "    <tr>\n",
              "      <th>0</th>\n",
              "      <td>brian</td>\n",
              "      <td>2017</td>\n",
              "      <td>1.7</td>\n",
              "      <td>4.0</td>\n",
              "    </tr>\n",
              "    <tr>\n",
              "      <th>1</th>\n",
              "      <td>brian</td>\n",
              "      <td>2018</td>\n",
              "      <td>3.6</td>\n",
              "      <td>4.5</td>\n",
              "    </tr>\n",
              "    <tr>\n",
              "      <th>2</th>\n",
              "      <td>brian</td>\n",
              "      <td>2019</td>\n",
              "      <td>2.4</td>\n",
              "      <td>3.0</td>\n",
              "    </tr>\n",
              "    <tr>\n",
              "      <th>3</th>\n",
              "      <td>andy</td>\n",
              "      <td>2020</td>\n",
              "      <td>2.9</td>\n",
              "      <td>3.5</td>\n",
              "    </tr>\n",
              "  </tbody>\n",
              "</table>\n",
              "</div>"
            ],
            "text/plain": [
              "    name  year  points  grade\n",
              "0  brian  2017     1.7    4.0\n",
              "1  brian  2018     3.6    4.5\n",
              "2  brian  2019     2.4    3.0\n",
              "3   andy  2020     2.9    3.5"
            ]
          },
          "metadata": {
            "tags": []
          },
          "execution_count": 7
        }
      ]
    },
    {
      "cell_type": "markdown",
      "metadata": {
        "id": "XvOJ8TtMHEND",
        "colab_type": "text"
      },
      "source": [
        "페이지 107쪽?? 모르겟음"
      ]
    },
    {
      "cell_type": "code",
      "metadata": {
        "id": "6ibYcwUC_-9C",
        "colab_type": "code",
        "colab": {
          "base_uri": "https://localhost:8080/",
          "height": 130
        },
        "outputId": "c70ddeb7-9df4-435a-b48a-182b7c4d9f33"
      },
      "source": [
        "import pandas as pd\n",
        "import numpy as np\n",
        "import matplotlib.pyplot as plt\n",
        "\n",
        "#주소가 이상...\n",
        "addr = 'http://archive.ics.uci.edu/ml/machine-learning-databases/wine-quality/winequality-red.csv'\n",
        "red = pd.read_csv(addr, sep=';')\n",
        "\n",
        "addw = 'http://archive.ics.uci.edu/ml/machine-learning-databases/wine-quality/winequality-white.csv'\n",
        "white = pd.read_csv(addw, sep=';')\n",
        "\n",
        "print(type(red))\n",
        "\n",
        "red['type'] = 0\n",
        "white['type'] = 1\n",
        "#데이터 개수 확인\n",
        "print(len(red), len(white))\n",
        "\n",
        "#두개의 데이터 병합\n",
        "wine = pd.concat([red, white])\n",
        "#합친 후 데이터 개수 확인\n",
        "print(len(wine))\n",
        "\n",
        "#histogram\n",
        "#plt.hist(wine['fixed acidity'])\n",
        "#plt.xticks([0, 1])\n",
        "#plt.show()\n",
        "\n",
        "#print (wine.info())\n",
        "\n",
        "wine_norm = (wine - wine.min() / (wine.max() - wine.min())\n",
        "wine_norm"
      ],
      "execution_count": 18,
      "outputs": [
        {
          "output_type": "error",
          "ename": "SyntaxError",
          "evalue": "ignored",
          "traceback": [
            "\u001b[0;36m  File \u001b[0;32m\"<ipython-input-18-9735655a6c16>\"\u001b[0;36m, line \u001b[0;32m32\u001b[0m\n\u001b[0;31m    wine_norm\u001b[0m\n\u001b[0m            ^\u001b[0m\n\u001b[0;31mSyntaxError\u001b[0m\u001b[0;31m:\u001b[0m invalid syntax\n"
          ]
        }
      ]
    },
    {
      "cell_type": "code",
      "metadata": {
        "id": "ne4OUt6pEPqq",
        "colab_type": "code",
        "colab": {}
      },
      "source": [
        "\n"
      ],
      "execution_count": 0,
      "outputs": []
    }
  ]
}