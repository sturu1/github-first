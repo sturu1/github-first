{
  "nbformat": 4,
  "nbformat_minor": 0,
  "metadata": {
    "colab": {
      "name": "2020_06_22_오전수업.ipynb",
      "provenance": [],
      "authorship_tag": "ABX9TyNrdP79JPe0NZ+0ClWWl58X",
      "include_colab_link": true
    },
    "kernelspec": {
      "name": "python3",
      "display_name": "Python 3"
    }
  },
  "cells": [
    {
      "cell_type": "markdown",
      "metadata": {
        "id": "view-in-github",
        "colab_type": "text"
      },
      "source": [
        "<a href=\"https://colab.research.google.com/github/sturu1/github-first/blob/master/2020_06_22_%EC%98%A4%EC%A0%84%EC%88%98%EC%97%85.ipynb\" target=\"_parent\"><img src=\"https://colab.research.google.com/assets/colab-badge.svg\" alt=\"Open In Colab\"/></a>"
      ]
    },
    {
      "cell_type": "markdown",
      "metadata": {
        "id": "sjNr7raSnNAk",
        "colab_type": "text"
      },
      "source": [
        "페이지 107\n"
      ]
    },
    {
      "cell_type": "code",
      "metadata": {
        "id": "7l6vEJqynCQm",
        "colab_type": "code",
        "colab": {
          "base_uri": "https://localhost:8080/",
          "height": 1000
        },
        "outputId": "679b7e67-bee8-4ff4-95f3-58b277b92126"
      },
      "source": [
        "import pandas as pd\n",
        "import numpy as np\n",
        "import matplotlib.pyplot as plt\n",
        "\n",
        "\n",
        "addr = 'http://archive.ics.uci.edu/ml/machine-learning-databases/wine-quality/winequality-red.csv'\n",
        "red = pd.read_csv(addr, sep=';')\n",
        "\n",
        "addw = 'http://archive.ics.uci.edu/ml/machine-learning-databases/wine-quality/winequality-white.csv'\n",
        "white = pd.read_csv(addw, sep=';')\n",
        "\n",
        "print(red.head())\n",
        "print(white.head())\n",
        "\n",
        "print(type(red))\n",
        "\n",
        "\n",
        "red['type'] = 0\n",
        "white['type'] = 1\n",
        "\n",
        "print(red.head(2))\n",
        "print(white.head(2))\n",
        "\n",
        "\n",
        "\n",
        "#데이터 개수 확인\n",
        "print(len(red), len(white))\n",
        "\n",
        "#두개의 데이터 병합\n",
        "wine = pd.concat([red, white])\n",
        "print(wine.describe())\n",
        "\n",
        "\n",
        "#합친 후 데이터 개수 확인\n",
        "print(len(wine))\n",
        "\n",
        "#histogram\n",
        "plt.hist(wine['type'])\n",
        "plt.xticks([0, 1])\n",
        "plt.show()\n",
        "\n",
        "print(wine['type'].value_counts())\n",
        "\n",
        "\n",
        "print (wine.info())\n",
        "\n",
        "#학습을 위한 정규화\n",
        "wine_norm = (wine - wine.min()) / (wine.max() - wine.min())\n",
        "\n",
        "#학습을 위한 훈련, 검증, 테스트 데이터셋 \n",
        "#epochs - 오늘 책 한권 보기\n",
        "#Batch - 오늘 하루 배울 공부량 \n",
        "#일반화시키기\n",
        "wine_shuffle = wine_norm.sample(frac=1)\n",
        "#\n",
        "wine_np = wine_shuffle.to_numpy()\n",
        "\n",
        "print(wine_np.shape)\n"
      ],
      "execution_count": 1,
      "outputs": [
        {
          "output_type": "stream",
          "text": [
            "   fixed acidity  volatile acidity  citric acid  ...  sulphates  alcohol  quality\n",
            "0            7.4              0.70         0.00  ...       0.56      9.4        5\n",
            "1            7.8              0.88         0.00  ...       0.68      9.8        5\n",
            "2            7.8              0.76         0.04  ...       0.65      9.8        5\n",
            "3           11.2              0.28         0.56  ...       0.58      9.8        6\n",
            "4            7.4              0.70         0.00  ...       0.56      9.4        5\n",
            "\n",
            "[5 rows x 12 columns]\n",
            "   fixed acidity  volatile acidity  citric acid  ...  sulphates  alcohol  quality\n",
            "0            7.0              0.27         0.36  ...       0.45      8.8        6\n",
            "1            6.3              0.30         0.34  ...       0.49      9.5        6\n",
            "2            8.1              0.28         0.40  ...       0.44     10.1        6\n",
            "3            7.2              0.23         0.32  ...       0.40      9.9        6\n",
            "4            7.2              0.23         0.32  ...       0.40      9.9        6\n",
            "\n",
            "[5 rows x 12 columns]\n",
            "<class 'pandas.core.frame.DataFrame'>\n",
            "   fixed acidity  volatile acidity  citric acid  ...  alcohol  quality  type\n",
            "0            7.4              0.70          0.0  ...      9.4        5     0\n",
            "1            7.8              0.88          0.0  ...      9.8        5     0\n",
            "\n",
            "[2 rows x 13 columns]\n",
            "   fixed acidity  volatile acidity  citric acid  ...  alcohol  quality  type\n",
            "0            7.0              0.27         0.36  ...      8.8        6     1\n",
            "1            6.3              0.30         0.34  ...      9.5        6     1\n",
            "\n",
            "[2 rows x 13 columns]\n",
            "1599 4898\n",
            "       fixed acidity  volatile acidity  ...      quality         type\n",
            "count    6497.000000       6497.000000  ...  6497.000000  6497.000000\n",
            "mean        7.215307          0.339666  ...     5.818378     0.753886\n",
            "std         1.296434          0.164636  ...     0.873255     0.430779\n",
            "min         3.800000          0.080000  ...     3.000000     0.000000\n",
            "25%         6.400000          0.230000  ...     5.000000     1.000000\n",
            "50%         7.000000          0.290000  ...     6.000000     1.000000\n",
            "75%         7.700000          0.400000  ...     6.000000     1.000000\n",
            "max        15.900000          1.580000  ...     9.000000     1.000000\n",
            "\n",
            "[8 rows x 13 columns]\n",
            "6497\n"
          ],
          "name": "stdout"
        },
        {
          "output_type": "display_data",
          "data": {
            "image/png": "[encoded data removed]",
            "text/plain": [
              "<Figure size 432x288 with 1 Axes>"
            ]
          },
          "metadata": {
            "tags": [],
            "needs_background": "light"
          }
        },
        {
          "output_type": "stream",
          "text": [
            "1    4898\n",
            "0    1599\n",
            "Name: type, dtype: int64\n",
            "<class 'pandas.core.frame.DataFrame'>\n",
            "Int64Index: 6497 entries, 0 to 4897\n",
            "Data columns (total 13 columns):\n",
            " #   Column                Non-Null Count  Dtype  \n",
            "---  ------                --------------  -----  \n",
            " 0   fixed acidity         6497 non-null   float64\n",
            " 1   volatile acidity      6497 non-null   float64\n",
            " 2   citric acid           6497 non-null   float64\n",
            " 3   residual sugar        6497 non-null   float64\n",
            " 4   chlorides             6497 non-null   float64\n",
            " 5   free sulfur dioxide   6497 non-null   float64\n",
            " 6   total sulfur dioxide  6497 non-null   float64\n",
            " 7   density               6497 non-null   float64\n",
            " 8   pH                    6497 non-null   float64\n",
            " 9   sulphates             6497 non-null   float64\n",
            " 10  alcohol               6497 non-null   float64\n",
            " 11  quality               6497 non-null   int64  \n",
            " 12  type                  6497 non-null   int64  \n",
            "dtypes: float64(11), int64(2)\n",
            "memory usage: 710.6 KB\n",
            "None\n",
            "(6497, 13)\n"
          ],
          "name": "stdout"
        }
      ]
    },
    {
      "cell_type": "code",
      "metadata": {
        "id": "L4RH-k5fo9wO",
        "colab_type": "code",
        "colab": {
          "base_uri": "https://localhost:8080/",
          "height": 1000
        },
        "outputId": "21e802a3-3532-4c0c-bdd9-4510581f2385"
      },
      "source": [
        "import tensorflow as tf\n",
        "\n",
        "nTuple = len(wine_np)\n",
        "print(nTuple)\n",
        "\n",
        "#80%지점의 index 구함\n",
        "train_idx = int(nTuple * 0.8)\n",
        "print(train_idx)\n",
        "\n",
        "#해당 index보다 작은 범위의 투플들을 모두 가져옴. (Training)\n",
        "#index보다 작은 모든 튜플들 가져오기 (:train_idx)\n",
        "#type 속성빼고 그 앞에 잇는 모든 속성들 가져오기 (:-1)\n",
        "train_X = wine_np[:train_idx, :-1] #입력벡터 12차원\n",
        "train_Y = wine_np[:train_idx, -1]  #정답\n",
        "\n",
        "print(\"트레이닝 데이터: \", train_X.shape, train_Y.shape)\n",
        "\n",
        "#해당 index보다 큰 범위의 투플들을 모두 가져옴. (Test)\n",
        "test_X = wine_np[:train_idx, :-1] #입력벡터 12차원\n",
        "test_Y = wine_np[:train_idx, -1]  #정답\n",
        "\n",
        "print(\"테스트 데이터: \", test_X.shape, test_Y.shape)\n",
        "\n",
        "#one-hot vector로 변환하기 위해 categorical 함수 사용\n",
        "train_Y = tf.keras.utils.to_categorical(train_Y, num_classes = 2)\n",
        "test_Y = tf.keras.utils.to_categorical(train_Y, num_classes = 2)\n",
        "print(\"one-hot으로 변환\", train_Y.shape, test_Y.shape)\n",
        "\n",
        "#===========학습하기 위한 데이터 split과정이 모두 끝남\n",
        "#입력레이어 12차원, 첫번째 48뉴련(차원) 두번째 24차원, 세번째 12차원, 출력 2차원\n",
        "model = tf.keras.Sequential()\n",
        "#첫번째 레이어\n",
        "model.add(tf.keras.layers.Dense(48, activation = 'relu', input_shape= (12,)))\n",
        "#두번째 레이어\n",
        "model.add(tf.keras.layers.Dense(24, activation = 'relu'))\n",
        "#세번째 레이어\n",
        "model.add(tf.keras.layers.Dense(12, activation = 'relu'))\n",
        "#출력 레이어\n",
        "model.add(tf.keras.layers.Dense(2, activation = 'softmax'))\n",
        "\n",
        "#======== 모델 정의완료\n",
        "\n",
        "model.compile(optimizer = tf.keras.optimizers.Adam(lr = 0.07),\n",
        "              loss = 'categorical_crossentropy', metrics = ['accuracy']\n",
        ")\n",
        "\n",
        "#============모델 설정완료\n",
        "model.summary()\n",
        "\n",
        " #실제로 여기서 학습시작\n",
        "history = model.fit(train_X, train_Y, epochs=25, batch_size=32, validation_split = 0.25)"
      ],
      "execution_count": 2,
      "outputs": [
        {
          "output_type": "stream",
          "text": [
            "6497\n",
            "5197\n",
            "트레이닝 데이터:  (5197, 12) (5197,)\n",
            "테스트 데이터:  (5197, 12) (5197,)\n",
            "one-hot으로 변환 (5197, 2) (5197, 2, 2)\n",
            "Model: \"sequential\"\n",
            "_________________________________________________________________\n",
            "Layer (type)                 Output Shape              Param #   \n",
            "=================================================================\n",
            "dense (Dense)                (None, 48)                624       \n",
            "_________________________________________________________________\n",
            "dense_1 (Dense)              (None, 24)                1176      \n",
            "_________________________________________________________________\n",
            "dense_2 (Dense)              (None, 12)                300       \n",
            "_________________________________________________________________\n",
            "dense_3 (Dense)              (None, 2)                 26        \n",
            "=================================================================\n",
            "Total params: 2,126\n",
            "Trainable params: 2,126\n",
            "Non-trainable params: 0\n",
            "_________________________________________________________________\n",
            "Epoch 1/25\n",
            "122/122 [==============================] - 0s 3ms/step - loss: 0.1217 - accuracy: 0.9518 - val_loss: 0.0651 - val_accuracy: 0.9808\n",
            "Epoch 2/25\n",
            "122/122 [==============================] - 0s 2ms/step - loss: 0.0517 - accuracy: 0.9836 - val_loss: 0.0401 - val_accuracy: 0.9869\n",
            "Epoch 3/25\n",
            "122/122 [==============================] - 0s 2ms/step - loss: 0.0479 - accuracy: 0.9859 - val_loss: 0.2245 - val_accuracy: 0.9408\n",
            "Epoch 4/25\n",
            "122/122 [==============================] - 0s 2ms/step - loss: 0.0645 - accuracy: 0.9836 - val_loss: 0.0381 - val_accuracy: 0.9915\n",
            "Epoch 5/25\n",
            "122/122 [==============================] - 0s 2ms/step - loss: 0.0428 - accuracy: 0.9892 - val_loss: 0.0355 - val_accuracy: 0.9862\n",
            "Epoch 6/25\n",
            "122/122 [==============================] - 0s 2ms/step - loss: 0.0342 - accuracy: 0.9910 - val_loss: 0.0824 - val_accuracy: 0.9815\n",
            "Epoch 7/25\n",
            "122/122 [==============================] - 0s 2ms/step - loss: 0.0357 - accuracy: 0.9918 - val_loss: 0.1411 - val_accuracy: 0.9531\n",
            "Epoch 8/25\n",
            "122/122 [==============================] - 0s 2ms/step - loss: 0.0504 - accuracy: 0.9854 - val_loss: 0.0499 - val_accuracy: 0.9846\n",
            "Epoch 9/25\n",
            "122/122 [==============================] - 0s 2ms/step - loss: 0.0359 - accuracy: 0.9908 - val_loss: 0.0356 - val_accuracy: 0.9931\n",
            "Epoch 10/25\n",
            "122/122 [==============================] - 0s 2ms/step - loss: 0.0365 - accuracy: 0.9897 - val_loss: 0.0381 - val_accuracy: 0.9915\n",
            "Epoch 11/25\n",
            "122/122 [==============================] - 0s 2ms/step - loss: 0.0345 - accuracy: 0.9918 - val_loss: 0.0801 - val_accuracy: 0.9892\n",
            "Epoch 12/25\n",
            "122/122 [==============================] - 0s 2ms/step - loss: 0.0374 - accuracy: 0.9910 - val_loss: 0.0382 - val_accuracy: 0.9900\n",
            "Epoch 13/25\n",
            "122/122 [==============================] - 0s 2ms/step - loss: 0.0328 - accuracy: 0.9908 - val_loss: 0.0567 - val_accuracy: 0.9923\n",
            "Epoch 14/25\n",
            "122/122 [==============================] - 0s 2ms/step - loss: 0.0311 - accuracy: 0.9938 - val_loss: 0.0406 - val_accuracy: 0.9931\n",
            "Epoch 15/25\n",
            "122/122 [==============================] - 0s 2ms/step - loss: 0.0333 - accuracy: 0.9920 - val_loss: 0.0449 - val_accuracy: 0.9923\n",
            "Epoch 16/25\n",
            "122/122 [==============================] - 0s 2ms/step - loss: 0.0313 - accuracy: 0.9913 - val_loss: 0.0368 - val_accuracy: 0.9931\n",
            "Epoch 17/25\n",
            "122/122 [==============================] - 0s 2ms/step - loss: 0.0250 - accuracy: 0.9959 - val_loss: 0.0407 - val_accuracy: 0.9938\n",
            "Epoch 18/25\n",
            "122/122 [==============================] - 0s 2ms/step - loss: 0.0313 - accuracy: 0.9923 - val_loss: 0.0386 - val_accuracy: 0.9915\n",
            "Epoch 19/25\n",
            "122/122 [==============================] - 0s 2ms/step - loss: 0.0337 - accuracy: 0.9910 - val_loss: 0.0529 - val_accuracy: 0.9915\n",
            "Epoch 20/25\n",
            "122/122 [==============================] - 0s 2ms/step - loss: 0.0271 - accuracy: 0.9931 - val_loss: 0.0684 - val_accuracy: 0.9862\n",
            "Epoch 21/25\n",
            "122/122 [==============================] - 0s 2ms/step - loss: 0.0376 - accuracy: 0.9918 - val_loss: 0.0744 - val_accuracy: 0.9908\n",
            "Epoch 22/25\n",
            "122/122 [==============================] - 0s 2ms/step - loss: 0.0289 - accuracy: 0.9926 - val_loss: 0.0515 - val_accuracy: 0.9908\n",
            "Epoch 23/25\n",
            "122/122 [==============================] - 0s 2ms/step - loss: 0.0319 - accuracy: 0.9928 - val_loss: 0.0779 - val_accuracy: 0.9846\n",
            "Epoch 24/25\n",
            "122/122 [==============================] - 0s 2ms/step - loss: 0.0312 - accuracy: 0.9946 - val_loss: 0.0459 - val_accuracy: 0.9900\n",
            "Epoch 25/25\n",
            "122/122 [==============================] - 0s 2ms/step - loss: 0.0458 - accuracy: 0.9882 - val_loss: 0.0723 - val_accuracy: 0.9908\n"
          ],
          "name": "stdout"
        }
      ]
    },
    {
      "cell_type": "markdown",
      "metadata": {
        "id": "WdaBwRKw2Re-",
        "colab_type": "text"
      },
      "source": [
        "# 학습트렌트 가시화  / / 페이지 128"
      ]
    },
    {
      "cell_type": "code",
      "metadata": {
        "id": "9OGufYbJtd7R",
        "colab_type": "code",
        "colab": {
          "base_uri": "https://localhost:8080/",
          "height": 283
        },
        "outputId": "2007ed77-f0e8-458b-d58c-13140296392f"
      },
      "source": [
        "import matplotlib.pyplot as plt\n",
        "plt.figure(figsize = (12, 4))\n",
        "\n",
        "# sub 그래프 하나\n",
        "plt.subplot(1, 2, 1)\n",
        "plt.plot(history.history['loss'], 'b', label='loss')\n",
        "plt.plot(history.history['val_loss'], 'r--', label='val_loss')\n",
        "plt.xlabel('epoch')\n",
        "plt.legend()\n",
        "\n",
        "# sub 그래프 둘\n",
        "plt.subplot(1, 2, 2)\n",
        "plt.plot(history.history['accuracy'], 'g-', label = 'accuracy')\n",
        "plt.plot(history.history['val_accuracy'], 'y--', label = 'val_accuracy')\n",
        "plt.ylabel('epoch')\n",
        "plt.ylim(0.7, 1)\n",
        "plt.legend()\n",
        "\n",
        "plt.show()"
      ],
      "execution_count": 3,
      "outputs": [
        {
          "output_type": "display_data",
          "data": {
            "image/png": "[encoded data removed]",
            "text/plain": [
              "<Figure size 864x288 with 2 Axes>"
            ]
          },
          "metadata": {
            "tags": [],
            "needs_background": "light"
          }
        }
      ]
    },
    {
      "cell_type": "markdown",
      "metadata": {
        "id": "wBbQB0E16PNc",
        "colab_type": "text"
      },
      "source": [
        "# Softmax 만들어보기  // 페이지 117\n",
        "\n",
        "1. 확률이 아닌 어떤 값(logits) 들이 주어졌을 때\n",
        "2. 각 값들이 특성이 두드러졌을때 사용하는것\n",
        "\n",
        "![대체 텍스트](http://tcpschool.com/examples/images/deep_002.png)\n",
        "\n",
        "![대체 텍스트](https://t1.daumcdn.net/cfile/tistory/9964B8495C820D3608)"
      ]
    },
    {
      "cell_type": "code",
      "metadata": {
        "id": "pDuzl3-e3i_2",
        "colab_type": "code",
        "colab": {
          "base_uri": "https://localhost:8080/",
          "height": 381
        },
        "outputId": "d7624cfd-952e-426f-8df2-84199bea9cb4"
      },
      "source": [
        "import math\n",
        "import numpy as np\n",
        "import matplotlib.pyplot as plt\n",
        "\n",
        "#softmax 함수\n",
        "def softmax(logits):\n",
        "  exps = np.exp(logits) #exponentials of logits\n",
        "  sumExps = np.sum(exps) # summation of logits\n",
        "  P = exps / sumExps #확률\n",
        "  print(exps)\n",
        "  print(sumExps)\n",
        "  print(P)\n",
        "\n",
        "  return P\n",
        "\n",
        "#뉴럴네트워크 결과로 나오 값 (logits)\n",
        "logits = np.array([3, 5, 1, 10])\n",
        "\n",
        "#함수의 사용\n",
        "P = softmax(logits)\n",
        "\n",
        "#graph rendering\n",
        "plt.figure(figsize = (12, 4))\n",
        "plt.subplot(1, 2, 1)\n",
        "plt.bar(range(logits.shape[0]), logits)\n",
        "plt.xlabel('logits')\n",
        "plt.legend()\n",
        "\n",
        "plt.subplot(1, 2, 2)\n",
        "plt.bar(range(P.shape[0]), P)\n",
        "plt.xlabel('softmax')\n",
        "plt.legend()\n"
      ],
      "execution_count": 4,
      "outputs": [
        {
          "output_type": "stream",
          "text": [
            "No handles with labels found to put in legend.\n",
            "No handles with labels found to put in legend.\n"
          ],
          "name": "stderr"
        },
        {
          "output_type": "stream",
          "text": [
            "[2.00855369e+01 1.48413159e+02 2.71828183e+00 2.20264658e+04]\n",
            "22197.68277266094\n",
            "[9.04848363e-04 6.68597532e-03 1.22457910e-04 9.92286718e-01]\n"
          ],
          "name": "stdout"
        },
        {
          "output_type": "execute_result",
          "data": {
            "text/plain": [
              "<matplotlib.legend.Legend at 0x7fba395c0390>"
            ]
          },
          "metadata": {
            "tags": []
          },
          "execution_count": 4
        },
        {
          "output_type": "display_data",
          "data": {
            "image/png": "[encoded data removed]",
            "text/plain": [
              "<Figure size 864x288 with 2 Axes>"
            ]
          },
          "metadata": {
            "tags": [],
            "needs_background": "light"
          }
        }
      ]
    },
    {
      "cell_type": "markdown",
      "metadata": {
        "id": "7-y9uVtlCFUN",
        "colab_type": "text"
      },
      "source": [
        "# 크로스엔트로피 (Categoriacal Cross Entropy) // 페이지 119\n",
        "\n"
      ]
    },
    {
      "cell_type": "markdown",
      "metadata": {
        "id": "RA-lCzs8csf_",
        "colab_type": "text"
      },
      "source": [
        "# Entropy 구해보기\n",
        "정보량을 나타냄. 희귀할 수록 (확률(logits)이 낮을수록) 정보량(Entropy)은 증가.\n",
        "\n",
        "\n"
      ]
    },
    {
      "cell_type": "code",
      "metadata": {
        "id": "fG1mLDSU97B3",
        "colab_type": "code",
        "colab": {
          "base_uri": "https://localhost:8080/",
          "height": 364
        },
        "outputId": "9372b6d6-0422-427a-aeb0-1c43bf636e5a"
      },
      "source": [
        "import math\n",
        "import numpy as np\n",
        "import matplotlib.pyplot as plt\n",
        "\n",
        "print(P)\n",
        "entropy = -np.log(P)\n",
        "print(entropy)\n",
        "\n",
        "#graph rendering\n",
        "plt.figure(figsize = (12, 4))\n",
        "plt.subplot(1, 2, 1)\n",
        "plt.bar(range(logits.shape[0]), logits)\n",
        "plt.xlabel('logits')\n",
        "plt.legend()\n",
        "\n",
        "plt.subplot(1, 2, 2)\n",
        "plt.bar(range(entropy.shape[0]), entropy)\n",
        "plt.xlabel('entropy')\n",
        "plt.legend()\n",
        "\n"
      ],
      "execution_count": null,
      "outputs": [
        {
          "output_type": "stream",
          "text": [
            "[0.0158422  0.11705891 0.00214401 0.86495488]\n",
            "[4.14507794 2.14507794 6.14507794 0.14507794]\n"
          ],
          "name": "stdout"
        },
        {
          "output_type": "stream",
          "text": [
            "No handles with labels found to put in legend.\n",
            "No handles with labels found to put in legend.\n"
          ],
          "name": "stderr"
        },
        {
          "output_type": "execute_result",
          "data": {
            "text/plain": [
              "<matplotlib.legend.Legend at 0x7ff4209d6b00>"
            ]
          },
          "metadata": {
            "tags": []
          },
          "execution_count": 83
        },
        {
          "output_type": "display_data",
          "data": {
            "image/png": "[encoded data removed]",
            "text/plain": [
              "<Figure size 864x288 with 2 Axes>"
            ]
          },
          "metadata": {
            "tags": [],
            "needs_background": "light"
          }
        }
      ]
    },
    {
      "cell_type": "markdown",
      "metadata": {
        "id": "pkpr7rZ5gg3X",
        "colab_type": "text"
      },
      "source": [
        "# Entropy의 기댓값\n",
        "\n",
        "확률이 낮으면 정보량은 많지만, 원래 확률과 가중평균되어서 기대 값은 그리 높지 않을 수 있다.\n",
        "\n",
        "$ E(x) = -p(x)logP(x) $"
      ]
    },
    {
      "cell_type": "code",
      "metadata": {
        "id": "mMxoImpWdveP",
        "colab_type": "code",
        "colab": {
          "base_uri": "https://localhost:8080/",
          "height": 398
        },
        "outputId": "41cc75b8-7f93-4ef0-d789-2ce8ef0727fe"
      },
      "source": [
        "E = -P * np.log(P)\n",
        "print(logits, \"logits\")\n",
        "print(P, \"확률\")\n",
        "print(-np.log(P), \"엔트로피\")\n",
        "print(\"엔트로피의 기댓값\")\n",
        "\n",
        "#graph rendering\n",
        "plt.figure(figsize = (12, 4))\n",
        "plt.subplot(1, 2, 1)\n",
        "plt.bar(range(E.shape[0]), E)\n",
        "plt.xlabel('expectation of entropy')\n",
        "plt.legend()\n",
        "\n",
        "plt.subplot(1, 2, 2)\n",
        "plt.bar(range(entropy.shape[0]), entropy)\n",
        "plt.xlabel('entropy')\n",
        "plt.legend()"
      ],
      "execution_count": null,
      "outputs": [
        {
          "output_type": "stream",
          "text": [
            "No handles with labels found to put in legend.\n",
            "No handles with labels found to put in legend.\n"
          ],
          "name": "stderr"
        },
        {
          "output_type": "stream",
          "text": [
            "[3 5 1 7] logits\n",
            "[0.0158422  0.11705891 0.00214401 0.86495488] 확률\n",
            "[4.14507794 2.14507794 6.14507794 0.14507794] 엔트로피\n",
            "엔트로피의 기댓값\n"
          ],
          "name": "stdout"
        },
        {
          "output_type": "execute_result",
          "data": {
            "text/plain": [
              "<matplotlib.legend.Legend at 0x7ff42b447be0>"
            ]
          },
          "metadata": {
            "tags": []
          },
          "execution_count": 84
        },
        {
          "output_type": "display_data",
          "data": {
            "image/png": "[encoded data removed]",
            "text/plain": [
              "<Figure size 864x288 with 2 Axes>"
            ]
          },
          "metadata": {
            "tags": [],
            "needs_background": "light"
          }
        }
      ]
    },
    {
      "cell_type": "markdown",
      "metadata": {
        "id": "CMK_GweciS9l",
        "colab_type": "text"
      },
      "source": [
        "# 머신러닝에서 Categorical Cross Entropy (CCE)\n",
        "\n",
        "$ -\\frac {\\Sigma p(x) \\text{log} q(x)}{J} $ \n",
        "\n",
        "J는 클래스 개수, q는 예측된 확률, p는 정답확률"
      ]
    },
    {
      "cell_type": "code",
      "metadata": {
        "id": "tsx6JvGMhmr4",
        "colab_type": "code",
        "colab": {
          "base_uri": "https://localhost:8080/",
          "height": 34
        },
        "outputId": "49b45e84-47b4-4253-ac4f-48588eabf062"
      },
      "source": [
        "import numpy as np\n",
        "import matplotlib.pyplot as plt\n",
        "\n",
        "#softmax 함수\n",
        "def softmax(logits):\n",
        "  exps = np.exp(logits) #exponentials of logits\n",
        "  sumExps = np.sum(exps) # summation of logits\n",
        "  P = exps / sumExps #확률\n",
        "\n",
        "  return P \n",
        "\n",
        "logits = np.array([3, 12, 1, 7, 4])\n",
        "#one-hot vector (참값), P(X)\n",
        "label = np.array([0, 1, 0, 0, 0]) \n",
        "\n",
        "#call softmax funtion here\n",
        "Q = softmax(logits) #q(x)\n",
        "\n",
        "#Categorical Cross Entropy 구해보기\n",
        "J = len(label)\n",
        "CCE = -np.sum(label * np.log(Q)) / J #single value\n",
        "\n",
        "print(CCE)"
      ],
      "execution_count": null,
      "outputs": [
        {
          "output_type": "stream",
          "text": [
            "0.0014375256267066424\n"
          ],
          "name": "stdout"
        }
      ]
    },
    {
      "cell_type": "code",
      "metadata": {
        "id": "Jt4IT6HZpQVl",
        "colab_type": "code",
        "colab": {}
      },
      "source": [
        ""
      ],
      "execution_count": null,
      "outputs": []
    }
  ]
}