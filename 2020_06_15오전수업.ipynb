{
  "nbformat": 4,
  "nbformat_minor": 0,
  "metadata": {
    "colab": {
      "name": "2020.06.15오전수업.ipynb",
      "provenance": [],
      "authorship_tag": "ABX9TyNOm+aTcuIs3PH5pn+nG7H6",
      "include_colab_link": true
    },
    "kernelspec": {
      "name": "python3",
      "display_name": "Python 3"
    }
  },
  "cells": [
    {
      "cell_type": "markdown",
      "metadata": {
        "id": "view-in-github",
        "colab_type": "text"
      },
      "source": [
        "<a href=\"https://colab.research.google.com/github/sturu1/github-first/blob/master/2020_06_15%EC%98%A4%EC%A0%84%EC%88%98%EC%97%85.ipynb\" target=\"_parent\"><img src=\"https://colab.research.google.com/assets/colab-badge.svg\" alt=\"Open In Colab\"/></a>"
      ]
    },
    {
      "cell_type": "markdown",
      "metadata": {
        "id": "BjoG4X8OlA7u",
        "colab_type": "text"
      },
      "source": [
        "간단한 신경망 살펴보기 : XOR\n",
        "\n",
        "\n",
        "![대체 텍스트](http://www.vlsiinterviewquestions.org/wp-content/uploads/2012/04/xor.jpg)\n",
        "\n",
        "\n",
        "1.두개의 input값을 넣으면 output 값을 추론하는 모델\n",
        "\n",
        "2.여기 사용할 모델은 너무 단순해서 분류하지 못함.\n"
      ]
    },
    {
      "cell_type": "code",
      "metadata": {
        "id": "X1yUFN_GWIto",
        "colab_type": "code",
        "colab": {
          "base_uri": "https://localhost:8080/",
          "height": 85
        },
        "outputId": "d9786f71-ff95-456b-a30b-f771b65131e6"
      },
      "source": [
        "import tensorflow as tf\n",
        "import numpy as np\n",
        "import math\n",
        "\n",
        "#활성함수\n",
        "def sigmoid(x):\n",
        "  val = 1 / (1 + math.exp(-x)) #sigmiod 함수\n",
        "  #실수하는 유형\n",
        "  #val = 1 / 1 + math.exp(-x)\n",
        "  return val\n",
        "#입력데이터 X\n",
        "x = [[1, 1], [1, 0], [0, 1], [0, 0]]#list형태   #자극 2개\n",
        "x = np.array(x) #numpy로 변환\n",
        "#정답데이터  Y\n",
        "y = [[0], [1], [1], [0]]  #1개\n",
        "y = np.array(y) #numpy로 변환\n",
        "\n",
        "# 학습대상이 될 가중치(변수)의 정의\n",
        "w = tf.random.normal([2], 0, 1) #가중치모양, 평균, 편차   #자극이 2개 들어감\n",
        "b = tf.random.normal([1], 0, 1) #1개잇으면됨\n",
        "b_x = 1\n",
        "\n",
        "learning_rate = 0.1 #학습율, 얼마나 빨리 학습시킬것인지?\n",
        "epoch = 2000 #전체 데이터를 몇번 학습시킬것인지?\n",
        "\n",
        "#epoch 2000번을 학습할 반복문\n",
        "for i in range(epoch):\n",
        "  #데이터 샘플 개수만큼씨 반복\n",
        "  error_sum = 0\n",
        "  for j in range(4):\n",
        "    #뉴런 하나일떄 모델로 추론해보기 y_hat\n",
        "     y_hat = sigmoid(np.sum(w * x[j]) + b * 1)\n",
        "     error = y[j] - y_hat #오차 함수 정의\n",
        "\n",
        "     #가중치 업데이트\n",
        "     w = w + x[j] * learning_rate * error # learning_rate 로 학습정도 조절\n",
        "     b = b + b_x * learning_rate * error\n",
        "     #이 시점이 지나면 w와 b가 약간 더 좋은 쪽으로 달라져잇음\n",
        "     #오차가 낮아지는 쪽으로 좋아짐\n",
        "     error_sum = error_sum + error #모든 샘플 오차의 합\n",
        "\n",
        "#     if i%200 == 199:\n",
        "#       w_np = w.numpy()\n",
        "#       b_np = b.numpy()\n",
        "#       print(w_np, b_np, error_sum)\n",
        "\n",
        "for j in range(4):\n",
        "  result = sigmoid(np.sum(w*x[j] + b * 1))\n",
        "  print(result, int(result+0.5))"
      ],
      "execution_count": 8,
      "outputs": [
        {
          "output_type": "stream",
          "text": [
            "0.5128176305326305 1\n",
            "0.51281762960192 1\n",
            "0.4999999972060323 0\n",
            "0.4999999962747097 0\n"
          ],
          "name": "stdout"
        }
      ]
    },
    {
      "cell_type": "code",
      "metadata": {
        "id": "jhIM-PTSubvh",
        "colab_type": "code",
        "colab": {}
      },
      "source": [
        ""
      ],
      "execution_count": 0,
      "outputs": []
    }
  ]
}