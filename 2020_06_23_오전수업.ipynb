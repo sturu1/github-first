{
  "nbformat": 4,
  "nbformat_minor": 0,
  "metadata": {
    "colab": {
      "name": "2020_06_23_오전수업.ipynb",
      "provenance": [],
      "authorship_tag": "ABX9TyPlWO5+QeGDCxZdsBb99xMO",
      "include_colab_link": true
    },
    "kernelspec": {
      "name": "python3",
      "display_name": "Python 3"
    }
  },
  "cells": [
    {
      "cell_type": "markdown",
      "metadata": {
        "id": "view-in-github",
        "colab_type": "text"
      },
      "source": [
        "<a href=\"https://colab.research.google.com/github/sturu1/github-first/blob/master/2020_06_23_%EC%98%A4%EC%A0%84%EC%88%98%EC%97%85.ipynb\" target=\"_parent\"><img src=\"https://colab.research.google.com/assets/colab-badge.svg\" alt=\"Open In Colab\"/></a>"
      ]
    },
    {
      "cell_type": "markdown",
      "metadata": {
        "id": "xkRpLV7jkjYO",
        "colab_type": "text"
      },
      "source": [
        "# 예외 객체\n",
        "예외 발생 시 예외 정보가 저장되는 곳\n",
        "\n",
        "Exception\n",
        "\n",
        "모든 예외 정보가 저장"
      ]
    },
    {
      "cell_type": "code",
      "metadata": {
        "id": "o9PyKS0VhLW2",
        "colab_type": "code",
        "colab": {}
      },
      "source": [
        "#try:\n",
        "#  예외가 발생할 가능성이 있는 구문\n",
        "#exception:\n",
        "#  예외 발생했을때 나오는 구문"
      ],
      "execution_count": 5,
      "outputs": []
    },
    {
      "cell_type": "code",
      "metadata": {
        "id": "vPkP2eurktOZ",
        "colab_type": "code",
        "colab": {
          "base_uri": "https://localhost:8080/",
          "height": 85
        },
        "outputId": "854ec688-f837-4daa-e320-380d6dd4e39e"
      },
      "source": [
        "try:\n",
        "  #숫자로 변환\n",
        "  number_input_a = int(input(\"정수입력>\"))\n",
        "  #출력\n",
        "  print(\"원의 반지름:\", number_input_a)\n",
        "  print(\"원의 둘레:\", 2 * 3.14 * number_input_a)\n",
        "  print(\"원의 넓이:\", 3.14 * number_input_a * number_input_a)\n",
        "\n",
        "except Exception as e:\n",
        "  #예외 객체를 출력\n",
        "  print(\"type(e):\", type(e))\n",
        "  print(\"e:\", e)"
      ],
      "execution_count": 8,
      "outputs": [
        {
          "output_type": "stream",
          "text": [
            "정수입력>15\n",
            "원의 반지름: 15\n",
            "원의 둘레: 94.2\n",
            "원의 넓이: 706.5\n"
          ],
          "name": "stdout"
        }
      ]
    },
    {
      "cell_type": "code",
      "metadata": {
        "id": "cI4IwVdTlpCG",
        "colab_type": "code",
        "colab": {}
      },
      "source": [
        ""
      ],
      "execution_count": null,
      "outputs": []
    }
  ]
}