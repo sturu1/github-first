{
  "nbformat": 4,
  "nbformat_minor": 0,
  "metadata": {
    "colab": {
      "name": "2020_06_17_오전수업_비주얼스튜디어코드로실행.ipynb",
      "provenance": [],
      "authorship_tag": "ABX9TyP27zSlgQoWMsJQh+pywQxw",
      "include_colab_link": true
    },
    "kernelspec": {
      "name": "python3",
      "display_name": "Python 3"
    }
  },
  "cells": [
    {
      "cell_type": "markdown",
      "metadata": {
        "id": "view-in-github",
        "colab_type": "text"
      },
      "source": [
        "<a href=\"https://colab.research.google.com/github/sturu1/github-first/blob/master/2020_06_17_%EC%98%A4%EC%A0%84%EC%88%98%EC%97%85_%EB%B9%84%EC%A3%BC%EC%96%BC%EC%8A%A4%ED%8A%9C%EB%94%94%EC%96%B4%EC%BD%94%EB%93%9C%EB%A1%9C%EC%8B%A4%ED%96%89.ipynb\" target=\"_parent\"><img src=\"https://colab.research.google.com/assets/colab-badge.svg\" alt=\"Open In Colab\"/></a>"
      ]
    },
    {
      "cell_type": "markdown",
      "metadata": {
        "id": "MzmaoQVyqlvh",
        "colab_type": "text"
      },
      "source": [
        "# 오류와 예외\n",
        "\n",
        "구문오류(syntax error)\n",
        "\n",
        "프로그램 실행 전에 발생하는 오류\n",
        "\n",
        "\n",
        "런타임오류(runtime error)/ 에외(exception)\n",
        "\n",
        "프로그램 실행 중에 발생하는 오류"
      ]
    },
    {
      "cell_type": "code",
      "metadata": {
        "id": "OYWYQ9O_mWED",
        "colab_type": "code",
        "colab": {
          "base_uri": "https://localhost:8080/",
          "height": 130
        },
        "outputId": "eb3c45fe-10b0-48b2-b8a8-c04b1c37e8e2"
      },
      "source": [
        "#프로그램 시작\n",
        "print(\"#프로그램이 시작\")\n",
        "\n",
        "#구문오류발생코드\n",
        "print(\"#오류를 강제로 발생)\n",
        "\n",
        "#print(\"#오류를 강제로 발생\")"
      ],
      "execution_count": 4,
      "outputs": [
        {
          "output_type": "error",
          "ename": "SyntaxError",
          "evalue": "ignored",
          "traceback": [
            "\u001b[0;36m  File \u001b[0;32m\"<ipython-input-4-3a4ea3d9435f>\"\u001b[0;36m, line \u001b[0;32m5\u001b[0m\n\u001b[0;31m    print(\"#오류를 강제로 발생)\u001b[0m\n\u001b[0m                       ^\u001b[0m\n\u001b[0;31mSyntaxError\u001b[0m\u001b[0;31m:\u001b[0m EOL while scanning string literal\n"
          ]
        }
      ]
    },
    {
      "cell_type": "markdown",
      "metadata": {
        "id": "m5Rk17jer1OF",
        "colab_type": "text"
      },
      "source": [
        "# 예외 / 런타임 오류\n"
      ]
    },
    {
      "cell_type": "code",
      "metadata": {
        "id": "I4fNx9fXrwrs",
        "colab_type": "code",
        "colab": {
          "base_uri": "https://localhost:8080/",
          "height": 215
        },
        "outputId": "967405c5-039a-4bfb-9975-f79e32e36c4f"
      },
      "source": [
        "#프로그램 시작\n",
        "print(\"#프로그램 시작\")\n",
        "\n",
        "#예외 발생 코드\n",
        "#list_a = [1, 2, 3, 4, 5]\n",
        "list_a[1]"
      ],
      "execution_count": 5,
      "outputs": [
        {
          "output_type": "stream",
          "text": [
            "#프로그램 시작\n"
          ],
          "name": "stdout"
        },
        {
          "output_type": "error",
          "ename": "NameError",
          "evalue": "ignored",
          "traceback": [
            "\u001b[0;31m---------------------------------------------------------------------------\u001b[0m",
            "\u001b[0;31mNameError\u001b[0m                                 Traceback (most recent call last)",
            "\u001b[0;32m<ipython-input-5-f13bce827851>\u001b[0m in \u001b[0;36m<module>\u001b[0;34m()\u001b[0m\n\u001b[1;32m      4\u001b[0m \u001b[0;31m#예외 발생 코드\u001b[0m\u001b[0;34m\u001b[0m\u001b[0;34m\u001b[0m\u001b[0;34m\u001b[0m\u001b[0m\n\u001b[1;32m      5\u001b[0m \u001b[0;31m#list_a = [1, 2, 3, 4, 5]\u001b[0m\u001b[0;34m\u001b[0m\u001b[0;34m\u001b[0m\u001b[0;34m\u001b[0m\u001b[0m\n\u001b[0;32m----> 6\u001b[0;31m \u001b[0mlist_a\u001b[0m\u001b[0;34m[\u001b[0m\u001b[0;36m1\u001b[0m\u001b[0;34m]\u001b[0m\u001b[0;34m\u001b[0m\u001b[0;34m\u001b[0m\u001b[0m\n\u001b[0m",
            "\u001b[0;31mNameError\u001b[0m: name 'list_a' is not defined"
          ]
        }
      ]
    },
    {
      "cell_type": "markdown",
      "metadata": {
        "id": "-HcIB3jasTXt",
        "colab_type": "text"
      },
      "source": [
        "# 예외 처리\n",
        "\n",
        "1. 조건문을 사용하는 방법\n",
        "\n",
        "기본  예외 처리\n",
        "\n",
        "2. try구문 사용하는 방법"
      ]
    },
    {
      "cell_type": "code",
      "metadata": {
        "id": "hyYWnbVqsFY_",
        "colab_type": "code",
        "colab": {}
      },
      "source": [
        "#이상함\n",
        "#숫자를 입력\n",
        "number_input_a = input(\"정수 입력> \")\n",
        "\n",
        "#사용자가 입력이 숫자로만 구서되어 있을때\n",
        "if user_input_a.isdigit():\n",
        "  #숫자로 변환\n",
        "  number_input_a = int(user_input_a)\n",
        "  #출력\n",
        "  print(\"원의 반지름: \", number_input_a)\n",
        "  print(\"원의 둘레: \", 2 * 3.14 * number_input_a)\n",
        "  print(\"원의 넓이: \", 3.14 * number_input_a * number_input_a)\n",
        "\n",
        "#숫자말고 다른거 입력햇을때 오류남\n",
        "else:\n",
        "  print(\"정수를 입력하지 않았습니다.\")\n"
      ],
      "execution_count": null,
      "outputs": []
    },
    {
      "cell_type": "markdown",
      "metadata": {
        "id": "NZzw5pHBvQgY",
        "colab_type": "text"
      },
      "source": [
        "# try except구문\n",
        "예외처리할수 잇는 구문\n",
        "\n",
        "try:\n",
        "\n",
        "--예외가 발생할 가능성이 있는 코드\n",
        "\n",
        "\n",
        "except:\n",
        "\n",
        "--예외가 발생했을때 실행할 코드"
      ]
    },
    {
      "cell_type": "code",
      "metadata": {
        "id": "OrH1OnPLtEUe",
        "colab_type": "code",
        "colab": {}
      },
      "source": [
        "#try 구문으로 예외를 처리\n",
        "\n",
        "try:\n",
        "  #숫자로 변환\n",
        "  #예외가 발생할 가능성이 있는 구문\n",
        "  number_input_a = int(input(\"정수 입력> \"))\n",
        "  #출력\n",
        "  print(\"원의 반지름: \", number_input_a)\n",
        "  print(\"원의 둘레: \", 2 * 3.14 * number_input_a)\n",
        "  print(\"원의 넓이: \", 3.14 * number_input_a * number_input_a)\n",
        "\n",
        "except:\n",
        "  #예외가 발생햇을 때 실행할 구문\n",
        "  print(\"정수를 입력하지 않앗습니다.\")"
      ],
      "execution_count": null,
      "outputs": []
    },
    {
      "cell_type": "code",
      "metadata": {
        "id": "9vUWidL8wbk-",
        "colab_type": "code",
        "colab": {}
      },
      "source": [
        ""
      ],
      "execution_count": null,
      "outputs": []
    }
  ]
}