{
  "nbformat": 4,
  "nbformat_minor": 0,
  "metadata": {
    "colab": {
      "name": "2020_06_17_오전수업_비주얼스튜디어코드로실행.ipynb",
      "provenance": [],
      "authorship_tag": "ABX9TyP0uS3SdgxGXdB2szHPHhBJ",
      "include_colab_link": true
    },
    "kernelspec": {
      "name": "python3",
      "display_name": "Python 3"
    }
  },
  "cells": [
    {
      "cell_type": "markdown",
      "metadata": {
        "id": "view-in-github",
        "colab_type": "text"
      },
      "source": [
        "<a href=\"https://colab.research.google.com/github/sturu1/github-first/blob/master/2020_06_17_%EC%98%A4%EC%A0%84%EC%88%98%EC%97%85_%EB%B9%84%EC%A3%BC%EC%96%BC%EC%8A%A4%ED%8A%9C%EB%94%94%EC%96%B4%EC%BD%94%EB%93%9C%EB%A1%9C%EC%8B%A4%ED%96%89.ipynb\" target=\"_parent\"><img src=\"https://colab.research.google.com/assets/colab-badge.svg\" alt=\"Open In Colab\"/></a>"
      ]
    },
    {
      "cell_type": "markdown",
      "metadata": {
        "id": "MzmaoQVyqlvh",
        "colab_type": "text"
      },
      "source": [
        "# 오류와 예외\n",
        "\n",
        "구문오류(syntax error)\n",
        "\n",
        "프로그램 실행 전에 발생하는 오류\n",
        "\n",
        "\n",
        "런타임오류(runtime error)/ 에외(exception)\n",
        "\n",
        "프로그램 실행 중에 발생하는 오류"
      ]
    },
    {
      "cell_type": "code",
      "metadata": {
        "id": "OYWYQ9O_mWED",
        "colab_type": "code",
        "colab": {
          "base_uri": "https://localhost:8080/",
          "height": 130
        },
        "outputId": "eb3c45fe-10b0-48b2-b8a8-c04b1c37e8e2"
      },
      "source": [
        "#프로그램 시작\n",
        "print(\"#프로그램이 시작\")\n",
        "\n",
        "#구문오류발생코드\n",
        "print(\"#오류를 강제로 발생)\n",
        "\n",
        "#print(\"#오류를 강제로 발생\")"
      ],
      "execution_count": null,
      "outputs": [
        {
          "output_type": "error",
          "ename": "SyntaxError",
          "evalue": "ignored",
          "traceback": [
            "\u001b[0;36m  File \u001b[0;32m\"<ipython-input-4-3a4ea3d9435f>\"\u001b[0;36m, line \u001b[0;32m5\u001b[0m\n\u001b[0;31m    print(\"#오류를 강제로 발생)\u001b[0m\n\u001b[0m                       ^\u001b[0m\n\u001b[0;31mSyntaxError\u001b[0m\u001b[0;31m:\u001b[0m EOL while scanning string literal\n"
          ]
        }
      ]
    },
    {
      "cell_type": "markdown",
      "metadata": {
        "id": "m5Rk17jer1OF",
        "colab_type": "text"
      },
      "source": [
        "# 예외 / 런타임 오류\n"
      ]
    },
    {
      "cell_type": "code",
      "metadata": {
        "id": "I4fNx9fXrwrs",
        "colab_type": "code",
        "colab": {
          "base_uri": "https://localhost:8080/",
          "height": 215
        },
        "outputId": "967405c5-039a-4bfb-9975-f79e32e36c4f"
      },
      "source": [
        "#프로그램 시작\n",
        "print(\"#프로그램 시작\")\n",
        "\n",
        "#예외 발생 코드\n",
        "#list_a = [1, 2, 3, 4, 5]\n",
        "list_a[1]"
      ],
      "execution_count": null,
      "outputs": [
        {
          "output_type": "stream",
          "text": [
            "#프로그램 시작\n"
          ],
          "name": "stdout"
        },
        {
          "output_type": "error",
          "ename": "NameError",
          "evalue": "ignored",
          "traceback": [
            "\u001b[0;31m---------------------------------------------------------------------------\u001b[0m",
            "\u001b[0;31mNameError\u001b[0m                                 Traceback (most recent call last)",
            "\u001b[0;32m<ipython-input-5-f13bce827851>\u001b[0m in \u001b[0;36m<module>\u001b[0;34m()\u001b[0m\n\u001b[1;32m      4\u001b[0m \u001b[0;31m#예외 발생 코드\u001b[0m\u001b[0;34m\u001b[0m\u001b[0;34m\u001b[0m\u001b[0;34m\u001b[0m\u001b[0m\n\u001b[1;32m      5\u001b[0m \u001b[0;31m#list_a = [1, 2, 3, 4, 5]\u001b[0m\u001b[0;34m\u001b[0m\u001b[0;34m\u001b[0m\u001b[0;34m\u001b[0m\u001b[0m\n\u001b[0;32m----> 6\u001b[0;31m \u001b[0mlist_a\u001b[0m\u001b[0;34m[\u001b[0m\u001b[0;36m1\u001b[0m\u001b[0;34m]\u001b[0m\u001b[0;34m\u001b[0m\u001b[0;34m\u001b[0m\u001b[0m\n\u001b[0m",
            "\u001b[0;31mNameError\u001b[0m: name 'list_a' is not defined"
          ]
        }
      ]
    },
    {
      "cell_type": "markdown",
      "metadata": {
        "id": "-HcIB3jasTXt",
        "colab_type": "text"
      },
      "source": [
        "# 예외 처리\n",
        "\n",
        "1. 조건문을 사용하는 방법\n",
        "\n",
        "기본  예외 처리\n",
        "\n",
        "2. try구문 사용하는 방법"
      ]
    },
    {
      "cell_type": "code",
      "metadata": {
        "id": "hyYWnbVqsFY_",
        "colab_type": "code",
        "colab": {
          "base_uri": "https://localhost:8080/",
          "height": 249
        },
        "outputId": "19bcb46c-9877-4d83-8a2c-85b7156d1a11"
      },
      "source": [
        "#이상함\n",
        "#숫자를 입력\n",
        "number_input_a = input(\"정수 입력> \")\n",
        "\n",
        "#사용자가 입력이 숫자로만 구서되어 있을때\n",
        "if user_input_a.isdigit():\n",
        "  #숫자로 변환\n",
        "  number_input_a = int(user_input_a)\n",
        "  #출력\n",
        "  print(\"원의 반지름: \", number_input_a)\n",
        "  print(\"원의 둘레: \", 2 * 3.14 * number_input_a)\n",
        "  print(\"원의 넓이: \", 3.14 * number_input_a * number_input_a)\n",
        "\n",
        "#숫자말고 다른거 입력햇을때 오류남\n",
        "else:\n",
        "  print(\"정수를 입력하지 않았습니다.\")\n"
      ],
      "execution_count": 1,
      "outputs": [
        {
          "output_type": "stream",
          "text": [
            "정수 입력> 15\n"
          ],
          "name": "stdout"
        },
        {
          "output_type": "error",
          "ename": "NameError",
          "evalue": "ignored",
          "traceback": [
            "\u001b[0;31m---------------------------------------------------------------------------\u001b[0m",
            "\u001b[0;31mNameError\u001b[0m                                 Traceback (most recent call last)",
            "\u001b[0;32m<ipython-input-1-4f721511d8dd>\u001b[0m in \u001b[0;36m<module>\u001b[0;34m()\u001b[0m\n\u001b[1;32m      4\u001b[0m \u001b[0;34m\u001b[0m\u001b[0m\n\u001b[1;32m      5\u001b[0m \u001b[0;31m#사용자가 입력이 숫자로만 구서되어 있을때\u001b[0m\u001b[0;34m\u001b[0m\u001b[0;34m\u001b[0m\u001b[0;34m\u001b[0m\u001b[0m\n\u001b[0;32m----> 6\u001b[0;31m \u001b[0;32mif\u001b[0m \u001b[0muser_input_a\u001b[0m\u001b[0;34m.\u001b[0m\u001b[0misdigit\u001b[0m\u001b[0;34m(\u001b[0m\u001b[0;34m)\u001b[0m\u001b[0;34m:\u001b[0m\u001b[0;34m\u001b[0m\u001b[0;34m\u001b[0m\u001b[0m\n\u001b[0m\u001b[1;32m      7\u001b[0m   \u001b[0;31m#숫자로 변환\u001b[0m\u001b[0;34m\u001b[0m\u001b[0;34m\u001b[0m\u001b[0;34m\u001b[0m\u001b[0m\n\u001b[1;32m      8\u001b[0m   \u001b[0mnumber_input_a\u001b[0m \u001b[0;34m=\u001b[0m \u001b[0mint\u001b[0m\u001b[0;34m(\u001b[0m\u001b[0muser_input_a\u001b[0m\u001b[0;34m)\u001b[0m\u001b[0;34m\u001b[0m\u001b[0;34m\u001b[0m\u001b[0m\n",
            "\u001b[0;31mNameError\u001b[0m: name 'user_input_a' is not defined"
          ]
        }
      ]
    },
    {
      "cell_type": "markdown",
      "metadata": {
        "id": "NZzw5pHBvQgY",
        "colab_type": "text"
      },
      "source": [
        "# try except구문\n",
        "예외처리할수 잇는 구문\n",
        "\n",
        "try:\n",
        "\n",
        "--예외가 발생할 가능성이 있는 코드\n",
        "\n",
        "\n",
        "except:\n",
        "\n",
        "--예외가 발생했을때 실행할 코드"
      ]
    },
    {
      "cell_type": "code",
      "metadata": {
        "id": "OrH1OnPLtEUe",
        "colab_type": "code",
        "colab": {
          "base_uri": "https://localhost:8080/",
          "height": 51
        },
        "outputId": "9276febf-79fa-4330-8c47-d8b20f51befa"
      },
      "source": [
        "#try 구문으로 예외를 처리\n",
        "\n",
        "try:\n",
        "  #숫자로 변환\n",
        "  #예외가 발생할 가능성이 있는 구문\n",
        "  number_input_a = int(input(\"정수 입력> \"))\n",
        "  #출력\n",
        "  print(\"원의 반지름: \", number_input_a)\n",
        "  print(\"원의 둘레: \", 2 * 3.14 * number_input_a)\n",
        "  print(\"원의 넓이: \", 3.14 * number_input_a * number_input_a)\n",
        "\n",
        "except:\n",
        "  #예외가 발생햇을 때 실행할 구문\n",
        "  print(\"정수를 입력하지 않앗습니다.\")"
      ],
      "execution_count": 3,
      "outputs": [
        {
          "output_type": "stream",
          "text": [
            "정수 입력> 안녕\n",
            "정수를 입력하지 않앗습니다.\n"
          ],
          "name": "stdout"
        }
      ]
    },
    {
      "cell_type": "markdown",
      "metadata": {
        "id": "E9grU81RxJvZ",
        "colab_type": "text"
      },
      "source": [
        "try except 구문과 pass 키워드 조합하기\n",
        "\n",
        "예외가 발생하면 일단 처리해야 하지만, 해당 코드가 딱히 중요한 부분이 아닌 겨웅 프로그램 강제 종료부터 막는 목적으로 except 구문에 아무것도 넣지 않고 try구문 사용\n",
        "\n"
      ]
    },
    {
      "cell_type": "code",
      "metadata": {
        "id": "9vUWidL8wbk-",
        "colab_type": "code",
        "colab": {
          "base_uri": "https://localhost:8080/",
          "height": 51
        },
        "outputId": "20cd0783-113f-47d1-9144-052383a1760b"
      },
      "source": [
        "#변수를 선언\n",
        "list_input_a = [\"52\", \"273\", \"32\", \"스파이\", \"103\"]\n",
        "\n",
        "# 반복문 적용\n",
        "list_number = []\n",
        "for item in list_input_a:\n",
        "  #숫자로 변환해서 리스트에 추가\n",
        "  try:\n",
        "    float(item) #예외가 발생하면 알아서 다음으로 진행은 안되\n",
        "    list_number.append(item) #예외가 없이 통과햇으면 리스트에\n",
        "  except:\n",
        "    pass\n",
        "\n",
        "  \n",
        "#출력\n",
        "print(\"{}내부에 잇는 숫자는\".format(list_input_a))\n",
        "print(\"{}입니다.\".format(list_number))"
      ],
      "execution_count": 7,
      "outputs": [
        {
          "output_type": "stream",
          "text": [
            "['52', '273', '32', '스파이', '103']내부에 잇는 숫자는\n",
            "['52', '273', '32', '103']입니다.\n"
          ],
          "name": "stdout"
        }
      ]
    },
    {
      "cell_type": "markdown",
      "metadata": {
        "id": "326Bf6tJ3o2R",
        "colab_type": "text"
      },
      "source": [
        "try:\n",
        "\n",
        "--예외가 발생할 가능성이 잇는 코드\n",
        "\n",
        "except:\n",
        "\n",
        "--예외가 발생햇을때 실행할 코드\n",
        "\n",
        "else:\n",
        "\n",
        "--예외가 발생 하지 않았을때 실행할 코드"
      ]
    },
    {
      "cell_type": "code",
      "metadata": {
        "id": "iGu216bvyiYG",
        "colab_type": "code",
        "colab": {
          "base_uri": "https://localhost:8080/",
          "height": 85
        },
        "outputId": "9f837211-f66b-49b7-9b3b-0ce210060e59"
      },
      "source": [
        "#try except 구문으로 예외 처리\n",
        "try:\n",
        "  #숫자로 변환\n",
        "  #예외가 발생할 가능성이 잇는 구문\n",
        "  number_input_a = int(input(\"정수 입력 > \"))\n",
        "\n",
        "except:\n",
        "  #예외가 발생햇을때 실행할 구문\n",
        "  print(\"정수를 입력하지 않앗습니다.\")\n",
        "\n",
        "else:\n",
        "  #출력\n",
        "  print(\"원의 반지름: \", number_input_a)\n",
        "  print(\"원의 둘레: \", 2 * 3.14 * number_input_a)\n",
        "  print(\"원의 넓이: \", 3.14 * number_input_a * number_input_a)"
      ],
      "execution_count": 9,
      "outputs": [
        {
          "output_type": "stream",
          "text": [
            "정수 입력 > 15\n",
            "원의 반지름:  15\n",
            "원의 둘레:  94.2\n",
            "원의 넓이:  706.5\n"
          ],
          "name": "stdout"
        }
      ]
    },
    {
      "cell_type": "markdown",
      "metadata": {
        "id": "8nzQdOpw49Pi",
        "colab_type": "text"
      },
      "source": [
        "# finally구문\n",
        "\n",
        "예외 처리 구문에서 가장 마지막에 사용할수 잇는 구문\n",
        "\n",
        "예외 발생 여부와 관계없이 무조건 실행할 경우 사용\n",
        "\n",
        "try:\n",
        "\n",
        "--예외가 발생할 가능성이 있는 코드\n",
        "\n",
        "except:\n",
        "\n",
        "--예외가 발생했을때 실행할 코드\n",
        "\n",
        "else:\n",
        "\n",
        "--예외가 발생 하지 않았을때 실행할 코드\n",
        "\n",
        "finally:\n",
        "\n",
        "--무조건 실행하는 코드"
      ]
    },
    {
      "cell_type": "code",
      "metadata": {
        "id": "DWCjTMkh4V7L",
        "colab_type": "code",
        "colab": {
          "base_uri": "https://localhost:8080/",
          "height": 119
        },
        "outputId": "5697f598-103d-4428-9aab-398346683dad"
      },
      "source": [
        "#try except 구문으로 예외를 처리 \n",
        "try:\n",
        "  #숫자로 변환\n",
        "  #예외가 발생할 가능성이 잇는 구문\n",
        "  number_input_a = int(input(\"정수 입력 > \"))\n",
        "\n",
        "  #출력\n",
        "  print(\"원의 반지름: \", number_input_a)\n",
        "  print(\"원의 둘레: \", 2 * 3.14 * number_input_a)\n",
        "  print(\"원의 넓이: \", 3.14 * number_input_a * number_input_a)\n",
        "\n",
        "except:\n",
        "  #예외가 발생햇을떄 실행할 구문\n",
        "  print(\"정수를 입력하지 않앗습니다.\")\n",
        "\n",
        "else:\n",
        "  #예외가 발생 하지 않앗을떄 실행할 구문\n",
        "  print(\"예외가 발생하지 않았습니다.\")\n",
        "\n",
        "finally:\n",
        "  #예외가 발생하든 발생하지 않든 실행할 구문\n",
        "  print(\"일단 프로그램이 어떻게든 끝났습니다.\")"
      ],
      "execution_count": 12,
      "outputs": [
        {
          "output_type": "stream",
          "text": [
            "정수 입력 > 15\n",
            "원의 반지름:  15\n",
            "원의 둘레:  94.2\n",
            "원의 넓이:  706.5\n",
            "예외가 발생하지 않았습니다.\n",
            "일단 프로그램이 어떻게든 끝났습니다.\n"
          ],
          "name": "stdout"
        }
      ]
    },
    {
      "cell_type": "markdown",
      "metadata": {
        "id": "wJM3ceXl6sZg",
        "colab_type": "text"
      },
      "source": [
        "# finally구문\n",
        "\n",
        "try + except 구문 조합\n",
        "\n",
        "try + except + else 구문 조합\n",
        "\n",
        "try + except + finally 구문 조합\n",
        "\n",
        "try + except + else + finally 구문 조합\n",
        "\n",
        "try + finally 구문 조합"
      ]
    },
    {
      "cell_type": "markdown",
      "metadata": {
        "id": "xJyiGHcS7So7",
        "colab_type": "text"
      },
      "source": [
        "finally에 대한 오해\n",
        "\n",
        "finally 키워드 설명 예제로 '파일 처리'를 자주 사용하나, 실제 finally 의 사용과는 사실 전혀 관련 없음\n",
        "\n",
        "파일 제대로 "
      ]
    },
    {
      "cell_type": "code",
      "metadata": {
        "id": "S5QmHx3Y5_XE",
        "colab_type": "code",
        "colab": {
          "base_uri": "https://localhost:8080/",
          "height": 51
        },
        "outputId": "96039728-cdec-497a-fe0a-1e3efa7cd9b1"
      },
      "source": [
        "#try except 구문을 사용\n",
        "try:\n",
        "  #파일을 엽니다.\n",
        "  file = open(\"info.txt\", \"w\")\n",
        "  #여러가지 처리를 수행\n",
        "  #파일을 닫기\n",
        "  file.close()\n",
        "\n",
        "except Exception as e:\n",
        "  print(e)\n",
        "\n",
        "print(\"#파일이 제대로 닫혓는지 확인하기\")\n",
        "print(\"file.closed:\", file.closed)"
      ],
      "execution_count": 14,
      "outputs": [
        {
          "output_type": "stream",
          "text": [
            "#파일이 제대로 닫혓는지 확인하기\n",
            "file.closed: True\n"
          ],
          "name": "stdout"
        }
      ]
    },
    {
      "cell_type": "markdown",
      "metadata": {
        "id": "4InlwlOM8ePH",
        "colab_type": "text"
      },
      "source": [
        "closed ()구문 "
      ]
    },
    {
      "cell_type": "code",
      "metadata": {
        "id": "18pSH1tX79ai",
        "colab_type": "code",
        "colab": {
          "base_uri": "https://localhost:8080/",
          "height": 68
        },
        "outputId": "30a9fc07-2fad-4706-d7fd-98cd2c8f0e0e"
      },
      "source": [
        "#try except 구문을 사용\n",
        "try:\n",
        "  #파일을 엽니다.\n",
        "  file = open(\"info.txt\", \"w\")\n",
        "  #여러가지 처리를 수행\n",
        "  예외.발생해라()\n",
        "except Exception as e:\n",
        "  print(e)\n",
        "\n",
        "finally:\n",
        "  #파일을 닫기\n",
        "  file.close()\n",
        "\n",
        "print(\"#파일이 제대로 닫혓는지 확인하기\")\n",
        "print(\"file.closed:\", file.closed)"
      ],
      "execution_count": 18,
      "outputs": [
        {
          "output_type": "stream",
          "text": [
            "name '예외' is not defined\n",
            "#파일이 제대로 닫혓는지 확인하기\n",
            "file.closed: True\n"
          ],
          "name": "stdout"
        }
      ]
    },
    {
      "cell_type": "markdown",
      "metadata": {
        "id": "m0mveklY_KjE",
        "colab_type": "text"
      },
      "source": [
        ""
      ]
    },
    {
      "cell_type": "markdown",
      "metadata": {
        "id": "_x6iDAJ19oN6",
        "colab_type": "text"
      },
      "source": [
        "try 구문 내부에서 return 키워드 를 사용하는 경우\n"
      ]
    },
    {
      "cell_type": "code",
      "metadata": {
        "id": "2r1R89Me8pmC",
        "colab_type": "code",
        "colab": {
          "base_uri": "https://localhost:8080/",
          "height": 68
        },
        "outputId": "6ec21e04-95af-4a7d-99f2-fe1a443473e2"
      },
      "source": [
        "#test() 함수를 선언\n",
        "def test():\n",
        "  print(\"test() 함수의 첫 줄입니다.\")\n",
        "  try:\n",
        "    print(\"try 구문이 실행되었습니다.\")\n",
        "    return\n",
        "    print(\"try 구문의 return 키워드 뒤입니다.\")\n",
        "  except:\n",
        "    print(\"except 구문이 실행되었습니다.\")\n",
        "  else:\n",
        "    print(\"else 구문이 실행되었습니다.\")\n",
        "  finally:\n",
        "    print(\"finally 구문이 실행되었습니다.\")\n",
        "  print(\"test()함수의 마지막 줄입니다.\")\n",
        "\n",
        "#test() 함수를 호출\n",
        "test()"
      ],
      "execution_count": 21,
      "outputs": [
        {
          "output_type": "stream",
          "text": [
            "test() 함수의 첫 줄입니다.\n",
            "try 구문이 실행되었습니다.\n",
            "finally 구문이 실행되었습니다.\n"
          ],
          "name": "stdout"
        }
      ]
    },
    {
      "cell_type": "markdown",
      "metadata": {
        "id": "IQOzbpZA_Sj4",
        "colab_type": "text"
      },
      "source": [
        "finally 키워드 활용"
      ]
    },
    {
      "cell_type": "code",
      "metadata": {
        "id": "kEvZCHvK-wMC",
        "colab_type": "code",
        "colab": {}
      },
      "source": [
        "#함수를 선언\n",
        "def write_text_file(filename, text):\n",
        "  #try except 구문 실행\n",
        "  try:\n",
        "    #파일 열기\n",
        "    file = open(filename, \"w\")\n",
        "    #여러가지 처리를 수행\n",
        "    return\n",
        "    #파일에 텍스트 입력\n",
        "    file.write(text)\n",
        "  except Exception as e:\n",
        "    print(e)\n",
        "  finally:\n",
        "    #파일 닫기\n",
        "    file.close()\n",
        "\n",
        "#함수 호출\n",
        "write_text_file(\"text.txt\", \"안녕하세요\")"
      ],
      "execution_count": 23,
      "outputs": []
    },
    {
      "cell_type": "markdown",
      "metadata": {
        "id": "PdJ5nfONApSg",
        "colab_type": "text"
      },
      "source": [
        "finally 구문에서 close()함수 호출하도ㅓ록 작성하면 코드 깔끔해짐"
      ]
    },
    {
      "cell_type": "code",
      "metadata": {
        "id": "joJ5zVPGAKW1",
        "colab_type": "code",
        "colab": {
          "base_uri": "https://localhost:8080/",
          "height": 85
        },
        "outputId": "e2350dee-d997-417c-f414-79cfd672147d"
      },
      "source": [
        "print(\"프로그램이 시작되었습니다.\")\n",
        "\n",
        "while True:\n",
        "  try:\n",
        "    print(\"try구문이 실행\")\n",
        "    break\n",
        "    print(\"try구문의break 키워드 뒤입니다.\")\n",
        "  except:\n",
        "    print(\"except 구문이 실행\")\n",
        "  finally: #중간에 break가 잇다고 하더라도 finally 구문은 실행된다\n",
        "    print(\"finally 구문이 실행\")\n",
        "  print(\"while 반복문의 마지막 줄\")\n",
        "print(\"프로그램 종료\")"
      ],
      "execution_count": 25,
      "outputs": [
        {
          "output_type": "stream",
          "text": [
            "프로그램이 시작되었습니다.\n",
            "try구문이 실행\n",
            "finally 구문이 실행\n",
            "프로그램 종료\n"
          ],
          "name": "stdout"
        }
      ]
    },
    {
      "cell_type": "markdown",
      "metadata": {
        "id": "gYJIBtBrIM5a",
        "colab_type": "text"
      },
      "source": [
        "# 확인문제"
      ]
    },
    {
      "cell_type": "code",
      "metadata": {
        "id": "JFaguijUBUCR",
        "colab_type": "code",
        "colab": {
          "base_uri": "https://localhost:8080/",
          "height": 136
        },
        "outputId": "45a0f074-e6b9-4215-bc0e-58b71bca72a0"
      },
      "source": [
        "number = [52, 273, 32, 103, 90, 10, 275]\n",
        "\n",
        "print(\"# (1) 요소 내부에 있는 값 찾기\")\n",
        "print(\"{}는 {}위치에 있습니다.\".format(52, number.index(52)))\n",
        "print()\n",
        "\n",
        "print(\"# (2) 요소 내부에 없은 값 찾기\")\n",
        "number = 10000\n",
        "try:\n",
        "  print(\"{}는 {}위치에 있습니다.\".format(number, numbers.index(number)))\n",
        "except:\n",
        "  print(\"리스트 내부에 없는 값입니다.\")\n",
        "print()\n",
        "\n",
        "print(\"정상적으로 종료되었습니다.\")"
      ],
      "execution_count": 28,
      "outputs": [
        {
          "output_type": "stream",
          "text": [
            "# (1) 요소 내부에 있는 값 찾기\n",
            "52는 0위치에 있습니다.\n",
            "\n",
            "# (2) 요소 내부에 없은 값 찾기\n",
            "리스트 내부에 없는 값입니다.\n",
            "\n",
            "정상적으로 종료되었습니다.\n"
          ],
          "name": "stdout"
        }
      ]
    },
    {
      "cell_type": "markdown",
      "metadata": {
        "id": "H5bxQ8E2JKSj",
        "colab_type": "text"
      },
      "source": [
        "#확인문제\n",
        "재귀함수로 만들어 리스트를 평탄화하는 함수 만들기\n",
        "\n",
        "\n",
        "중첩된 리스트가 잇을 때 중첩 모두 제거하고 풀어서 1차원 리스트로 만드는 것을 리스트 평탄화라 합니다."
      ]
    },
    {
      "cell_type": "code",
      "metadata": {
        "id": "_YCEtXVmI1WH",
        "colab_type": "code",
        "colab": {
          "base_uri": "https://localhost:8080/",
          "height": 358
        },
        "outputId": "ad1072dc-9547-4514-d8b5-7eadc62eb250"
      },
      "source": [
        "#교수님꺼 확인해봐야할듯.....\n",
        "def flatten(data):\n",
        "  if data == []:\n",
        "    return []\n",
        "  if type(data[0]) == int:\n",
        "    return [data[0]] + flatten(date[1:])\n",
        "  if type(data[0]) == list:\n",
        "    return flatten(data[0]) + flatten(date[1:])\n",
        "\n",
        "example = [[1, 2, 3], [4, [5, 6]], 7, [8, 9]]\n",
        "print(\"원본:\", example)\n",
        "print(\"변환:\", flatten(example))"
      ],
      "execution_count": 33,
      "outputs": [
        {
          "output_type": "stream",
          "text": [
            "원본: [[1, 2, 3], [4, [5, 6]], 7, [8, 9]]\n"
          ],
          "name": "stdout"
        },
        {
          "output_type": "error",
          "ename": "NameError",
          "evalue": "ignored",
          "traceback": [
            "\u001b[0;31m---------------------------------------------------------------------------\u001b[0m",
            "\u001b[0;31mNameError\u001b[0m                                 Traceback (most recent call last)",
            "\u001b[0;32m<ipython-input-33-961e1ab6626f>\u001b[0m in \u001b[0;36m<module>\u001b[0;34m()\u001b[0m\n\u001b[1;32m      9\u001b[0m \u001b[0mexample\u001b[0m \u001b[0;34m=\u001b[0m \u001b[0;34m[\u001b[0m\u001b[0;34m[\u001b[0m\u001b[0;36m1\u001b[0m\u001b[0;34m,\u001b[0m \u001b[0;36m2\u001b[0m\u001b[0;34m,\u001b[0m \u001b[0;36m3\u001b[0m\u001b[0;34m]\u001b[0m\u001b[0;34m,\u001b[0m \u001b[0;34m[\u001b[0m\u001b[0;36m4\u001b[0m\u001b[0;34m,\u001b[0m \u001b[0;34m[\u001b[0m\u001b[0;36m5\u001b[0m\u001b[0;34m,\u001b[0m \u001b[0;36m6\u001b[0m\u001b[0;34m]\u001b[0m\u001b[0;34m]\u001b[0m\u001b[0;34m,\u001b[0m \u001b[0;36m7\u001b[0m\u001b[0;34m,\u001b[0m \u001b[0;34m[\u001b[0m\u001b[0;36m8\u001b[0m\u001b[0;34m,\u001b[0m \u001b[0;36m9\u001b[0m\u001b[0;34m]\u001b[0m\u001b[0;34m]\u001b[0m\u001b[0;34m\u001b[0m\u001b[0;34m\u001b[0m\u001b[0m\n\u001b[1;32m     10\u001b[0m \u001b[0mprint\u001b[0m\u001b[0;34m(\u001b[0m\u001b[0;34m\"원본:\"\u001b[0m\u001b[0;34m,\u001b[0m \u001b[0mexample\u001b[0m\u001b[0;34m)\u001b[0m\u001b[0;34m\u001b[0m\u001b[0;34m\u001b[0m\u001b[0m\n\u001b[0;32m---> 11\u001b[0;31m \u001b[0mprint\u001b[0m\u001b[0;34m(\u001b[0m\u001b[0;34m\"변환:\"\u001b[0m\u001b[0;34m,\u001b[0m \u001b[0mflatten\u001b[0m\u001b[0;34m(\u001b[0m\u001b[0mexample\u001b[0m\u001b[0;34m)\u001b[0m\u001b[0;34m)\u001b[0m\u001b[0;34m\u001b[0m\u001b[0;34m\u001b[0m\u001b[0m\n\u001b[0m",
            "\u001b[0;32m<ipython-input-33-961e1ab6626f>\u001b[0m in \u001b[0;36mflatten\u001b[0;34m(data)\u001b[0m\n\u001b[1;32m      5\u001b[0m     \u001b[0;32mreturn\u001b[0m \u001b[0;34m[\u001b[0m\u001b[0mdata\u001b[0m\u001b[0;34m[\u001b[0m\u001b[0;36m0\u001b[0m\u001b[0;34m]\u001b[0m\u001b[0;34m]\u001b[0m \u001b[0;34m+\u001b[0m \u001b[0mflatten\u001b[0m\u001b[0;34m(\u001b[0m\u001b[0mdate\u001b[0m\u001b[0;34m[\u001b[0m\u001b[0;36m1\u001b[0m\u001b[0;34m:\u001b[0m\u001b[0;34m]\u001b[0m\u001b[0;34m)\u001b[0m\u001b[0;34m\u001b[0m\u001b[0;34m\u001b[0m\u001b[0m\n\u001b[1;32m      6\u001b[0m   \u001b[0;32mif\u001b[0m \u001b[0mtype\u001b[0m\u001b[0;34m(\u001b[0m\u001b[0mdata\u001b[0m\u001b[0;34m[\u001b[0m\u001b[0;36m0\u001b[0m\u001b[0;34m]\u001b[0m\u001b[0;34m)\u001b[0m \u001b[0;34m==\u001b[0m \u001b[0mlist\u001b[0m\u001b[0;34m:\u001b[0m\u001b[0;34m\u001b[0m\u001b[0;34m\u001b[0m\u001b[0m\n\u001b[0;32m----> 7\u001b[0;31m     \u001b[0;32mreturn\u001b[0m \u001b[0mflatten\u001b[0m\u001b[0;34m(\u001b[0m\u001b[0mdata\u001b[0m\u001b[0;34m[\u001b[0m\u001b[0;36m0\u001b[0m\u001b[0;34m]\u001b[0m\u001b[0;34m)\u001b[0m \u001b[0;34m+\u001b[0m \u001b[0mflatten\u001b[0m\u001b[0;34m(\u001b[0m\u001b[0mdate\u001b[0m\u001b[0;34m[\u001b[0m\u001b[0;36m1\u001b[0m\u001b[0;34m:\u001b[0m\u001b[0;34m]\u001b[0m\u001b[0;34m)\u001b[0m\u001b[0;34m\u001b[0m\u001b[0;34m\u001b[0m\u001b[0m\n\u001b[0m\u001b[1;32m      8\u001b[0m \u001b[0;34m\u001b[0m\u001b[0m\n\u001b[1;32m      9\u001b[0m \u001b[0mexample\u001b[0m \u001b[0;34m=\u001b[0m \u001b[0;34m[\u001b[0m\u001b[0;34m[\u001b[0m\u001b[0;36m1\u001b[0m\u001b[0;34m,\u001b[0m \u001b[0;36m2\u001b[0m\u001b[0;34m,\u001b[0m \u001b[0;36m3\u001b[0m\u001b[0;34m]\u001b[0m\u001b[0;34m,\u001b[0m \u001b[0;34m[\u001b[0m\u001b[0;36m4\u001b[0m\u001b[0;34m,\u001b[0m \u001b[0;34m[\u001b[0m\u001b[0;36m5\u001b[0m\u001b[0;34m,\u001b[0m \u001b[0;36m6\u001b[0m\u001b[0;34m]\u001b[0m\u001b[0;34m]\u001b[0m\u001b[0;34m,\u001b[0m \u001b[0;36m7\u001b[0m\u001b[0;34m,\u001b[0m \u001b[0;34m[\u001b[0m\u001b[0;36m8\u001b[0m\u001b[0;34m,\u001b[0m \u001b[0;36m9\u001b[0m\u001b[0;34m]\u001b[0m\u001b[0;34m]\u001b[0m\u001b[0;34m\u001b[0m\u001b[0;34m\u001b[0m\u001b[0m\n",
            "\u001b[0;32m<ipython-input-33-961e1ab6626f>\u001b[0m in \u001b[0;36mflatten\u001b[0;34m(data)\u001b[0m\n\u001b[1;32m      3\u001b[0m     \u001b[0;32mreturn\u001b[0m \u001b[0;34m[\u001b[0m\u001b[0;34m]\u001b[0m\u001b[0;34m\u001b[0m\u001b[0;34m\u001b[0m\u001b[0m\n\u001b[1;32m      4\u001b[0m   \u001b[0;32mif\u001b[0m \u001b[0mtype\u001b[0m\u001b[0;34m(\u001b[0m\u001b[0mdata\u001b[0m\u001b[0;34m[\u001b[0m\u001b[0;36m0\u001b[0m\u001b[0;34m]\u001b[0m\u001b[0;34m)\u001b[0m \u001b[0;34m==\u001b[0m \u001b[0mint\u001b[0m\u001b[0;34m:\u001b[0m\u001b[0;34m\u001b[0m\u001b[0;34m\u001b[0m\u001b[0m\n\u001b[0;32m----> 5\u001b[0;31m     \u001b[0;32mreturn\u001b[0m \u001b[0;34m[\u001b[0m\u001b[0mdata\u001b[0m\u001b[0;34m[\u001b[0m\u001b[0;36m0\u001b[0m\u001b[0;34m]\u001b[0m\u001b[0;34m]\u001b[0m \u001b[0;34m+\u001b[0m \u001b[0mflatten\u001b[0m\u001b[0;34m(\u001b[0m\u001b[0mdate\u001b[0m\u001b[0;34m[\u001b[0m\u001b[0;36m1\u001b[0m\u001b[0;34m:\u001b[0m\u001b[0;34m]\u001b[0m\u001b[0;34m)\u001b[0m\u001b[0;34m\u001b[0m\u001b[0;34m\u001b[0m\u001b[0m\n\u001b[0m\u001b[1;32m      6\u001b[0m   \u001b[0;32mif\u001b[0m \u001b[0mtype\u001b[0m\u001b[0;34m(\u001b[0m\u001b[0mdata\u001b[0m\u001b[0;34m[\u001b[0m\u001b[0;36m0\u001b[0m\u001b[0;34m]\u001b[0m\u001b[0;34m)\u001b[0m \u001b[0;34m==\u001b[0m \u001b[0mlist\u001b[0m\u001b[0;34m:\u001b[0m\u001b[0;34m\u001b[0m\u001b[0;34m\u001b[0m\u001b[0m\n\u001b[1;32m      7\u001b[0m     \u001b[0;32mreturn\u001b[0m \u001b[0mflatten\u001b[0m\u001b[0;34m(\u001b[0m\u001b[0mdata\u001b[0m\u001b[0;34m[\u001b[0m\u001b[0;36m0\u001b[0m\u001b[0;34m]\u001b[0m\u001b[0;34m)\u001b[0m \u001b[0;34m+\u001b[0m \u001b[0mflatten\u001b[0m\u001b[0;34m(\u001b[0m\u001b[0mdate\u001b[0m\u001b[0;34m[\u001b[0m\u001b[0;36m1\u001b[0m\u001b[0;34m:\u001b[0m\u001b[0;34m]\u001b[0m\u001b[0;34m)\u001b[0m\u001b[0;34m\u001b[0m\u001b[0;34m\u001b[0m\u001b[0m\n",
            "\u001b[0;31mNameError\u001b[0m: name 'date' is not defined"
          ]
        }
      ]
    },
    {
      "cell_type": "code",
      "metadata": {
        "id": "JeKPC4j1KE7w",
        "colab_type": "code",
        "colab": {}
      },
      "source": [
        ""
      ],
      "execution_count": null,
      "outputs": []
    }
  ]
}