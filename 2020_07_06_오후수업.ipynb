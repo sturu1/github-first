{
  "nbformat": 4,
  "nbformat_minor": 0,
  "metadata": {
    "colab": {
      "name": "2020_07_06_오후수업.ipynb",
      "provenance": [],
      "authorship_tag": "ABX9TyMoX83IKFkMA3e8try+B5OJ",
      "include_colab_link": true
    },
    "kernelspec": {
      "name": "python3",
      "display_name": "Python 3"
    },
    "accelerator": "GPU"
  },
  "cells": [
    {
      "cell_type": "markdown",
      "metadata": {
        "id": "view-in-github",
        "colab_type": "text"
      },
      "source": [
        "<a href=\"https://colab.research.google.com/github/sturu1/github-first/blob/master/2020_07_06_%EC%98%A4%ED%9B%84%EC%88%98%EC%97%85.ipynb\" target=\"_parent\"><img src=\"https://colab.research.google.com/assets/colab-badge.svg\" alt=\"Open In Colab\"/></a>"
      ]
    },
    {
      "cell_type": "markdown",
      "metadata": {
        "id": "clX2cCDajR9V",
        "colab_type": "text"
      },
      "source": [
        "# IMDB dataset"
      ]
    },
    {
      "cell_type": "code",
      "metadata": {
        "id": "FOAfgQf4hnqR",
        "colab_type": "code",
        "colab": {
          "base_uri": "https://localhost:8080/",
          "height": 523
        },
        "outputId": "4af5f68f-12df-4fd8-85e2-78bde08b9f96"
      },
      "source": [
        "import tensorflow as tf\n",
        "import matplotlib.pyplot as plt\n",
        "import numpy as np\n",
        "\n",
        "NUM_WORDS = 10000\n",
        "\n",
        "imdb = tf.keras.datasets.imdb\n",
        "#토큰화. 정수인코딩 텍스트 전처리가 끝난 상태의 데이터를 받을 수 잇음\n",
        "\n",
        "(x_train, y_train), (x_test, y_test) = imdb.load_data(num_words = NUM_WORDS)\n",
        "print(\"첫번째 리뷰데이터: {}\", x_train[0])\n",
        "\n",
        "\n",
        "\n",
        "len_resuit = [len(s) for s in x_train]\n",
        "print(\"리뷰의 최대길이: {} \", format(np.max(len_resuit)))\n",
        "print(\"리뷰의 최소길이: {} \", format(np.min(len_resuit)))\n",
        "\n",
        "#대체적으로 1000이하의 길이를 가지며, 특히 100~500길이를 가진 데이터가 많다\n",
        "#반면, 가장 긴 길이를 가진 데이터는 2000개의 단어수를 넘기도 함\n",
        "plt.subplot(1, 2, 1)\n",
        "plt.boxplot(len_resuit)\n",
        "plt.subplot(1, 2, 2)\n",
        "plt.hist(len_resuit, bins=50)\n",
        "plt.show()\n",
        "\n",
        "#Pesore the original sentence from imdb dataset\n",
        "\n",
        "INDEX_FROM = 3\n",
        "word_to_id = imdb.get_word_index()\n",
        "word_to_id = {k:(v+INDEX_FROM) for k, v in word_to_id.items()}\n",
        "word_to_id[\"<PAD>\"] = 0\n",
        "word_to_id[\"<START\"] = 1\n",
        "word_to_id[\"<UNK>\"] = 2\n",
        "word_to_id[\"<UNUSED>\"] = 3\n",
        "\n",
        "id_to_word = {value:key for key, value in word_to_id.items()}\n",
        "print(' '.join(id_to_word[id] for id in x_train[0]))\n",
        "\n",
        "#데이터셋의 입력정보를 맞춰 주기위해서 특정 길이를 잘라줘야함\n",
        "#길이에 못미치는 문장들은 패딩처리 해줘야함\n",
        "x_train = tf.keras.preprocessing.sequence.pad_sequences(x_train, value = 0, padding = 'pre', maxlen=(32))\n",
        "x_test = tf.keras.preprocessing.sequence.pad_sequences(x_test, value = 0, padding = 'pre', maxlen=(32))\n",
        "\n",
        "#훈련, 테스트 데이터를 텐서플로우 라이브러리 tf.data.Dataset을 활용하여 관리\n",
        "#자동으로 셔플링, 배치크리로 나누어서 train_ds, test_ds에 담아둔다\n",
        "train_ds = tf.data.Dataset.from_tensor_slices((x_train, y_train)).shuffle(1000).batch(32)\n",
        "test_ds = tf.data.Dataset.from_tensor_slices((x_test, y_test)).batch(32)\n",
        "\n",
        "\n",
        "#------------------------------여기까지 데이터 이야기\n",
        "EPOCHS = 10\n",
        "\n",
        "class MyModel(tf.keras.Model):\n",
        "  #사용할 layer 오브젝트들을 독립적으로 정의\n",
        "  def __init__(self):\n",
        "    super(MyModel, self).__init__()\n",
        "    #길이가 10000인 one-hot 백터를 길이가 16인 feature벡터로 변경\n",
        "    self.emb = tf.keras.layers.Embedding(NUM_WORDS, 64)\n",
        "    self.rnn1 = tf.keras.layers.LSTM(32, input_shape=(64, 1), return_sequences = True)\n",
        "    self.rnn2 = tf.keras.layers.LSTM(32, return_sequences= True)\n",
        "    self.rnn3 = tf.keras.layers.LSTM(32, return_sequences= False)\n",
        "    self.dense = tf.keras.layers.Dense(2, activation = 'softmax')\n",
        "\n",
        "  #x는 입력데이터\n",
        "  #정의된 오브젝트들 같 관계를 만들어줌\n",
        "  def call(self, x, training=None, mask = None):\n",
        "    x = self.emb(x)\n",
        "    x = self.rnn1(x)\n",
        "    x = self.rnn2(x)\n",
        "    x = self.rnn3(x)\n",
        "    x = self.dense(x)\n",
        "    return x\n",
        "\n",
        "def train_step(model, inputs, labels, loss_object, optimizer, train_loss, train_accuracy):\n",
        "  #그래디언트 (미분 값)가 기록됨 #labels(정답)\n",
        "  with tf.GradientTape() as tape:\n",
        "    predictions = model(inputs, training = True)\n",
        "    loss = loss_object(labels, predictions)\n",
        "    gradients = tape.gradient(loss, model.trainable_variables)\n",
        "\n",
        "    optimizer.apply_gradients(zip(gradients, model.trainable_variables))\n",
        "\n",
        "    train_loss(loss)\n",
        "    train_accuracy(labels, predictions)\n",
        "\n",
        "def test_step(model, inputs, labels, loss_object, test_loss, test_accuracy):\n",
        "  predictions = model(inputs, training = False)\n",
        "  t_loss = loss_object(labels, predictions)\n",
        "  test_loss(t_loss)\n",
        "  test_accuracy(labels, predictions)\n",
        "\n",
        "#=================== 모델, 학습모듈이 정의되었음\n",
        "\n",
        "#커스텀된 모델 인스천스 생성\n",
        "model = MyModel()\n",
        "#loss_fuction 생성\n",
        "loss_object = tf.keras.losses.SparseCategoricalCrossentropy()\n",
        "#최적화 함수 받아오기\n",
        "optimizer = tf.keras.optimizers.Adam()\n",
        "\n",
        "#성능 측정방법 정의\n",
        "train_loss = tf.keras.metrics.Mean(name='train_loss')\n",
        "train_accuracy = tf.keras.metrics.SparseCategoricalAccuracy(name='train_accuracy')\n",
        "\n",
        "test_loss = tf.keras.metrics.Mean(name='test_loss')\n",
        "test_accuracy = tf.keras.metrics.SparseCategoricalAccuracy(name='test_accuracy')\n",
        "\n",
        "#=================학습에 필요한 준비물 완료\n",
        "#이제 학습 루틴\n",
        "EPOCHS = 10\n",
        "\n",
        "for epoch in range(EPOCHS):\n",
        "  #훈련데이터 가져와서 학습\n",
        "  for seqs, labels in train_ds:\n",
        "    train_step(model, seqs, labels, loss_object, optimizer, train_loss, train_accuracy)\n",
        "\n",
        "  #테스트데이터 가져와서 테스트 및 정확도 측정\n",
        "  for seqs, labels in test_ds:\n",
        "    test_step(model, seqs, labels, loss_object, train_loss, train_accuracy)\n",
        "\n",
        "  templete = 'epoch {}, loss: {}, acc: {}, test_loss: {}, test_acc: {}'\n",
        "  print(templete.format(epoch+1,\n",
        "                        train_loss.result(),\n",
        "                        train_accuracy.result(),\n",
        "                        train_loss.result(),\n",
        "                        test_accuracy.result()\n",
        "                        ))\n",
        "\n",
        "train_loss.reset_states()\n",
        "train_accuracy.reset_states()\n",
        "train_loss.reset_states()\n",
        "test_accuracy.reset_states()"
      ],
      "execution_count": 14,
      "outputs": [
        {
          "output_type": "stream",
          "text": [
            "첫번째 리뷰데이터: {} [1, 14, 22, 16, 43, 530, 973, 1622, 1385, 65, 458, 4468, 66, 3941, 4, 173, 36, 256, 5, 25, 100, 43, 838, 112, 50, 670, 2, 9, 35, 480, 284, 5, 150, 4, 172, 112, 167, 2, 336, 385, 39, 4, 172, 4536, 1111, 17, 546, 38, 13, 447, 4, 192, 50, 16, 6, 147, 2025, 19, 14, 22, 4, 1920, 4613, 469, 4, 22, 71, 87, 12, 16, 43, 530, 38, 76, 15, 13, 1247, 4, 22, 17, 515, 17, 12, 16, 626, 18, 2, 5, 62, 386, 12, 8, 316, 8, 106, 5, 4, 2223, 5244, 16, 480, 66, 3785, 33, 4, 130, 12, 16, 38, 619, 5, 25, 124, 51, 36, 135, 48, 25, 1415, 33, 6, 22, 12, 215, 28, 77, 52, 5, 14, 407, 16, 82, 2, 8, 4, 107, 117, 5952, 15, 256, 4, 2, 7, 3766, 5, 723, 36, 71, 43, 530, 476, 26, 400, 317, 46, 7, 4, 2, 1029, 13, 104, 88, 4, 381, 15, 297, 98, 32, 2071, 56, 26, 141, 6, 194, 7486, 18, 4, 226, 22, 21, 134, 476, 26, 480, 5, 144, 30, 5535, 18, 51, 36, 28, 224, 92, 25, 104, 4, 226, 65, 16, 38, 1334, 88, 12, 16, 283, 5, 16, 4472, 113, 103, 32, 15, 16, 5345, 19, 178, 32]\n",
            "리뷰의 최대길이: {}  2494\n",
            "리뷰의 최소길이: {}  11\n"
          ],
          "name": "stdout"
        },
        {
          "output_type": "display_data",
          "data": {
            "image/png": "[encoded data removed]",
            "text/plain": [
              "<Figure size 432x288 with 2 Axes>"
            ]
          },
          "metadata": {
            "tags": [],
            "needs_background": "light"
          }
        },
        {
          "output_type": "stream",
          "text": [
            "<START this film was just brilliant casting location scenery story direction everyone's really suited the part they played and you could just imagine being there robert <UNK> is an amazing actor and now the same being director <UNK> father came from the same scottish island as myself so i loved the fact there was a real connection with this film the witty remarks throughout the film were great it was just brilliant so much that i bought the film as soon as it was released for <UNK> and would recommend it to everyone to watch and the fly fishing was amazing really cried at the end it was so sad and you know what they say if you cry at a film it must have been good and this definitely was also <UNK> to the two little boy's that played the <UNK> of norman and paul they were just brilliant children are often left out of the <UNK> list i think because the stars that play them all grown up are such a big profile for the whole film but these children are amazing and should be praised for what they have done don't you think the whole story was so lovely because it was true and was someone's life after all that was shared with us all\n",
            "epoch 1, loss: 0.4766955077648163, acc: 0.763979971408844, test_loss: 0.4766955077648163, test_acc: 0.0\n",
            "epoch 2, loss: 0.4465150535106659, acc: 0.7896299958229065, test_loss: 0.4465150535106659, test_acc: 0.0\n",
            "epoch 3, loss: 0.44421204924583435, acc: 0.8025000095367432, test_loss: 0.44421204924583435, test_acc: 0.0\n",
            "epoch 4, loss: 0.4534972608089447, acc: 0.8102999925613403, test_loss: 0.4534972608089447, test_acc: 0.0\n",
            "epoch 5, loss: 0.4821484386920929, acc: 0.8193240165710449, test_loss: 0.4821484386920929, test_acc: 0.0\n",
            "epoch 6, loss: 0.5034161806106567, acc: 0.8258166909217834, test_loss: 0.5034161806106567, test_acc: 0.0\n",
            "epoch 7, loss: 0.5179847478866577, acc: 0.8319028615951538, test_loss: 0.5179847478866577, test_acc: 0.0\n",
            "epoch 8, loss: 0.5348252058029175, acc: 0.8361600041389465, test_loss: 0.5348252058029175, test_acc: 0.0\n",
            "epoch 9, loss: 0.5536158680915833, acc: 0.839900016784668, test_loss: 0.5536158680915833, test_acc: 0.0\n",
            "epoch 10, loss: 0.5726838111877441, acc: 0.8425639867782593, test_loss: 0.5726838111877441, test_acc: 0.0\n"
          ],
          "name": "stdout"
        }
      ]
    },
    {
      "cell_type": "code",
      "metadata": {
        "id": "pYet5rqhvZjc",
        "colab_type": "code",
        "colab": {}
      },
      "source": [
        "\n"
      ],
      "execution_count": 13,
      "outputs": []
    },
    {
      "cell_type": "code",
      "metadata": {
        "id": "9Sq4rz6kJ-lz",
        "colab_type": "code",
        "colab": {}
      },
      "source": [
        ""
      ],
      "execution_count": null,
      "outputs": []
    }
  ]
}